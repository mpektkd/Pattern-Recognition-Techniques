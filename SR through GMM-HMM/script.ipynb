{
  "cells": [
    {
      "cell_type": "markdown",
      "metadata": {
        "id": "h3prmW9vlCNN"
      },
      "source": [
        "#### Specific Version's Packages Installation"
      ]
    },
    {
      "cell_type": "code",
      "execution_count": null,
      "metadata": {
        "colab": {
          "base_uri": "https://localhost:8080/",
          "height": 1000
        },
        "id": "cXM7yT6Ur9ng",
        "outputId": "3326b894-428f-42dc-ab2d-c96630a32cf1"
      },
      "outputs": [
        {
          "name": "stdout",
          "output_type": "stream",
          "text": [
            "Collecting gensim==3.8.1\n",
            "  Downloading gensim-3.8.1-cp37-cp37m-manylinux1_x86_64.whl (24.2 MB)\n",
            "\u001b[K     |████████████████████████████████| 24.2 MB 2.6 MB/s \n",
            "\u001b[?25hCollecting matplotlib==3.1.0\n",
            "  Downloading matplotlib-3.1.0-cp37-cp37m-manylinux1_x86_64.whl (13.1 MB)\n",
            "\u001b[K     |████████████████████████████████| 13.1 MB 44.8 MB/s \n",
            "\u001b[?25hCollecting nltk==3.4.4\n",
            "  Downloading nltk-3.4.4.zip (1.5 MB)\n",
            "\u001b[K     |████████████████████████████████| 1.5 MB 31.1 MB/s \n",
            "\u001b[?25hCollecting numpy==1.16.4\n",
            "  Downloading numpy-1.16.4-cp37-cp37m-manylinux1_x86_64.whl (17.3 MB)\n",
            "\u001b[K     |████████████████████████████████| 17.3 MB 208 kB/s \n",
            "\u001b[?25hCollecting pandas==0.24.2\n",
            "  Downloading pandas-0.24.2-cp37-cp37m-manylinux1_x86_64.whl (10.1 MB)\n",
            "\u001b[K     |████████████████████████████████| 10.1 MB 29.7 MB/s \n",
            "\u001b[?25hCollecting pomegranate==0.12.0\n",
            "  Downloading pomegranate-0.12.0-cp37-cp37m-manylinux1_x86_64.whl (5.6 MB)\n",
            "\u001b[K     |████████████████████████████████| 5.6 MB 6.5 MB/s \n",
            "\u001b[?25hCollecting scikit-image==0.15.0\n",
            "  Downloading scikit_image-0.15.0-cp37-cp37m-manylinux1_x86_64.whl (26.3 MB)\n",
            "\u001b[K     |████████████████████████████████| 26.3 MB 2.7 MB/s \n",
            "\u001b[?25hCollecting scikit-learn==0.21.2\n",
            "  Downloading scikit_learn-0.21.2-cp37-cp37m-manylinux1_x86_64.whl (6.7 MB)\n",
            "\u001b[K     |████████████████████████████████| 6.7 MB 46.1 MB/s \n",
            "\u001b[?25hCollecting scipy==1.3.0\n",
            "  Downloading scipy-1.3.0-cp37-cp37m-manylinux1_x86_64.whl (25.2 MB)\n",
            "\u001b[K     |████████████████████████████████| 25.2 MB 2.1 MB/s \n",
            "\u001b[?25hCollecting seaborn==0.9.0\n",
            "  Downloading seaborn-0.9.0-py3-none-any.whl (208 kB)\n",
            "\u001b[K     |████████████████████████████████| 208 kB 45.7 MB/s \n",
            "\u001b[?25hCollecting torch==1.3.1\n",
            "  Downloading torch-1.3.1-cp37-cp37m-manylinux1_x86_64.whl (734.6 MB)\n",
            "\u001b[K     |████████████████████████████████| 734.6 MB 17 kB/s \n",
            "\u001b[?25hCollecting torchvision==0.4.2\n",
            "  Downloading torchvision-0.4.2-cp37-cp37m-manylinux1_x86_64.whl (10.2 MB)\n",
            "\u001b[K     |████████████████████████████████| 10.2 MB 34.4 MB/s \n",
            "\u001b[?25hCollecting tqdm==4.32.1\n",
            "  Downloading tqdm-4.32.1-py2.py3-none-any.whl (49 kB)\n",
            "\u001b[K     |████████████████████████████████| 49 kB 6.3 MB/s \n",
            "\u001b[?25hCollecting joblib==0.17.0\n",
            "  Downloading joblib-0.17.0-py3-none-any.whl (301 kB)\n",
            "\u001b[K     |████████████████████████████████| 301 kB 65.2 MB/s \n",
            "\u001b[?25hCollecting numba==0.48.0\n",
            "  Downloading numba-0.48.0-1-cp37-cp37m-manylinux2014_x86_64.whl (3.5 MB)\n",
            "\u001b[K     |████████████████████████████████| 3.5 MB 36.4 MB/s \n",
            "\u001b[?25hCollecting librosa==0.7.1\n",
            "  Downloading librosa-0.7.1.tar.gz (1.6 MB)\n",
            "\u001b[K     |████████████████████████████████| 1.6 MB 48.0 MB/s \n",
            "\u001b[?25hCollecting pickle-mixin\n",
            "  Downloading pickle-mixin-1.0.2.tar.gz (5.1 kB)\n",
            "Collecting optuna\n",
            "  Downloading optuna-2.10.0-py3-none-any.whl (308 kB)\n",
            "\u001b[K     |████████████████████████████████| 308 kB 65.8 MB/s \n",
            "\u001b[?25hRequirement already satisfied: six>=1.5.0 in /usr/local/lib/python3.7/dist-packages (from gensim==3.8.1->-r requirments.txt (line 1)) (1.15.0)\n",
            "Requirement already satisfied: smart-open>=1.8.1 in /usr/local/lib/python3.7/dist-packages (from gensim==3.8.1->-r requirments.txt (line 1)) (5.2.1)\n",
            "Requirement already satisfied: python-dateutil>=2.1 in /usr/local/lib/python3.7/dist-packages (from matplotlib==3.1.0->-r requirments.txt (line 2)) (2.8.2)\n",
            "Requirement already satisfied: kiwisolver>=1.0.1 in /usr/local/lib/python3.7/dist-packages (from matplotlib==3.1.0->-r requirments.txt (line 2)) (1.3.2)\n",
            "Requirement already satisfied: pyparsing!=2.0.4,!=2.1.2,!=2.1.6,>=2.0.1 in /usr/local/lib/python3.7/dist-packages (from matplotlib==3.1.0->-r requirments.txt (line 2)) (3.0.6)\n",
            "Requirement already satisfied: cycler>=0.10 in /usr/local/lib/python3.7/dist-packages (from matplotlib==3.1.0->-r requirments.txt (line 2)) (0.11.0)\n",
            "Requirement already satisfied: pytz>=2011k in /usr/local/lib/python3.7/dist-packages (from pandas==0.24.2->-r requirments.txt (line 5)) (2018.9)\n",
            "Requirement already satisfied: pyyaml in /usr/local/lib/python3.7/dist-packages (from pomegranate==0.12.0->-r requirments.txt (line 6)) (3.13)\n",
            "Requirement already satisfied: networkx>=2.0 in /usr/local/lib/python3.7/dist-packages (from pomegranate==0.12.0->-r requirments.txt (line 6)) (2.6.3)\n",
            "Requirement already satisfied: pillow>=4.3.0 in /usr/local/lib/python3.7/dist-packages (from scikit-image==0.15.0->-r requirments.txt (line 7)) (7.1.2)\n",
            "Requirement already satisfied: imageio>=2.0.1 in /usr/local/lib/python3.7/dist-packages (from scikit-image==0.15.0->-r requirments.txt (line 7)) (2.4.1)\n",
            "Requirement already satisfied: PyWavelets>=0.4.0 in /usr/local/lib/python3.7/dist-packages (from scikit-image==0.15.0->-r requirments.txt (line 7)) (1.2.0)\n",
            "Requirement already satisfied: setuptools in /usr/local/lib/python3.7/dist-packages (from numba==0.48.0->-r requirments.txt (line 15)) (57.4.0)\n",
            "Collecting llvmlite<0.32.0,>=0.31.0dev0\n",
            "  Downloading llvmlite-0.31.0-cp37-cp37m-manylinux1_x86_64.whl (20.2 MB)\n",
            "\u001b[K     |████████████████████████████████| 20.2 MB 1.3 MB/s \n",
            "\u001b[?25hRequirement already satisfied: audioread>=2.0.0 in /usr/local/lib/python3.7/dist-packages (from librosa==0.7.1->-r requirments.txt (line 16)) (2.1.9)\n",
            "Requirement already satisfied: decorator>=3.0.0 in /usr/local/lib/python3.7/dist-packages (from librosa==0.7.1->-r requirments.txt (line 16)) (4.4.2)\n",
            "Requirement already satisfied: resampy>=0.2.2 in /usr/local/lib/python3.7/dist-packages (from librosa==0.7.1->-r requirments.txt (line 16)) (0.2.2)\n",
            "Requirement already satisfied: soundfile>=0.9.0 in /usr/local/lib/python3.7/dist-packages (from librosa==0.7.1->-r requirments.txt (line 16)) (0.10.3.post1)\n",
            "Collecting PyWavelets>=0.4.0\n",
            "  Downloading PyWavelets-1.1.1-cp37-cp37m-manylinux1_x86_64.whl (4.4 MB)\n",
            "\u001b[K     |████████████████████████████████| 4.4 MB 54.4 MB/s \n",
            "\u001b[?25hRequirement already satisfied: cffi>=1.0 in /usr/local/lib/python3.7/dist-packages (from soundfile>=0.9.0->librosa==0.7.1->-r requirments.txt (line 16)) (1.15.0)\n",
            "Requirement already satisfied: pycparser in /usr/local/lib/python3.7/dist-packages (from cffi>=1.0->soundfile>=0.9.0->librosa==0.7.1->-r requirments.txt (line 16)) (2.21)\n",
            "Requirement already satisfied: sqlalchemy>=1.1.0 in /usr/local/lib/python3.7/dist-packages (from optuna->-r requirments.txt (line 18)) (1.4.27)\n",
            "Collecting cmaes>=0.8.2\n",
            "  Downloading cmaes-0.8.2-py3-none-any.whl (15 kB)\n",
            "Collecting alembic\n",
            "  Downloading alembic-1.7.5-py3-none-any.whl (209 kB)\n",
            "\u001b[K     |████████████████████████████████| 209 kB 46.0 MB/s \n",
            "\u001b[?25hCollecting colorlog\n",
            "  Downloading colorlog-6.6.0-py2.py3-none-any.whl (11 kB)\n",
            "Requirement already satisfied: packaging>=20.0 in /usr/local/lib/python3.7/dist-packages (from optuna->-r requirments.txt (line 18)) (21.3)\n",
            "Collecting cliff\n",
            "  Downloading cliff-3.10.0-py3-none-any.whl (80 kB)\n",
            "\u001b[K     |████████████████████████████████| 80 kB 9.0 MB/s \n",
            "\u001b[?25hRequirement already satisfied: greenlet!=0.4.17 in /usr/local/lib/python3.7/dist-packages (from sqlalchemy>=1.1.0->optuna->-r requirments.txt (line 18)) (1.1.2)\n",
            "Requirement already satisfied: importlib-metadata in /usr/local/lib/python3.7/dist-packages (from sqlalchemy>=1.1.0->optuna->-r requirments.txt (line 18)) (4.8.2)\n",
            "Requirement already satisfied: importlib-resources in /usr/local/lib/python3.7/dist-packages (from alembic->optuna->-r requirments.txt (line 18)) (5.4.0)\n",
            "Collecting Mako\n",
            "  Downloading Mako-1.1.6-py2.py3-none-any.whl (75 kB)\n",
            "\u001b[K     |████████████████████████████████| 75 kB 4.9 MB/s \n",
            "\u001b[?25hCollecting pbr!=2.1.0,>=2.0.0\n",
            "  Downloading pbr-5.8.0-py2.py3-none-any.whl (112 kB)\n",
            "\u001b[K     |████████████████████████████████| 112 kB 53.2 MB/s \n",
            "\u001b[?25hCollecting autopage>=0.4.0\n",
            "  Downloading autopage-0.4.0-py3-none-any.whl (20 kB)\n",
            "Collecting cmd2>=1.0.0\n",
            "  Downloading cmd2-2.3.3-py3-none-any.whl (149 kB)\n",
            "\u001b[K     |████████████████████████████████| 149 kB 54.5 MB/s \n",
            "\u001b[?25hCollecting stevedore>=2.0.1\n",
            "  Downloading stevedore-3.5.0-py3-none-any.whl (49 kB)\n",
            "\u001b[K     |████████████████████████████████| 49 kB 6.5 MB/s \n",
            "\u001b[?25hRequirement already satisfied: PrettyTable>=0.7.2 in /usr/local/lib/python3.7/dist-packages (from cliff->optuna->-r requirments.txt (line 18)) (2.4.0)\n",
            "Requirement already satisfied: wcwidth>=0.1.7 in /usr/local/lib/python3.7/dist-packages (from cmd2>=1.0.0->cliff->optuna->-r requirments.txt (line 18)) (0.2.5)\n",
            "Collecting pyperclip>=1.6\n",
            "  Downloading pyperclip-1.8.2.tar.gz (20 kB)\n",
            "Requirement already satisfied: typing-extensions in /usr/local/lib/python3.7/dist-packages (from cmd2>=1.0.0->cliff->optuna->-r requirments.txt (line 18)) (3.10.0.2)\n",
            "Requirement already satisfied: attrs>=16.3.0 in /usr/local/lib/python3.7/dist-packages (from cmd2>=1.0.0->cliff->optuna->-r requirments.txt (line 18)) (21.2.0)\n",
            "Requirement already satisfied: zipp>=0.5 in /usr/local/lib/python3.7/dist-packages (from importlib-metadata->sqlalchemy>=1.1.0->optuna->-r requirments.txt (line 18)) (3.6.0)\n",
            "Requirement already satisfied: MarkupSafe>=0.9.2 in /usr/local/lib/python3.7/dist-packages (from Mako->alembic->optuna->-r requirments.txt (line 18)) (2.0.1)\n",
            "Building wheels for collected packages: nltk, librosa, pickle-mixin, pyperclip\n",
            "  Building wheel for nltk (setup.py) ... \u001b[?25l\u001b[?25hdone\n",
            "  Created wheel for nltk: filename=nltk-3.4.4-py3-none-any.whl size=1450235 sha256=5fe2ece1712e3a455fc84492933ea69408bc599476517e38c66bd2f7ce5522c3\n",
            "  Stored in directory: /root/.cache/pip/wheels/73/28/18/d5bdb0068269770efa004fccd72e55aaaed39cd79dc142ad50\n",
            "  Building wheel for librosa (setup.py) ... \u001b[?25l\u001b[?25hdone\n",
            "  Created wheel for librosa: filename=librosa-0.7.1-py3-none-any.whl size=1610170 sha256=034ec4a0eaa4c84ded8c7ec3335c61942ff105c45a0c7fbe7866bd3db21d468a\n",
            "  Stored in directory: /root/.cache/pip/wheels/2f/77/a6/bb2a44a37b740767295b9cbb3c3a4efd1c7ef20061c2e6bbf1\n",
            "  Building wheel for pickle-mixin (setup.py) ... \u001b[?25l\u001b[?25hdone\n",
            "  Created wheel for pickle-mixin: filename=pickle_mixin-1.0.2-py3-none-any.whl size=6008 sha256=fd3b92c0363e342c6eafa62de980bdbcd25560dd51a31076ba19b4d64046a652\n",
            "  Stored in directory: /root/.cache/pip/wheels/d0/70/0b/673e09a7ed429660d22352a1b117b4f616a8fc054bdd7eb157\n",
            "  Building wheel for pyperclip (setup.py) ... \u001b[?25l\u001b[?25hdone\n",
            "  Created wheel for pyperclip: filename=pyperclip-1.8.2-py3-none-any.whl size=11136 sha256=2885be7728bfe666e503850e036fe77fda7955bb9ef05cf38506886ef294b4dc\n",
            "  Stored in directory: /root/.cache/pip/wheels/9f/18/84/8f69f8b08169c7bae2dde6bd7daf0c19fca8c8e500ee620a28\n",
            "Successfully built nltk librosa pickle-mixin pyperclip\n",
            "Installing collected packages: pyperclip, pbr, numpy, llvmlite, stevedore, scipy, numba, Mako, joblib, cmd2, autopage, tqdm, torch, scikit-learn, PyWavelets, pandas, matplotlib, colorlog, cmaes, cliff, alembic, torchvision, seaborn, scikit-image, pomegranate, pickle-mixin, optuna, nltk, librosa, gensim\n",
            "  Attempting uninstall: numpy\n",
            "    Found existing installation: numpy 1.19.5\n",
            "    Uninstalling numpy-1.19.5:\n",
            "      Successfully uninstalled numpy-1.19.5\n",
            "  Attempting uninstall: llvmlite\n",
            "    Found existing installation: llvmlite 0.34.0\n",
            "    Uninstalling llvmlite-0.34.0:\n",
            "      Successfully uninstalled llvmlite-0.34.0\n",
            "  Attempting uninstall: scipy\n",
            "    Found existing installation: scipy 1.4.1\n",
            "    Uninstalling scipy-1.4.1:\n",
            "      Successfully uninstalled scipy-1.4.1\n",
            "  Attempting uninstall: numba\n",
            "    Found existing installation: numba 0.51.2\n",
            "    Uninstalling numba-0.51.2:\n",
            "      Successfully uninstalled numba-0.51.2\n",
            "  Attempting uninstall: joblib\n",
            "    Found existing installation: joblib 1.1.0\n",
            "    Uninstalling joblib-1.1.0:\n",
            "      Successfully uninstalled joblib-1.1.0\n",
            "  Attempting uninstall: tqdm\n",
            "    Found existing installation: tqdm 4.62.3\n",
            "    Uninstalling tqdm-4.62.3:\n",
            "      Successfully uninstalled tqdm-4.62.3\n",
            "  Attempting uninstall: torch\n",
            "    Found existing installation: torch 1.10.0+cu111\n",
            "    Uninstalling torch-1.10.0+cu111:\n",
            "      Successfully uninstalled torch-1.10.0+cu111\n",
            "  Attempting uninstall: scikit-learn\n",
            "    Found existing installation: scikit-learn 1.0.1\n",
            "    Uninstalling scikit-learn-1.0.1:\n",
            "      Successfully uninstalled scikit-learn-1.0.1\n",
            "  Attempting uninstall: PyWavelets\n",
            "    Found existing installation: PyWavelets 1.2.0\n",
            "    Uninstalling PyWavelets-1.2.0:\n",
            "      Successfully uninstalled PyWavelets-1.2.0\n",
            "  Attempting uninstall: pandas\n",
            "    Found existing installation: pandas 1.1.5\n",
            "    Uninstalling pandas-1.1.5:\n",
            "      Successfully uninstalled pandas-1.1.5\n",
            "  Attempting uninstall: matplotlib\n",
            "    Found existing installation: matplotlib 3.2.2\n",
            "    Uninstalling matplotlib-3.2.2:\n",
            "      Successfully uninstalled matplotlib-3.2.2\n",
            "  Attempting uninstall: torchvision\n",
            "    Found existing installation: torchvision 0.11.1+cu111\n",
            "    Uninstalling torchvision-0.11.1+cu111:\n",
            "      Successfully uninstalled torchvision-0.11.1+cu111\n",
            "  Attempting uninstall: seaborn\n",
            "    Found existing installation: seaborn 0.11.2\n",
            "    Uninstalling seaborn-0.11.2:\n",
            "      Successfully uninstalled seaborn-0.11.2\n",
            "  Attempting uninstall: scikit-image\n",
            "    Found existing installation: scikit-image 0.18.3\n",
            "    Uninstalling scikit-image-0.18.3:\n",
            "      Successfully uninstalled scikit-image-0.18.3\n",
            "  Attempting uninstall: nltk\n",
            "    Found existing installation: nltk 3.2.5\n",
            "    Uninstalling nltk-3.2.5:\n",
            "      Successfully uninstalled nltk-3.2.5\n",
            "  Attempting uninstall: librosa\n",
            "    Found existing installation: librosa 0.8.1\n",
            "    Uninstalling librosa-0.8.1:\n",
            "      Successfully uninstalled librosa-0.8.1\n",
            "  Attempting uninstall: gensim\n",
            "    Found existing installation: gensim 3.6.0\n",
            "    Uninstalling gensim-3.6.0:\n",
            "      Successfully uninstalled gensim-3.6.0\n",
            "\u001b[31mERROR: pip's dependency resolver does not currently take into account all the packages that are installed. This behaviour is the source of the following dependency conflicts.\n",
            "xarray 0.18.2 requires numpy>=1.17, but you have numpy 1.16.4 which is incompatible.\n",
            "xarray 0.18.2 requires pandas>=1.0, but you have pandas 0.24.2 which is incompatible.\n",
            "torchtext 0.11.0 requires torch==1.10.0, but you have torch 1.3.1 which is incompatible.\n",
            "torchaudio 0.10.0+cu111 requires torch==1.10.0, but you have torch 1.3.1 which is incompatible.\n",
            "spacy 2.2.4 requires tqdm<5.0.0,>=4.38.0, but you have tqdm 4.32.1 which is incompatible.\n",
            "pyerfa 2.0.0.1 requires numpy>=1.17, but you have numpy 1.16.4 which is incompatible.\n",
            "pyarrow 3.0.0 requires numpy>=1.16.6, but you have numpy 1.16.4 which is incompatible.\n",
            "plotnine 0.6.0 requires matplotlib>=3.1.1, but you have matplotlib 3.1.0 which is incompatible.\n",
            "plotnine 0.6.0 requires pandas>=0.25.0, but you have pandas 0.24.2 which is incompatible.\n",
            "panel 0.12.1 requires tqdm>=4.48.0, but you have tqdm 4.32.1 which is incompatible.\n",
            "mizani 0.6.0 requires matplotlib>=3.1.1, but you have matplotlib 3.1.0 which is incompatible.\n",
            "mizani 0.6.0 requires pandas>=0.25.0, but you have pandas 0.24.2 which is incompatible.\n",
            "kapre 0.3.6 requires librosa>=0.7.2, but you have librosa 0.7.1 which is incompatible.\n",
            "kapre 0.3.6 requires numpy>=1.18.5, but you have numpy 1.16.4 which is incompatible.\n",
            "jaxlib 0.1.71+cuda111 requires numpy>=1.18, but you have numpy 1.16.4 which is incompatible.\n",
            "jax 0.2.25 requires numpy>=1.18, but you have numpy 1.16.4 which is incompatible.\n",
            "imbalanced-learn 0.8.1 requires scikit-learn>=0.24, but you have scikit-learn 0.21.2 which is incompatible.\n",
            "google-colab 1.0.0 requires pandas~=1.1.0; python_version >= \"3.0\", but you have pandas 0.24.2 which is incompatible.\n",
            "fbprophet 0.7.1 requires pandas>=1.0.4, but you have pandas 0.24.2 which is incompatible.\n",
            "fbprophet 0.7.1 requires tqdm>=4.36.1, but you have tqdm 4.32.1 which is incompatible.\n",
            "datascience 0.10.6 requires folium==0.2.1, but you have folium 0.8.3 which is incompatible.\n",
            "astropy 4.3.1 requires numpy>=1.17, but you have numpy 1.16.4 which is incompatible.\n",
            "albumentations 0.1.12 requires imgaug<0.2.7,>=0.2.5, but you have imgaug 0.2.9 which is incompatible.\u001b[0m\n",
            "Successfully installed Mako-1.1.6 PyWavelets-1.1.1 alembic-1.7.5 autopage-0.4.0 cliff-3.10.0 cmaes-0.8.2 cmd2-2.3.3 colorlog-6.6.0 gensim-3.8.1 joblib-0.17.0 librosa-0.7.1 llvmlite-0.31.0 matplotlib-3.1.0 nltk-3.4.4 numba-0.48.0 numpy-1.16.4 optuna-2.10.0 pandas-0.24.2 pbr-5.8.0 pickle-mixin-1.0.2 pomegranate-0.12.0 pyperclip-1.8.2 scikit-image-0.15.0 scikit-learn-0.21.2 scipy-1.3.0 seaborn-0.9.0 stevedore-3.5.0 torch-1.3.1 torchvision-0.4.2 tqdm-4.32.1\n"
          ]
        },
        {
          "data": {
            "application/vnd.colab-display-data+json": {
              "pip_warning": {
                "packages": [
                  "matplotlib",
                  "mpl_toolkits",
                  "numpy",
                  "pandas"
                ]
              }
            }
          },
          "metadata": {},
          "output_type": "display_data"
        }
      ],
      "source": [
        "#!pip install -r requirements.txt"
      ]
    },
    {
      "cell_type": "markdown",
      "metadata": {
        "id": "eaHnsbNOlS98"
      },
      "source": [
        "#### Import Packages for use"
      ]
    },
    {
      "cell_type": "code",
      "execution_count": null,
      "metadata": {
        "_cell_guid": "b1076dfc-b9ad-4769-8c92-a6c4dae69d19",
        "_uuid": "8f2839f25d086af736a60e9eeb907d3b93b6e0e5",
        "execution": {
          "iopub.execute_input": "2021-12-05T22:51:02.307367Z",
          "iopub.status.busy": "2021-12-05T22:51:02.306398Z",
          "iopub.status.idle": "2021-12-05T22:51:02.457449Z",
          "shell.execute_reply": "2021-12-05T22:51:02.456572Z",
          "shell.execute_reply.started": "2021-12-05T22:51:02.307301Z"
        },
        "id": "X50-ZffW36V_",
        "trusted": true
      },
      "outputs": [],
      "source": [
        "import os\n",
        "import sys\n",
        "from glob import glob\n",
        "import copy\n",
        "import warnings\n",
        "import time\n",
        "\n",
        "from pomegranate import *\n",
        "import pickle\n",
        "import optuna\n",
        "\n",
        "import numpy as np\n",
        "import matplotlib.pyplot as plt\n",
        "import matplotlib.cm as cm\n",
        "import pandas as pd\n",
        "import seaborn as sns\n",
        "import librosa\n",
        "import math\n",
        "from tqdm import tqdm\n",
        "from mpl_toolkits.mplot3d import Axes3D\n",
        "\n",
        "from parser import *\n",
        "\n",
        "import sklearn\n",
        "from sklearn.decomposition import PCA\n",
        "from sklearn.model_selection import train_test_split\n",
        "from sklearn.preprocessing import StandardScaler\n",
        "from sklearn.metrics import accuracy_score\n",
        "from sklearn.model_selection import train_test_split\n",
        "from sklearn.model_selection import KFold\n",
        "from sklearn.preprocessing import StandardScaler\n",
        "from sklearn.dummy import DummyClassifier\n",
        "from sklearn.naive_bayes import GaussianNB\n",
        "from sklearn.neighbors import KNeighborsClassifier\n",
        "from sklearn.linear_model import LogisticRegression\n",
        "from sklearn.metrics import accuracy_score, f1_score, recall_score\n",
        "from sklearn.metrics import f1_score\n",
        "from sklearn.model_selection import cross_val_score\n",
        "from sklearn.base import BaseEstimator, ClassifierMixin\n",
        "from sklearn.model_selection import StratifiedShuffleSplit\n",
        "from sklearn.model_selection import train_test_split\n",
        "from sklearn.metrics import classification_report, confusion_matrix\n",
        "\n",
        "import torch\n",
        "from torch.utils.data import DataLoader, Dataset\n",
        "import torch.optim as optim\n",
        "from torch import nn\n",
        "from torch.nn.parameter import Parameter\n",
        "from torch.autograd import Variable\n",
        "from torch.nn import init"
      ]
    },
    {
      "cell_type": "markdown",
      "metadata": {
        "id": "iE4y6quUoumc"
      },
      "source": [
        "## Section 0 - Dataset Construction\n",
        "\n"
      ]
    },
    {
      "cell_type": "code",
      "execution_count": null,
      "metadata": {
        "colab": {
          "base_uri": "https://localhost:8080/"
        },
        "id": "1RVlMJUmwQhg",
        "outputId": "930d9e04-2ae3-44c5-a7c0-2b2eaec68d40"
      },
      "outputs": [
        {
          "name": "stdout",
          "output_type": "stream",
          "text": [
            "joblib==0.17.0\n"
          ]
        }
      ],
      "source": [
        "#!pip freeze | grep joblib"
      ]
    },
    {
      "cell_type": "code",
      "execution_count": null,
      "metadata": {
        "colab": {
          "base_uri": "https://localhost:8080/"
        },
        "id": "qiQwQWzkD_VN",
        "outputId": "b20a6053-49f9-4004-e9a1-1475dd61fc03"
      },
      "outputs": [
        {
          "name": "stdout",
          "output_type": "stream",
          "text": [
            "Cloning into 'free-spoken-digit-dataset'...\n",
            "remote: Enumerating objects: 4234, done.\u001b[K\n",
            "remote: Counting objects: 100% (562/562), done.\u001b[K\n",
            "remote: Compressing objects: 100% (550/550), done.\u001b[K\n",
            "remote: Total 4234 (delta 31), reused 524 (delta 12), pack-reused 3672\u001b[K\n",
            "Receiving objects: 100% (4234/4234), 30.45 MiB | 18.08 MiB/s, done.\n",
            "Resolving deltas: 100% (108/108), done.\n"
          ]
        }
      ],
      "source": [
        "#!git clone https://github.com/Jakobovski/free-spoken-digit-dataset.git"
      ]
    },
    {
      "cell_type": "code",
      "execution_count": null,
      "metadata": {
        "colab": {
          "base_uri": "https://localhost:8080/"
        },
        "id": "SzWzueBoqwtX",
        "outputId": "ffc7d19b-3d99-4f06-8a65-49cebe6b3439"
      },
      "outputs": [
        {
          "name": "stderr",
          "output_type": "stream",
          "text": [
            "Extracting mfcc features...:   0%|          | 14/3000 [00:00<00:21, 138.95it/s]"
          ]
        },
        {
          "name": "stdout",
          "output_type": "stream",
          "text": [
            "Total wavs: 3000. Fs = 8000 Hz\n"
          ]
        },
        {
          "name": "stderr",
          "output_type": "stream",
          "text": [
            "Extracting mfcc features...: 100%|██████████| 3000/3000 [00:25<00:00, 119.40it/s]\n"
          ]
        },
        {
          "name": "stdout",
          "output_type": "stream",
          "text": [
            "\n",
            "Feature extraction completed with 13 mfccs per frame!\n",
            "Splitting in train test split using the default dataset split\n"
          ]
        }
      ],
      "source": [
        "X_train, X_test, y_train, y_test, spk_train, spk_test = parser('./free-spoken-digit-dataset/recordings/')\n"
      ]
    },
    {
      "cell_type": "code",
      "execution_count": null,
      "metadata": {
        "colab": {
          "base_uri": "https://localhost:8080/",
          "height": 390
        },
        "id": "n8hGkHgA0FAC",
        "outputId": "fd543686-19bd-4394-cba1-647410a80993"
      },
      "outputs": [
        {
          "data": {
            "image/png": "[encoded data removed]",
            "text/plain": [
              "<Figure size 576x432 with 1 Axes>"
            ]
          },
          "metadata": {},
          "output_type": "display_data"
        }
      ],
      "source": [
        "sns.set_style('darkgrid')\n",
        "plt.figure(figsize = (8, 6))\n",
        "#fig, axes = plt.subplots(1, 2)\n",
        "sns.countplot(x=y_train, palette = 'magma')#, ax=axes[0])\n",
        "#sns.countplot(y_train, palette = 'magma', ax= axes[1])\n",
        "plt.title(\"Classes of Training Set Samples\")\n",
        "plt.show()"
      ]
    },
    {
      "cell_type": "markdown",
      "metadata": {
        "id": "ClCnEhFGeJEC"
      },
      "source": [
        "We can observe, the balance of the dataset between the classes. In case that, it were not balanced, we might use RandomOverSampler to make the proportions equal."
      ]
    },
    {
      "cell_type": "code",
      "execution_count": null,
      "metadata": {
        "colab": {
          "base_uri": "https://localhost:8080/"
        },
        "id": "8TfShyKG3Rsr",
        "outputId": "043510be-f3c7-4702-e0f1-0f0261c4546e"
      },
      "outputs": [
        {
          "name": "stdout",
          "output_type": "stream",
          "text": [
            "(50, 13)\n"
          ]
        }
      ],
      "source": [
        "print(X_train[1].shape)"
      ]
    },
    {
      "cell_type": "code",
      "execution_count": null,
      "metadata": {
        "id": "nX8mYprf0ych"
      },
      "outputs": [],
      "source": [
        "sss = StratifiedShuffleSplit(n_splits=1, test_size = 0.2, random_state=0)\n",
        "\n",
        "# Convert type\n",
        "X_test = [x_test.astype('float64') for x_test in X_test]\n",
        "for train_index, dev_index in sss.split(X_train, y_train):\n",
        "    X_dev = [X_train[indx].astype('float64') for indx in dev_index]\n",
        "    X_train = [X_train[indx].astype('float64') for indx in train_index]\n",
        "    y_dev = [y_train[indx] for indx in dev_index]\n",
        "    y_train = [y_train[indx] for indx in train_index]\n"
      ]
    },
    {
      "cell_type": "code",
      "execution_count": null,
      "metadata": {
        "colab": {
          "base_uri": "https://localhost:8080/",
          "height": 580
        },
        "id": "KnkTIDKY2Gxj",
        "outputId": "ff443d21-ce14-440e-e8de-4f8a351108da"
      },
      "outputs": [
        {
          "data": {
            "image/png": "[encoded data removed]",
            "text/plain": [
              "<Figure size 432x288 with 1 Axes>"
            ]
          },
          "metadata": {},
          "output_type": "display_data"
        },
        {
          "name": "stdout",
          "output_type": "stream",
          "text": [
            "\n",
            "\n"
          ]
        },
        {
          "data": {
            "image/png": "[encoded data removed]",
            "text/plain": [
              "<Figure size 432x288 with 1 Axes>"
            ]
          },
          "metadata": {},
          "output_type": "display_data"
        }
      ],
      "source": [
        "sns.set_style('darkgrid')\n",
        "#fig, axes = plt.subplots(1, 2)\n",
        "sns.countplot(x=y_train, palette = 'magma')#, ax=axes[0])\n",
        "#sns.countplot(y_train, palette = 'magma', ax= axes[1])\n",
        "plt.title(\"Classes of Stratified Training Set Samples\")\n",
        "plt.show()\n",
        "print(\"\\n\")\n",
        "\n",
        "sns.set_style('darkgrid')\n",
        "#fig, axes = plt.subplots(1, 2)\n",
        "sns.countplot(x=y_dev, palette = 'magma')#, ax=axes[0])\n",
        "#sns.countplot(y_train, palette = 'magma', ax= axes[1])\n",
        "plt.title(\"Classes of Stratified Evaluation Set Samples\")\n",
        "plt.show()\n"
      ]
    },
    {
      "cell_type": "markdown",
      "metadata": {
        "id": "ghOQfhzFn1Gk"
      },
      "source": [
        "### Apply StandardScaling on our data for better performance"
      ]
    },
    {
      "cell_type": "code",
      "execution_count": null,
      "metadata": {
        "colab": {
          "base_uri": "https://localhost:8080/"
        },
        "id": "IUX-KyQxn0aw",
        "outputId": "6a29c0ee-8bcf-4030-b4ad-a577ad2c6510"
      },
      "outputs": [
        {
          "name": "stdout",
          "output_type": "stream",
          "text": [
            "If using X_train to calculate normalization statistics\n",
            "Normalization will be performed using mean: [-519.04016977   62.06749573   19.0877713     9.67797146  -19.16009936\n",
            "  -10.86785319  -14.35801505   -7.80066499  -11.9068304    -4.14759392\n",
            "   -6.66580162   -4.35981593   -6.93628383]\n",
            "Normalization will be performed using std: [153.12611669  52.31074756  36.61860033  29.66706359  24.90808089\n",
            "  23.29788466  18.58627443  18.14916101  15.74104656  13.18785806\n",
            "  14.82458446  12.66559393  12.01130099]\n"
          ]
        }
      ],
      "source": [
        "print(\"If using X_train to calculate normalization statistics\")\n",
        "scale_fn = make_scale_fn(X_train)\n",
        "X_train = scale_fn(X_train)\n",
        "X_dev = scale_fn(X_dev)\n",
        "X_test = scale_fn(X_test)"
      ]
    },
    {
      "cell_type": "markdown",
      "metadata": {
        "id": "mPzFCgwa57Q1"
      },
      "source": [
        "## Section 1 - GMM-HMM Training"
      ]
    },
    {
      "cell_type": "markdown",
      "metadata": {
        "id": "Tcitb_Vd75y5"
      },
      "source": [
        "Create GMM-HMM model per each digit for training set"
      ]
    },
    {
      "cell_type": "code",
      "execution_count": null,
      "metadata": {
        "colab": {
          "base_uri": "https://localhost:8080/"
        },
        "id": "oIKcgbdMOoZy",
        "outputId": "679345ec-1ad4-4547-80a2-5767f840959e"
      },
      "outputs": [
        {
          "name": "stderr",
          "output_type": "stream",
          "text": [
            "Grouping data for each digit...: 100%|██████████| 10/10 [00:00<00:00, 1618.17it/s]\n"
          ]
        }
      ],
      "source": [
        "# For all digits\n",
        "\n",
        "ds = [0, 1, 2, 3, 4, 5, 6, 7, 8, 9]\n",
        "train_data = [\n",
        "        [X_train[indx] for indx in np.argwhere(np.array(y_train)==d).flatten()]\n",
        "    for d in tqdm(ds, \"Grouping data for each digit...\")\n",
        "]\n",
        "train_bag = [np.vstack(train_d) for train_d in train_data]\n"
      ]
    },
    {
      "cell_type": "code",
      "execution_count": null,
      "metadata": {
        "colab": {
          "base_uri": "https://localhost:8080/"
        },
        "id": "uPBMQgUWU4xO",
        "outputId": "2a9f64bf-2c53-4280-9b28-5354ce5e6ac6"
      },
      "outputs": [
        {
          "name": "stdout",
          "output_type": "stream",
          "text": [
            "(25, 13)\n",
            "(7444, 13)\n"
          ]
        }
      ],
      "source": [
        "print(train_data[0][0].shape)\n",
        "print(train_bag[0].shape)"
      ]
    },
    {
      "cell_type": "markdown",
      "metadata": {
        "id": "ErvyBzNofAfk"
      },
      "source": [
        "We define transition, start, end matrices"
      ]
    },
    {
      "cell_type": "code",
      "execution_count": null,
      "metadata": {
        "id": "HIWGvDMFVaS0"
      },
      "outputs": [],
      "source": [
        "n_states = 4 # the number of HMM states\n",
        "n_mixtures = 4 # the number of Gaussians\n",
        "gmm = True # whether to use GMM or plain Gaussian\n",
        "\n",
        "# transition probabilities\n",
        "trans_mat = np.zeros((n_states, n_states))# your transition matrix\n",
        "starts = np.zeros(n_states)# your starting probability matrix\n",
        "ends = np.zeros(n_states) # your ending probability matrix\n",
        "\n",
        "trans_mat[-1][-1] = 1.0\n",
        "for i in range(n_states-1):\n",
        "  trans_mat[i][i] = 0.5 # equal probs for moving to the next state or staying in the same\n",
        "  trans_mat[i][i+1] = 0.5\n",
        "\n",
        "starts[0] = 1.0 # your starting probability matrix\n",
        "ends[-1] = 1.0 # your ending probability matrix\n",
        "# ends = None # your ending probability matrix\n"
      ]
    },
    {
      "cell_type": "code",
      "execution_count": null,
      "metadata": {
        "colab": {
          "base_uri": "https://localhost:8080/"
        },
        "id": "30c6ERrUvTY3",
        "outputId": "7666c0cb-e764-4b68-ac6d-5c92787230f7"
      },
      "outputs": [
        {
          "name": "stdout",
          "output_type": "stream",
          "text": [
            "<class 'numpy.float64'>\n"
          ]
        }
      ],
      "source": [
        "print(type(train_bag[0][0][0]))"
      ]
    },
    {
      "cell_type": "markdown",
      "metadata": {
        "id": "IcjJHVEgfb4R"
      },
      "source": [
        "We compute emission probabilities"
      ]
    },
    {
      "cell_type": "code",
      "execution_count": null,
      "metadata": {
        "id": "Tl19vdt5ZGUw"
      },
      "outputs": [],
      "source": [
        "models = []\n",
        "for d in ds:\n",
        "  dists = [] # list of probability distributions(emission) for the HMM states\n",
        "  for i in range(n_states):\n",
        "    if gmm:\n",
        "        g = GeneralMixtureModel.from_samples(MultivariateGaussianDistribution, n_mixtures, train_bag[d])\n",
        "    else:\n",
        "        g = MultivariateGaussianDistribution.from_samples(train_bag[d])\n",
        "    dists.append(g)\n",
        "\n",
        "      # Define the GMM-HMM\n",
        "  model = HiddenMarkovModel.from_matrix(\\\n",
        "                                        trans_mat, dists, starts, ends, \\\n",
        "                                        state_names=['s{}'.format(i)\\\n",
        "                                                    for i in range(n_states)])\n",
        "  models.append(model)\n"
      ]
    },
    {
      "cell_type": "markdown",
      "metadata": {
        "id": "DACjzi-ZfycC"
      },
      "source": [
        "Train our models for specific number of states, num_components"
      ]
    },
    {
      "cell_type": "code",
      "execution_count": null,
      "metadata": {
        "id": "yq66Kb4Ldj6p"
      },
      "outputs": [],
      "source": [
        "for indx, model in enumerate(models):\n",
        "\n",
        "  # Fit the model\n",
        "  model.fit(train_data[indx].copy(), max_iterations=2)\n",
        "  # your data: must be a Python list that contains: 2D lists with the sequences (so its dimension would be num_sequences x seq_length x feature_dimension)\n",
        "  # But be careful, it is not a numpy array, it is a Python list (so each sequence can have different length)\n"
      ]
    },
    {
      "cell_type": "markdown",
      "metadata": {
        "id": "04vGBAn1li4b"
      },
      "source": [
        "## Section 2 - GMM-HMM Validation / Optimization"
      ]
    },
    {
      "cell_type": "markdown",
      "metadata": {
        "id": "PPCuln98W1p-"
      },
      "source": [
        "### Validation on DevSet"
      ]
    },
    {
      "cell_type": "code",
      "execution_count": null,
      "metadata": {
        "colab": {
          "base_uri": "https://localhost:8080/"
        },
        "id": "qpma3kHyl20g",
        "outputId": "95f95be4-f4ef-4569-bac2-74b8afaf1b6e"
      },
      "outputs": [
        {
          "name": "stdout",
          "output_type": "stream",
          "text": [
            "(36, 13)\n"
          ]
        }
      ],
      "source": [
        "print(X_dev[0].shape)"
      ]
    },
    {
      "cell_type": "code",
      "execution_count": null,
      "metadata": {
        "id": "bYDKm-ibcoTE"
      },
      "outputs": [],
      "source": [
        "# Predict a sequence\n",
        "pred = []\n",
        "for sample in X_dev: # a sample sequence\n",
        "  logs = np.zeros(len(ds))\n",
        "\n",
        "  for i, model in enumerate(models):\n",
        "    logs[i] = model.viterbi(sample)[0]# Run viterbi algorithm and return log-probability\n",
        "\n",
        "  pred.append(np.argmax(logs))\n"
      ]
    },
    {
      "cell_type": "code",
      "execution_count": null,
      "metadata": {
        "colab": {
          "base_uri": "https://localhost:8080/"
        },
        "id": "kg_FSjkGm1Tg",
        "outputId": "37329a70-a40e-40eb-d608-6d775c48d7c3"
      },
      "outputs": [
        {
          "name": "stdout",
          "output_type": "stream",
          "text": [
            "0.9851851851851852\n"
          ]
        }
      ],
      "source": [
        "print(accuracy_score(y_dev, pred))"
      ]
    },
    {
      "cell_type": "markdown",
      "metadata": {
        "id": "mWbk1AijXAQA"
      },
      "source": [
        "### Optimization with Otpuna by Accuracy Metric"
      ]
    },
    {
      "cell_type": "markdown",
      "metadata": {
        "id": "v5F6smuOXQg_"
      },
      "source": [
        "#### Define Classifier"
      ]
    },
    {
      "cell_type": "code",
      "execution_count": null,
      "metadata": {
        "id": "p1qZhMlorI1L"
      },
      "outputs": [],
      "source": [
        "class HMM(BaseEstimator, ClassifierMixin):\n",
        "    # Hidden Markov Model using Gaussian Mixtures Model\n",
        "    # Labels are supposed to be in range[0, len(n_labels)]\n",
        "    def __init__(self, n_states, n_components, max_iter, gmm=True, max_d=10):\n",
        "        self.models = []\n",
        "        self.n_states = n_states\n",
        "        self.n_components = n_components\n",
        "        self.max_iter = max_iter\n",
        "        self.gmm = gmm\n",
        "        self.ds = np.arange(max_d)\n",
        "\n",
        "    def fit(self, X, y=None):\n",
        "\n",
        "        # Bag of MFCCs for each digit\n",
        "        X_bag = [np.vstack(x) for x in X]\n",
        "\n",
        "        # transition probabilities\n",
        "        trans_mat = np.zeros((self.n_states, self.n_states))# your transition matrix\n",
        "        starts = np.zeros(self.n_states)# your starting probability matrix\n",
        "        ends = np.zeros(self.n_states) # your ending probability matrix\n",
        "\n",
        "        trans_mat[-1][-1] = 1.0\n",
        "        for i in range(self.n_states-1):\n",
        "          trans_mat[i][i] = 0.5 # equal probs for moving to the next state or staying in the same\n",
        "          trans_mat[i][i+1] = 0.5\n",
        "\n",
        "        starts[0] = 1.0 # # absolute certainty for model's starting from the last state\n",
        "        ends[-1] = 1.0 # absolute certainty for model's ending up to the last state\n",
        "\n",
        "        for d in self.ds:\n",
        "            dists = [] # list of probability distributions(emission) for the HMM states\n",
        "            for i in range(self.n_states):\n",
        "              if self.gmm:\n",
        "                  g = GeneralMixtureModel.from_samples(MultivariateGaussianDistribution, self.n_components, X_bag[d])\n",
        "              else:\n",
        "                  g = MultivariateGaussianDistribution.from_samples(X_bag[d])\n",
        "              dists.append(g)\n",
        "\n",
        "                # Define the GMM-HMM\n",
        "            model = HiddenMarkovModel.from_matrix(\\\n",
        "                                                  trans_mat, dists, starts, ends, \\\n",
        "                                                  state_names=['s{}'.format(i)\\\n",
        "                                                              for i in range(self.n_states)])\n",
        "            self.models.append(model)\n",
        "\n",
        "        for indx, model in enumerate(self.models):\n",
        "\n",
        "            # Fit the model\n",
        "            model.fit(X[indx].copy(), max_iterations=self.max_iter)\n",
        "            # your data: must be a Python list that contains: 2D lists with the sequences (so its dimension would be num_sequences x seq_length x feature_dimension)\n",
        "            # But be careful, it is not a numpy array, it is a Python list (so each sequence can have different length)\n",
        "\n",
        "        return self\n",
        "\n",
        "\n",
        "    def predict(self, X):\n",
        "\n",
        "        # Predict a sequence\n",
        "        pred = []\n",
        "        for sample in X: # a sample sequence\n",
        "          logs = np.zeros(len(self.ds))\n",
        "\n",
        "          for i, model in enumerate(self.models):\n",
        "            logs[i] = model.viterbi(sample)[0]# Run viterbi algorithm and return log-probability\n",
        "\n",
        "          pred.append(np.argmax(logs))\n",
        "\n",
        "        return pred\n",
        "\n",
        "\n",
        "    def score(self, X, y):\n",
        "        pred = self.predict(X)\n",
        "        return accuracy_score(y, pred)"
      ]
    },
    {
      "cell_type": "code",
      "execution_count": null,
      "metadata": {
        "colab": {
          "base_uri": "https://localhost:8080/"
        },
        "id": "9Azo8SxIblqK",
        "outputId": "5c696dba-8521-4200-ce1c-98dd271c6cb6"
      },
      "outputs": [
        {
          "data": {
            "text/plain": [
              "HMM(gmm=True, max_d=None, max_iter=4, n_components=4, n_states=4)"
            ]
          },
          "execution_count": 81,
          "metadata": {},
          "output_type": "execute_result"
        }
      ],
      "source": [
        "# Dummy example, just for being sure it's working\n",
        "h = HMM(n_states=4, n_components=4, max_iter=4)\n",
        "h.fit(train_data)"
      ]
    },
    {
      "cell_type": "code",
      "execution_count": null,
      "metadata": {
        "colab": {
          "base_uri": "https://localhost:8080/"
        },
        "id": "uZJhprgYclFF",
        "outputId": "9e6f7ba9-c943-408b-c58c-93badda15555"
      },
      "outputs": [
        {
          "name": "stdout",
          "output_type": "stream",
          "text": [
            "0.9944444444444445\n"
          ]
        }
      ],
      "source": [
        "print(h.score(X_dev, y_dev))"
      ]
    },
    {
      "cell_type": "markdown",
      "metadata": {
        "id": "eX5Efl8YdEKf"
      },
      "source": [
        "#### Define objective function"
      ]
    },
    {
      "cell_type": "code",
      "execution_count": null,
      "metadata": {
        "id": "t9VRp59VdCu0"
      },
      "outputs": [],
      "source": [
        "def objective(trial):\n",
        "\n",
        "    #Scaler\n",
        "    # scaler = StandardScaler() # We have already scaled our data\n",
        "\n",
        "    # HMM-GMM\n",
        "    n_states = trial.suggest_int('n_states', 1, 4)\n",
        "    n_components = trial.suggest_int('n_components', 2, 5)\n",
        "    max_iter = trial.suggest_int('max_iter', 200, 400, 100)\n",
        "\n",
        "    clf = HMM(n_states=n_states, n_components=n_components, max_iter=max_iter)\n",
        "    clf.fit(train_data)\n",
        "\n",
        "    return clf.score(X_dev, y_dev)"
      ]
    },
    {
      "cell_type": "code",
      "execution_count": null,
      "metadata": {
        "colab": {
          "base_uri": "https://localhost:8080/",
          "height": 1000
        },
        "id": "Gn4VSHQahqMC",
        "outputId": "b84ee60a-bd48-494c-cc91-4089263afb6e"
      },
      "outputs": [
        {
          "name": "stderr",
          "output_type": "stream",
          "text": [
            "\u001b[32m[I 2021-12-18 11:46:06,425]\u001b[0m A new study created in memory with name: no-name-4800130e-bace-4945-a445-09dc747f7f9a\u001b[0m\n"
          ]
        },
        {
          "ename": "TypeError",
          "evalue": "ignored",
          "output_type": "error",
          "traceback": [
            "\u001b[0;31m---------------------------------------------------------------------------\u001b[0m",
            "\u001b[0;31mLinAlgError\u001b[0m                               Traceback (most recent call last)",
            "\u001b[0;32m/usr/local/lib/python3.7/dist-packages/pomegranate/distributions/MultivariateGaussianDistribution.pyx\u001b[0m in \u001b[0;36mpomegranate.distributions.MultivariateGaussianDistribution.MultivariateGaussianDistribution.from_summaries\u001b[0;34m()\u001b[0m\n",
            "\u001b[0;32m/usr/local/lib/python3.7/dist-packages/scipy/linalg/decomp_cholesky.py\u001b[0m in \u001b[0;36mcholesky\u001b[0;34m(a, lower, overwrite_a, check_finite)\u001b[0m\n\u001b[1;32m     90\u001b[0m     c, lower = _cholesky(a, lower=lower, overwrite_a=overwrite_a, clean=True,\n\u001b[0;32m---> 91\u001b[0;31m                          check_finite=check_finite)\n\u001b[0m\u001b[1;32m     92\u001b[0m     \u001b[0;32mreturn\u001b[0m \u001b[0mc\u001b[0m\u001b[0;34m\u001b[0m\u001b[0;34m\u001b[0m\u001b[0m\n",
            "\u001b[0;32m/usr/local/lib/python3.7/dist-packages/scipy/linalg/decomp_cholesky.py\u001b[0m in \u001b[0;36m_cholesky\u001b[0;34m(a, lower, overwrite_a, clean, check_finite)\u001b[0m\n\u001b[1;32m     39\u001b[0m         raise LinAlgError(\"%d-th leading minor of the array is not positive \"\n\u001b[0;32m---> 40\u001b[0;31m                           \"definite\" % info)\n\u001b[0m\u001b[1;32m     41\u001b[0m     \u001b[0;32mif\u001b[0m \u001b[0minfo\u001b[0m \u001b[0;34m<\u001b[0m \u001b[0;36m0\u001b[0m\u001b[0;34m:\u001b[0m\u001b[0;34m\u001b[0m\u001b[0;34m\u001b[0m\u001b[0m\n",
            "\u001b[0;31mLinAlgError\u001b[0m: 11-th leading minor of the array is not positive definite",
            "\nDuring handling of the above exception, another exception occurred:\n",
            "\u001b[0;31mTypeError\u001b[0m                                 Traceback (most recent call last)",
            "\u001b[0;32m/usr/local/lib/python3.7/dist-packages/pomegranate/bayes.pyx\u001b[0m in \u001b[0;36mpomegranate.bayes.BayesModel.from_summaries\u001b[0;34m()\u001b[0m\n",
            "\u001b[0;32m/usr/local/lib/python3.7/dist-packages/pomegranate/distributions/MultivariateGaussianDistribution.pyx\u001b[0m in \u001b[0;36mpomegranate.distributions.MultivariateGaussianDistribution.MultivariateGaussianDistribution.from_summaries\u001b[0;34m()\u001b[0m\n",
            "\u001b[0;31mTypeError\u001b[0m: Cannot cast ufunc subtract output from dtype('complex128') to dtype('float64') with casting rule 'same_kind'"
          ]
        },
        {
          "name": "stderr",
          "output_type": "stream",
          "text": [
            "Exception ignored in: 'pomegranate.hmm.HiddenMarkovModel._from_summaries'\n",
            "Traceback (most recent call last):\n",
            "  File \"pomegranate/bayes.pyx\", line 808, in pomegranate.bayes.BayesModel.from_summaries\n",
            "  File \"pomegranate/distributions/MultivariateGaussianDistribution.pyx\", line 272, in pomegranate.distributions.MultivariateGaussianDistribution.MultivariateGaussianDistribution.from_summaries\n",
            "TypeError: Cannot cast ufunc subtract output from dtype('complex128') to dtype('float64') with casting rule 'same_kind'\n"
          ]
        },
        {
          "ename": "TypeError",
          "evalue": "ignored",
          "output_type": "error",
          "traceback": [
            "\u001b[0;31m---------------------------------------------------------------------------\u001b[0m",
            "\u001b[0;31mLinAlgError\u001b[0m                               Traceback (most recent call last)",
            "\u001b[0;32m/usr/local/lib/python3.7/dist-packages/pomegranate/distributions/MultivariateGaussianDistribution.pyx\u001b[0m in \u001b[0;36mpomegranate.distributions.MultivariateGaussianDistribution.MultivariateGaussianDistribution.from_summaries\u001b[0;34m()\u001b[0m\n",
            "\u001b[0;32m/usr/local/lib/python3.7/dist-packages/scipy/linalg/decomp_cholesky.py\u001b[0m in \u001b[0;36mcholesky\u001b[0;34m(a, lower, overwrite_a, check_finite)\u001b[0m\n\u001b[1;32m     90\u001b[0m     c, lower = _cholesky(a, lower=lower, overwrite_a=overwrite_a, clean=True,\n\u001b[0;32m---> 91\u001b[0;31m                          check_finite=check_finite)\n\u001b[0m\u001b[1;32m     92\u001b[0m     \u001b[0;32mreturn\u001b[0m \u001b[0mc\u001b[0m\u001b[0;34m\u001b[0m\u001b[0;34m\u001b[0m\u001b[0m\n",
            "\u001b[0;32m/usr/local/lib/python3.7/dist-packages/scipy/linalg/decomp_cholesky.py\u001b[0m in \u001b[0;36m_cholesky\u001b[0;34m(a, lower, overwrite_a, clean, check_finite)\u001b[0m\n\u001b[1;32m     39\u001b[0m         raise LinAlgError(\"%d-th leading minor of the array is not positive \"\n\u001b[0;32m---> 40\u001b[0;31m                           \"definite\" % info)\n\u001b[0m\u001b[1;32m     41\u001b[0m     \u001b[0;32mif\u001b[0m \u001b[0minfo\u001b[0m \u001b[0;34m<\u001b[0m \u001b[0;36m0\u001b[0m\u001b[0;34m:\u001b[0m\u001b[0;34m\u001b[0m\u001b[0;34m\u001b[0m\u001b[0m\n",
            "\u001b[0;31mLinAlgError\u001b[0m: 11-th leading minor of the array is not positive definite",
            "\nDuring handling of the above exception, another exception occurred:\n",
            "\u001b[0;31mTypeError\u001b[0m                                 Traceback (most recent call last)",
            "\u001b[0;32m/usr/local/lib/python3.7/dist-packages/pomegranate/bayes.pyx\u001b[0m in \u001b[0;36mpomegranate.bayes.BayesModel.from_summaries\u001b[0;34m()\u001b[0m\n",
            "\u001b[0;32m/usr/local/lib/python3.7/dist-packages/pomegranate/distributions/MultivariateGaussianDistribution.pyx\u001b[0m in \u001b[0;36mpomegranate.distributions.MultivariateGaussianDistribution.MultivariateGaussianDistribution.from_summaries\u001b[0;34m()\u001b[0m\n",
            "\u001b[0;31mTypeError\u001b[0m: Cannot cast ufunc subtract output from dtype('complex128') to dtype('float64') with casting rule 'same_kind'"
          ]
        },
        {
          "name": "stderr",
          "output_type": "stream",
          "text": [
            "Exception ignored in: 'pomegranate.hmm.HiddenMarkovModel._from_summaries'\n",
            "Traceback (most recent call last):\n",
            "  File \"pomegranate/bayes.pyx\", line 808, in pomegranate.bayes.BayesModel.from_summaries\n",
            "  File \"pomegranate/distributions/MultivariateGaussianDistribution.pyx\", line 272, in pomegranate.distributions.MultivariateGaussianDistribution.MultivariateGaussianDistribution.from_summaries\n",
            "TypeError: Cannot cast ufunc subtract output from dtype('complex128') to dtype('float64') with casting rule 'same_kind'\n",
            "\u001b[32m[I 2021-12-18 11:51:59,774]\u001b[0m Trial 0 finished with value: 0.9907407407407407 and parameters: {'n_states': 4, 'n_components': 5, 'max_iter': 200}. Best is trial 0 with value: 0.9907407407407407.\u001b[0m\n",
            "\u001b[32m[I 2021-12-18 11:52:23,882]\u001b[0m Trial 1 finished with value: 0.9351851851851852 and parameters: {'n_states': 1, 'n_components': 2, 'max_iter': 200}. Best is trial 0 with value: 0.9907407407407407.\u001b[0m\n",
            "\u001b[32m[I 2021-12-18 11:53:12,327]\u001b[0m Trial 2 finished with value: 0.975925925925926 and parameters: {'n_states': 1, 'n_components': 4, 'max_iter': 200}. Best is trial 0 with value: 0.9907407407407407.\u001b[0m\n",
            "\u001b[32m[I 2021-12-18 11:57:03,961]\u001b[0m Trial 3 finished with value: 0.9925925925925926 and parameters: {'n_states': 2, 'n_components': 5, 'max_iter': 400}. Best is trial 3 with value: 0.9925925925925926.\u001b[0m\n"
          ]
        },
        {
          "ename": "TypeError",
          "evalue": "ignored",
          "output_type": "error",
          "traceback": [
            "\u001b[0;31m---------------------------------------------------------------------------\u001b[0m",
            "\u001b[0;31mLinAlgError\u001b[0m                               Traceback (most recent call last)",
            "\u001b[0;32m/usr/local/lib/python3.7/dist-packages/pomegranate/distributions/MultivariateGaussianDistribution.pyx\u001b[0m in \u001b[0;36mpomegranate.distributions.MultivariateGaussianDistribution.MultivariateGaussianDistribution.from_summaries\u001b[0;34m()\u001b[0m\n",
            "\u001b[0;32m/usr/local/lib/python3.7/dist-packages/scipy/linalg/decomp_cholesky.py\u001b[0m in \u001b[0;36mcholesky\u001b[0;34m(a, lower, overwrite_a, check_finite)\u001b[0m\n\u001b[1;32m     90\u001b[0m     c, lower = _cholesky(a, lower=lower, overwrite_a=overwrite_a, clean=True,\n\u001b[0;32m---> 91\u001b[0;31m                          check_finite=check_finite)\n\u001b[0m\u001b[1;32m     92\u001b[0m     \u001b[0;32mreturn\u001b[0m \u001b[0mc\u001b[0m\u001b[0;34m\u001b[0m\u001b[0;34m\u001b[0m\u001b[0m\n",
            "\u001b[0;32m/usr/local/lib/python3.7/dist-packages/scipy/linalg/decomp_cholesky.py\u001b[0m in \u001b[0;36m_cholesky\u001b[0;34m(a, lower, overwrite_a, clean, check_finite)\u001b[0m\n\u001b[1;32m     39\u001b[0m         raise LinAlgError(\"%d-th leading minor of the array is not positive \"\n\u001b[0;32m---> 40\u001b[0;31m                           \"definite\" % info)\n\u001b[0m\u001b[1;32m     41\u001b[0m     \u001b[0;32mif\u001b[0m \u001b[0minfo\u001b[0m \u001b[0;34m<\u001b[0m \u001b[0;36m0\u001b[0m\u001b[0;34m:\u001b[0m\u001b[0;34m\u001b[0m\u001b[0;34m\u001b[0m\u001b[0m\n",
            "\u001b[0;31mLinAlgError\u001b[0m: 13-th leading minor of the array is not positive definite",
            "\nDuring handling of the above exception, another exception occurred:\n",
            "\u001b[0;31mTypeError\u001b[0m                                 Traceback (most recent call last)",
            "\u001b[0;32m/usr/local/lib/python3.7/dist-packages/pomegranate/bayes.pyx\u001b[0m in \u001b[0;36mpomegranate.bayes.BayesModel.from_summaries\u001b[0;34m()\u001b[0m\n",
            "\u001b[0;32m/usr/local/lib/python3.7/dist-packages/pomegranate/distributions/MultivariateGaussianDistribution.pyx\u001b[0m in \u001b[0;36mpomegranate.distributions.MultivariateGaussianDistribution.MultivariateGaussianDistribution.from_summaries\u001b[0;34m()\u001b[0m\n",
            "\u001b[0;31mTypeError\u001b[0m: Cannot cast ufunc subtract output from dtype('complex128') to dtype('float64') with casting rule 'same_kind'"
          ]
        },
        {
          "name": "stderr",
          "output_type": "stream",
          "text": [
            "Exception ignored in: 'pomegranate.hmm.HiddenMarkovModel._from_summaries'\n",
            "Traceback (most recent call last):\n",
            "  File \"pomegranate/bayes.pyx\", line 808, in pomegranate.bayes.BayesModel.from_summaries\n",
            "  File \"pomegranate/distributions/MultivariateGaussianDistribution.pyx\", line 272, in pomegranate.distributions.MultivariateGaussianDistribution.MultivariateGaussianDistribution.from_summaries\n",
            "TypeError: Cannot cast ufunc subtract output from dtype('complex128') to dtype('float64') with casting rule 'same_kind'\n"
          ]
        },
        {
          "ename": "TypeError",
          "evalue": "ignored",
          "output_type": "error",
          "traceback": [
            "\u001b[0;31m---------------------------------------------------------------------------\u001b[0m",
            "\u001b[0;31mLinAlgError\u001b[0m                               Traceback (most recent call last)",
            "\u001b[0;32m/usr/local/lib/python3.7/dist-packages/pomegranate/distributions/MultivariateGaussianDistribution.pyx\u001b[0m in \u001b[0;36mpomegranate.distributions.MultivariateGaussianDistribution.MultivariateGaussianDistribution.from_summaries\u001b[0;34m()\u001b[0m\n",
            "\u001b[0;32m/usr/local/lib/python3.7/dist-packages/scipy/linalg/decomp_cholesky.py\u001b[0m in \u001b[0;36mcholesky\u001b[0;34m(a, lower, overwrite_a, check_finite)\u001b[0m\n\u001b[1;32m     90\u001b[0m     c, lower = _cholesky(a, lower=lower, overwrite_a=overwrite_a, clean=True,\n\u001b[0;32m---> 91\u001b[0;31m                          check_finite=check_finite)\n\u001b[0m\u001b[1;32m     92\u001b[0m     \u001b[0;32mreturn\u001b[0m \u001b[0mc\u001b[0m\u001b[0;34m\u001b[0m\u001b[0;34m\u001b[0m\u001b[0m\n",
            "\u001b[0;32m/usr/local/lib/python3.7/dist-packages/scipy/linalg/decomp_cholesky.py\u001b[0m in \u001b[0;36m_cholesky\u001b[0;34m(a, lower, overwrite_a, clean, check_finite)\u001b[0m\n\u001b[1;32m     39\u001b[0m         raise LinAlgError(\"%d-th leading minor of the array is not positive \"\n\u001b[0;32m---> 40\u001b[0;31m                           \"definite\" % info)\n\u001b[0m\u001b[1;32m     41\u001b[0m     \u001b[0;32mif\u001b[0m \u001b[0minfo\u001b[0m \u001b[0;34m<\u001b[0m \u001b[0;36m0\u001b[0m\u001b[0;34m:\u001b[0m\u001b[0;34m\u001b[0m\u001b[0;34m\u001b[0m\u001b[0m\n",
            "\u001b[0;31mLinAlgError\u001b[0m: 11-th leading minor of the array is not positive definite",
            "\nDuring handling of the above exception, another exception occurred:\n",
            "\u001b[0;31mTypeError\u001b[0m                                 Traceback (most recent call last)",
            "\u001b[0;32m/usr/local/lib/python3.7/dist-packages/pomegranate/bayes.pyx\u001b[0m in \u001b[0;36mpomegranate.bayes.BayesModel.from_summaries\u001b[0;34m()\u001b[0m\n",
            "\u001b[0;32m/usr/local/lib/python3.7/dist-packages/pomegranate/distributions/MultivariateGaussianDistribution.pyx\u001b[0m in \u001b[0;36mpomegranate.distributions.MultivariateGaussianDistribution.MultivariateGaussianDistribution.from_summaries\u001b[0;34m()\u001b[0m\n",
            "\u001b[0;31mTypeError\u001b[0m: Cannot cast ufunc subtract output from dtype('complex128') to dtype('float64') with casting rule 'same_kind'"
          ]
        },
        {
          "name": "stderr",
          "output_type": "stream",
          "text": [
            "Exception ignored in: 'pomegranate.hmm.HiddenMarkovModel._from_summaries'\n",
            "Traceback (most recent call last):\n",
            "  File \"pomegranate/bayes.pyx\", line 808, in pomegranate.bayes.BayesModel.from_summaries\n",
            "  File \"pomegranate/distributions/MultivariateGaussianDistribution.pyx\", line 272, in pomegranate.distributions.MultivariateGaussianDistribution.MultivariateGaussianDistribution.from_summaries\n",
            "TypeError: Cannot cast ufunc subtract output from dtype('complex128') to dtype('float64') with casting rule 'same_kind'\n",
            "\u001b[32m[I 2021-12-18 12:01:33,283]\u001b[0m Trial 4 finished with value: 0.9981481481481481 and parameters: {'n_states': 3, 'n_components': 5, 'max_iter': 300}. Best is trial 4 with value: 0.9981481481481481.\u001b[0m\n",
            "\u001b[32m[I 2021-12-18 12:03:50,240]\u001b[0m Trial 5 finished with value: 0.9907407407407407 and parameters: {'n_states': 4, 'n_components': 2, 'max_iter': 200}. Best is trial 4 with value: 0.9981481481481481.\u001b[0m\n",
            "\u001b[32m[I 2021-12-18 12:04:45,113]\u001b[0m Trial 6 finished with value: 0.9796296296296296 and parameters: {'n_states': 2, 'n_components': 2, 'max_iter': 300}. Best is trial 4 with value: 0.9981481481481481.\u001b[0m\n",
            "\u001b[32m[I 2021-12-18 12:08:13,953]\u001b[0m Trial 7 finished with value: 0.9981481481481481 and parameters: {'n_states': 4, 'n_components': 3, 'max_iter': 300}. Best is trial 4 with value: 0.9981481481481481.\u001b[0m\n",
            "\u001b[32m[I 2021-12-18 12:13:40,165]\u001b[0m Trial 8 finished with value: 0.9962962962962963 and parameters: {'n_states': 4, 'n_components': 4, 'max_iter': 400}. Best is trial 4 with value: 0.9981481481481481.\u001b[0m\n"
          ]
        },
        {
          "ename": "TypeError",
          "evalue": "ignored",
          "output_type": "error",
          "traceback": [
            "\u001b[0;31m---------------------------------------------------------------------------\u001b[0m",
            "\u001b[0;31mLinAlgError\u001b[0m                               Traceback (most recent call last)",
            "\u001b[0;32m/usr/local/lib/python3.7/dist-packages/pomegranate/distributions/MultivariateGaussianDistribution.pyx\u001b[0m in \u001b[0;36mpomegranate.distributions.MultivariateGaussianDistribution.MultivariateGaussianDistribution.from_summaries\u001b[0;34m()\u001b[0m\n",
            "\u001b[0;32m/usr/local/lib/python3.7/dist-packages/scipy/linalg/decomp_cholesky.py\u001b[0m in \u001b[0;36mcholesky\u001b[0;34m(a, lower, overwrite_a, check_finite)\u001b[0m\n\u001b[1;32m     90\u001b[0m     c, lower = _cholesky(a, lower=lower, overwrite_a=overwrite_a, clean=True,\n\u001b[0;32m---> 91\u001b[0;31m                          check_finite=check_finite)\n\u001b[0m\u001b[1;32m     92\u001b[0m     \u001b[0;32mreturn\u001b[0m \u001b[0mc\u001b[0m\u001b[0;34m\u001b[0m\u001b[0;34m\u001b[0m\u001b[0m\n",
            "\u001b[0;32m/usr/local/lib/python3.7/dist-packages/scipy/linalg/decomp_cholesky.py\u001b[0m in \u001b[0;36m_cholesky\u001b[0;34m(a, lower, overwrite_a, clean, check_finite)\u001b[0m\n\u001b[1;32m     39\u001b[0m         raise LinAlgError(\"%d-th leading minor of the array is not positive \"\n\u001b[0;32m---> 40\u001b[0;31m                           \"definite\" % info)\n\u001b[0m\u001b[1;32m     41\u001b[0m     \u001b[0;32mif\u001b[0m \u001b[0minfo\u001b[0m \u001b[0;34m<\u001b[0m \u001b[0;36m0\u001b[0m\u001b[0;34m:\u001b[0m\u001b[0;34m\u001b[0m\u001b[0;34m\u001b[0m\u001b[0m\n",
            "\u001b[0;31mLinAlgError\u001b[0m: 3-th leading minor of the array is not positive definite",
            "\nDuring handling of the above exception, another exception occurred:\n",
            "\u001b[0;31mTypeError\u001b[0m                                 Traceback (most recent call last)",
            "\u001b[0;32m/usr/local/lib/python3.7/dist-packages/pomegranate/bayes.pyx\u001b[0m in \u001b[0;36mpomegranate.bayes.BayesModel.from_summaries\u001b[0;34m()\u001b[0m\n",
            "\u001b[0;32m/usr/local/lib/python3.7/dist-packages/pomegranate/distributions/MultivariateGaussianDistribution.pyx\u001b[0m in \u001b[0;36mpomegranate.distributions.MultivariateGaussianDistribution.MultivariateGaussianDistribution.from_summaries\u001b[0;34m()\u001b[0m\n",
            "\u001b[0;31mTypeError\u001b[0m: Cannot cast ufunc subtract output from dtype('complex128') to dtype('float64') with casting rule 'same_kind'"
          ]
        },
        {
          "name": "stderr",
          "output_type": "stream",
          "text": [
            "Exception ignored in: 'pomegranate.hmm.HiddenMarkovModel._from_summaries'\n",
            "Traceback (most recent call last):\n",
            "  File \"pomegranate/bayes.pyx\", line 808, in pomegranate.bayes.BayesModel.from_summaries\n",
            "  File \"pomegranate/distributions/MultivariateGaussianDistribution.pyx\", line 272, in pomegranate.distributions.MultivariateGaussianDistribution.MultivariateGaussianDistribution.from_summaries\n",
            "TypeError: Cannot cast ufunc subtract output from dtype('complex128') to dtype('float64') with casting rule 'same_kind'\n"
          ]
        },
        {
          "ename": "TypeError",
          "evalue": "ignored",
          "output_type": "error",
          "traceback": [
            "\u001b[0;31m---------------------------------------------------------------------------\u001b[0m",
            "\u001b[0;31mLinAlgError\u001b[0m                               Traceback (most recent call last)",
            "\u001b[0;32m/usr/local/lib/python3.7/dist-packages/pomegranate/distributions/MultivariateGaussianDistribution.pyx\u001b[0m in \u001b[0;36mpomegranate.distributions.MultivariateGaussianDistribution.MultivariateGaussianDistribution.from_summaries\u001b[0;34m()\u001b[0m\n",
            "\u001b[0;32m/usr/local/lib/python3.7/dist-packages/scipy/linalg/decomp_cholesky.py\u001b[0m in \u001b[0;36mcholesky\u001b[0;34m(a, lower, overwrite_a, check_finite)\u001b[0m\n\u001b[1;32m     90\u001b[0m     c, lower = _cholesky(a, lower=lower, overwrite_a=overwrite_a, clean=True,\n\u001b[0;32m---> 91\u001b[0;31m                          check_finite=check_finite)\n\u001b[0m\u001b[1;32m     92\u001b[0m     \u001b[0;32mreturn\u001b[0m \u001b[0mc\u001b[0m\u001b[0;34m\u001b[0m\u001b[0;34m\u001b[0m\u001b[0m\n",
            "\u001b[0;32m/usr/local/lib/python3.7/dist-packages/scipy/linalg/decomp_cholesky.py\u001b[0m in \u001b[0;36m_cholesky\u001b[0;34m(a, lower, overwrite_a, clean, check_finite)\u001b[0m\n\u001b[1;32m     39\u001b[0m         raise LinAlgError(\"%d-th leading minor of the array is not positive \"\n\u001b[0;32m---> 40\u001b[0;31m                           \"definite\" % info)\n\u001b[0m\u001b[1;32m     41\u001b[0m     \u001b[0;32mif\u001b[0m \u001b[0minfo\u001b[0m \u001b[0;34m<\u001b[0m \u001b[0;36m0\u001b[0m\u001b[0;34m:\u001b[0m\u001b[0;34m\u001b[0m\u001b[0;34m\u001b[0m\u001b[0m\n",
            "\u001b[0;31mLinAlgError\u001b[0m: 3-th leading minor of the array is not positive definite",
            "\nDuring handling of the above exception, another exception occurred:\n",
            "\u001b[0;31mTypeError\u001b[0m                                 Traceback (most recent call last)",
            "\u001b[0;32m/usr/local/lib/python3.7/dist-packages/pomegranate/bayes.pyx\u001b[0m in \u001b[0;36mpomegranate.bayes.BayesModel.from_summaries\u001b[0;34m()\u001b[0m\n",
            "\u001b[0;32m/usr/local/lib/python3.7/dist-packages/pomegranate/distributions/MultivariateGaussianDistribution.pyx\u001b[0m in \u001b[0;36mpomegranate.distributions.MultivariateGaussianDistribution.MultivariateGaussianDistribution.from_summaries\u001b[0;34m()\u001b[0m\n",
            "\u001b[0;31mTypeError\u001b[0m: Cannot cast ufunc subtract output from dtype('complex128') to dtype('float64') with casting rule 'same_kind'"
          ]
        },
        {
          "name": "stderr",
          "output_type": "stream",
          "text": [
            "Exception ignored in: 'pomegranate.hmm.HiddenMarkovModel._from_summaries'\n",
            "Traceback (most recent call last):\n",
            "  File \"pomegranate/bayes.pyx\", line 808, in pomegranate.bayes.BayesModel.from_summaries\n",
            "  File \"pomegranate/distributions/MultivariateGaussianDistribution.pyx\", line 272, in pomegranate.distributions.MultivariateGaussianDistribution.MultivariateGaussianDistribution.from_summaries\n",
            "TypeError: Cannot cast ufunc subtract output from dtype('complex128') to dtype('float64') with casting rule 'same_kind'\n",
            "\u001b[32m[I 2021-12-18 12:19:23,710]\u001b[0m Trial 9 finished with value: 0.9944444444444445 and parameters: {'n_states': 4, 'n_components': 5, 'max_iter': 400}. Best is trial 4 with value: 0.9981481481481481.\u001b[0m\n",
            "\u001b[32m[I 2021-12-18 12:24:01,905]\u001b[0m Trial 10 finished with value: 0.9925925925925926 and parameters: {'n_states': 3, 'n_components': 4, 'max_iter': 300}. Best is trial 4 with value: 0.9981481481481481.\u001b[0m\n",
            "\u001b[32m[I 2021-12-18 12:26:29,362]\u001b[0m Trial 11 finished with value: 0.9944444444444445 and parameters: {'n_states': 3, 'n_components': 3, 'max_iter': 300}. Best is trial 4 with value: 0.9981481481481481.\u001b[0m\n",
            "\u001b[32m[I 2021-12-18 12:28:50,890]\u001b[0m Trial 12 finished with value: 0.9851851851851852 and parameters: {'n_states': 3, 'n_components': 3, 'max_iter': 300}. Best is trial 4 with value: 0.9981481481481481.\u001b[0m\n",
            "\u001b[32m[I 2021-12-18 12:31:34,802]\u001b[0m Trial 13 finished with value: 0.987037037037037 and parameters: {'n_states': 3, 'n_components': 3, 'max_iter': 300}. Best is trial 4 with value: 0.9981481481481481.\u001b[0m\n",
            "\u001b[32m[I 2021-12-18 12:34:34,050]\u001b[0m Trial 14 finished with value: 0.9888888888888889 and parameters: {'n_states': 2, 'n_components': 4, 'max_iter': 300}. Best is trial 4 with value: 0.9981481481481481.\u001b[0m\n",
            "\u001b[32m[I 2021-12-18 12:37:57,113]\u001b[0m Trial 15 finished with value: 0.9962962962962963 and parameters: {'n_states': 4, 'n_components': 3, 'max_iter': 400}. Best is trial 4 with value: 0.9981481481481481.\u001b[0m\n"
          ]
        },
        {
          "ename": "TypeError",
          "evalue": "ignored",
          "output_type": "error",
          "traceback": [
            "\u001b[0;31m---------------------------------------------------------------------------\u001b[0m",
            "\u001b[0;31mLinAlgError\u001b[0m                               Traceback (most recent call last)",
            "\u001b[0;32m/usr/local/lib/python3.7/dist-packages/pomegranate/distributions/MultivariateGaussianDistribution.pyx\u001b[0m in \u001b[0;36mpomegranate.distributions.MultivariateGaussianDistribution.MultivariateGaussianDistribution.from_summaries\u001b[0;34m()\u001b[0m\n",
            "\u001b[0;32m/usr/local/lib/python3.7/dist-packages/scipy/linalg/decomp_cholesky.py\u001b[0m in \u001b[0;36mcholesky\u001b[0;34m(a, lower, overwrite_a, check_finite)\u001b[0m\n\u001b[1;32m     90\u001b[0m     c, lower = _cholesky(a, lower=lower, overwrite_a=overwrite_a, clean=True,\n\u001b[0;32m---> 91\u001b[0;31m                          check_finite=check_finite)\n\u001b[0m\u001b[1;32m     92\u001b[0m     \u001b[0;32mreturn\u001b[0m \u001b[0mc\u001b[0m\u001b[0;34m\u001b[0m\u001b[0;34m\u001b[0m\u001b[0m\n",
            "\u001b[0;32m/usr/local/lib/python3.7/dist-packages/scipy/linalg/decomp_cholesky.py\u001b[0m in \u001b[0;36m_cholesky\u001b[0;34m(a, lower, overwrite_a, clean, check_finite)\u001b[0m\n\u001b[1;32m     39\u001b[0m         raise LinAlgError(\"%d-th leading minor of the array is not positive \"\n\u001b[0;32m---> 40\u001b[0;31m                           \"definite\" % info)\n\u001b[0m\u001b[1;32m     41\u001b[0m     \u001b[0;32mif\u001b[0m \u001b[0minfo\u001b[0m \u001b[0;34m<\u001b[0m \u001b[0;36m0\u001b[0m\u001b[0;34m:\u001b[0m\u001b[0;34m\u001b[0m\u001b[0;34m\u001b[0m\u001b[0m\n",
            "\u001b[0;31mLinAlgError\u001b[0m: 9-th leading minor of the array is not positive definite",
            "\nDuring handling of the above exception, another exception occurred:\n",
            "\u001b[0;31mTypeError\u001b[0m                                 Traceback (most recent call last)",
            "\u001b[0;32m/usr/local/lib/python3.7/dist-packages/pomegranate/bayes.pyx\u001b[0m in \u001b[0;36mpomegranate.bayes.BayesModel.from_summaries\u001b[0;34m()\u001b[0m\n",
            "\u001b[0;32m/usr/local/lib/python3.7/dist-packages/pomegranate/distributions/MultivariateGaussianDistribution.pyx\u001b[0m in \u001b[0;36mpomegranate.distributions.MultivariateGaussianDistribution.MultivariateGaussianDistribution.from_summaries\u001b[0;34m()\u001b[0m\n",
            "\u001b[0;31mTypeError\u001b[0m: Cannot cast ufunc subtract output from dtype('complex128') to dtype('float64') with casting rule 'same_kind'"
          ]
        },
        {
          "name": "stderr",
          "output_type": "stream",
          "text": [
            "Exception ignored in: 'pomegranate.hmm.HiddenMarkovModel._from_summaries'\n",
            "Traceback (most recent call last):\n",
            "  File \"pomegranate/bayes.pyx\", line 808, in pomegranate.bayes.BayesModel.from_summaries\n",
            "  File \"pomegranate/distributions/MultivariateGaussianDistribution.pyx\", line 272, in pomegranate.distributions.MultivariateGaussianDistribution.MultivariateGaussianDistribution.from_summaries\n",
            "TypeError: Cannot cast ufunc subtract output from dtype('complex128') to dtype('float64') with casting rule 'same_kind'\n"
          ]
        },
        {
          "ename": "TypeError",
          "evalue": "ignored",
          "output_type": "error",
          "traceback": [
            "\u001b[0;31m---------------------------------------------------------------------------\u001b[0m",
            "\u001b[0;31mLinAlgError\u001b[0m                               Traceback (most recent call last)",
            "\u001b[0;32m/usr/local/lib/python3.7/dist-packages/pomegranate/distributions/MultivariateGaussianDistribution.pyx\u001b[0m in \u001b[0;36mpomegranate.distributions.MultivariateGaussianDistribution.MultivariateGaussianDistribution.from_summaries\u001b[0;34m()\u001b[0m\n",
            "\u001b[0;32m/usr/local/lib/python3.7/dist-packages/scipy/linalg/decomp_cholesky.py\u001b[0m in \u001b[0;36mcholesky\u001b[0;34m(a, lower, overwrite_a, check_finite)\u001b[0m\n\u001b[1;32m     90\u001b[0m     c, lower = _cholesky(a, lower=lower, overwrite_a=overwrite_a, clean=True,\n\u001b[0;32m---> 91\u001b[0;31m                          check_finite=check_finite)\n\u001b[0m\u001b[1;32m     92\u001b[0m     \u001b[0;32mreturn\u001b[0m \u001b[0mc\u001b[0m\u001b[0;34m\u001b[0m\u001b[0;34m\u001b[0m\u001b[0m\n",
            "\u001b[0;32m/usr/local/lib/python3.7/dist-packages/scipy/linalg/decomp_cholesky.py\u001b[0m in \u001b[0;36m_cholesky\u001b[0;34m(a, lower, overwrite_a, clean, check_finite)\u001b[0m\n\u001b[1;32m     39\u001b[0m         raise LinAlgError(\"%d-th leading minor of the array is not positive \"\n\u001b[0;32m---> 40\u001b[0;31m                           \"definite\" % info)\n\u001b[0m\u001b[1;32m     41\u001b[0m     \u001b[0;32mif\u001b[0m \u001b[0minfo\u001b[0m \u001b[0;34m<\u001b[0m \u001b[0;36m0\u001b[0m\u001b[0;34m:\u001b[0m\u001b[0;34m\u001b[0m\u001b[0;34m\u001b[0m\u001b[0m\n",
            "\u001b[0;31mLinAlgError\u001b[0m: 7-th leading minor of the array is not positive definite",
            "\nDuring handling of the above exception, another exception occurred:\n",
            "\u001b[0;31mTypeError\u001b[0m                                 Traceback (most recent call last)",
            "\u001b[0;32m/usr/local/lib/python3.7/dist-packages/pomegranate/bayes.pyx\u001b[0m in \u001b[0;36mpomegranate.bayes.BayesModel.from_summaries\u001b[0;34m()\u001b[0m\n",
            "\u001b[0;32m/usr/local/lib/python3.7/dist-packages/pomegranate/distributions/MultivariateGaussianDistribution.pyx\u001b[0m in \u001b[0;36mpomegranate.distributions.MultivariateGaussianDistribution.MultivariateGaussianDistribution.from_summaries\u001b[0;34m()\u001b[0m\n",
            "\u001b[0;31mTypeError\u001b[0m: Cannot cast ufunc subtract output from dtype('complex128') to dtype('float64') with casting rule 'same_kind'"
          ]
        },
        {
          "name": "stderr",
          "output_type": "stream",
          "text": [
            "Exception ignored in: 'pomegranate.hmm.HiddenMarkovModel._from_summaries'\n",
            "Traceback (most recent call last):\n",
            "  File \"pomegranate/bayes.pyx\", line 808, in pomegranate.bayes.BayesModel.from_summaries\n",
            "  File \"pomegranate/distributions/MultivariateGaussianDistribution.pyx\", line 272, in pomegranate.distributions.MultivariateGaussianDistribution.MultivariateGaussianDistribution.from_summaries\n",
            "TypeError: Cannot cast ufunc subtract output from dtype('complex128') to dtype('float64') with casting rule 'same_kind'\n"
          ]
        },
        {
          "ename": "TypeError",
          "evalue": "ignored",
          "output_type": "error",
          "traceback": [
            "\u001b[0;31m---------------------------------------------------------------------------\u001b[0m",
            "\u001b[0;31mLinAlgError\u001b[0m                               Traceback (most recent call last)",
            "\u001b[0;32m/usr/local/lib/python3.7/dist-packages/pomegranate/distributions/MultivariateGaussianDistribution.pyx\u001b[0m in \u001b[0;36mpomegranate.distributions.MultivariateGaussianDistribution.MultivariateGaussianDistribution.from_summaries\u001b[0;34m()\u001b[0m\n",
            "\u001b[0;32m/usr/local/lib/python3.7/dist-packages/scipy/linalg/decomp_cholesky.py\u001b[0m in \u001b[0;36mcholesky\u001b[0;34m(a, lower, overwrite_a, check_finite)\u001b[0m\n\u001b[1;32m     90\u001b[0m     c, lower = _cholesky(a, lower=lower, overwrite_a=overwrite_a, clean=True,\n\u001b[0;32m---> 91\u001b[0;31m                          check_finite=check_finite)\n\u001b[0m\u001b[1;32m     92\u001b[0m     \u001b[0;32mreturn\u001b[0m \u001b[0mc\u001b[0m\u001b[0;34m\u001b[0m\u001b[0;34m\u001b[0m\u001b[0m\n",
            "\u001b[0;32m/usr/local/lib/python3.7/dist-packages/scipy/linalg/decomp_cholesky.py\u001b[0m in \u001b[0;36m_cholesky\u001b[0;34m(a, lower, overwrite_a, clean, check_finite)\u001b[0m\n\u001b[1;32m     39\u001b[0m         raise LinAlgError(\"%d-th leading minor of the array is not positive \"\n\u001b[0;32m---> 40\u001b[0;31m                           \"definite\" % info)\n\u001b[0m\u001b[1;32m     41\u001b[0m     \u001b[0;32mif\u001b[0m \u001b[0minfo\u001b[0m \u001b[0;34m<\u001b[0m \u001b[0;36m0\u001b[0m\u001b[0;34m:\u001b[0m\u001b[0;34m\u001b[0m\u001b[0;34m\u001b[0m\u001b[0m\n",
            "\u001b[0;31mLinAlgError\u001b[0m: 7-th leading minor of the array is not positive definite",
            "\nDuring handling of the above exception, another exception occurred:\n",
            "\u001b[0;31mTypeError\u001b[0m                                 Traceback (most recent call last)",
            "\u001b[0;32m/usr/local/lib/python3.7/dist-packages/pomegranate/bayes.pyx\u001b[0m in \u001b[0;36mpomegranate.bayes.BayesModel.from_summaries\u001b[0;34m()\u001b[0m\n",
            "\u001b[0;32m/usr/local/lib/python3.7/dist-packages/pomegranate/distributions/MultivariateGaussianDistribution.pyx\u001b[0m in \u001b[0;36mpomegranate.distributions.MultivariateGaussianDistribution.MultivariateGaussianDistribution.from_summaries\u001b[0;34m()\u001b[0m\n",
            "\u001b[0;31mTypeError\u001b[0m: Cannot cast ufunc subtract output from dtype('complex128') to dtype('float64') with casting rule 'same_kind'"
          ]
        },
        {
          "name": "stderr",
          "output_type": "stream",
          "text": [
            "Exception ignored in: 'pomegranate.hmm.HiddenMarkovModel._from_summaries'\n",
            "Traceback (most recent call last):\n",
            "  File \"pomegranate/bayes.pyx\", line 808, in pomegranate.bayes.BayesModel.from_summaries\n",
            "  File \"pomegranate/distributions/MultivariateGaussianDistribution.pyx\", line 272, in pomegranate.distributions.MultivariateGaussianDistribution.MultivariateGaussianDistribution.from_summaries\n",
            "TypeError: Cannot cast ufunc subtract output from dtype('complex128') to dtype('float64') with casting rule 'same_kind'\n"
          ]
        },
        {
          "ename": "TypeError",
          "evalue": "ignored",
          "output_type": "error",
          "traceback": [
            "\u001b[0;31m---------------------------------------------------------------------------\u001b[0m",
            "\u001b[0;31mLinAlgError\u001b[0m                               Traceback (most recent call last)",
            "\u001b[0;32m/usr/local/lib/python3.7/dist-packages/pomegranate/distributions/MultivariateGaussianDistribution.pyx\u001b[0m in \u001b[0;36mpomegranate.distributions.MultivariateGaussianDistribution.MultivariateGaussianDistribution.from_summaries\u001b[0;34m()\u001b[0m\n",
            "\u001b[0;32m/usr/local/lib/python3.7/dist-packages/scipy/linalg/decomp_cholesky.py\u001b[0m in \u001b[0;36mcholesky\u001b[0;34m(a, lower, overwrite_a, check_finite)\u001b[0m\n\u001b[1;32m     90\u001b[0m     c, lower = _cholesky(a, lower=lower, overwrite_a=overwrite_a, clean=True,\n\u001b[0;32m---> 91\u001b[0;31m                          check_finite=check_finite)\n\u001b[0m\u001b[1;32m     92\u001b[0m     \u001b[0;32mreturn\u001b[0m \u001b[0mc\u001b[0m\u001b[0;34m\u001b[0m\u001b[0;34m\u001b[0m\u001b[0m\n",
            "\u001b[0;32m/usr/local/lib/python3.7/dist-packages/scipy/linalg/decomp_cholesky.py\u001b[0m in \u001b[0;36m_cholesky\u001b[0;34m(a, lower, overwrite_a, clean, check_finite)\u001b[0m\n\u001b[1;32m     39\u001b[0m         raise LinAlgError(\"%d-th leading minor of the array is not positive \"\n\u001b[0;32m---> 40\u001b[0;31m                           \"definite\" % info)\n\u001b[0m\u001b[1;32m     41\u001b[0m     \u001b[0;32mif\u001b[0m \u001b[0minfo\u001b[0m \u001b[0;34m<\u001b[0m \u001b[0;36m0\u001b[0m\u001b[0;34m:\u001b[0m\u001b[0;34m\u001b[0m\u001b[0;34m\u001b[0m\u001b[0m\n",
            "\u001b[0;31mLinAlgError\u001b[0m: 7-th leading minor of the array is not positive definite",
            "\nDuring handling of the above exception, another exception occurred:\n",
            "\u001b[0;31mTypeError\u001b[0m                                 Traceback (most recent call last)",
            "\u001b[0;32m/usr/local/lib/python3.7/dist-packages/pomegranate/bayes.pyx\u001b[0m in \u001b[0;36mpomegranate.bayes.BayesModel.from_summaries\u001b[0;34m()\u001b[0m\n",
            "\u001b[0;32m/usr/local/lib/python3.7/dist-packages/pomegranate/distributions/MultivariateGaussianDistribution.pyx\u001b[0m in \u001b[0;36mpomegranate.distributions.MultivariateGaussianDistribution.MultivariateGaussianDistribution.from_summaries\u001b[0;34m()\u001b[0m\n",
            "\u001b[0;31mTypeError\u001b[0m: Cannot cast ufunc subtract output from dtype('complex128') to dtype('float64') with casting rule 'same_kind'"
          ]
        },
        {
          "name": "stderr",
          "output_type": "stream",
          "text": [
            "Exception ignored in: 'pomegranate.hmm.HiddenMarkovModel._from_summaries'\n",
            "Traceback (most recent call last):\n",
            "  File \"pomegranate/bayes.pyx\", line 808, in pomegranate.bayes.BayesModel.from_summaries\n",
            "  File \"pomegranate/distributions/MultivariateGaussianDistribution.pyx\", line 272, in pomegranate.distributions.MultivariateGaussianDistribution.MultivariateGaussianDistribution.from_summaries\n",
            "TypeError: Cannot cast ufunc subtract output from dtype('complex128') to dtype('float64') with casting rule 'same_kind'\n",
            "\u001b[32m[I 2021-12-18 12:42:52,615]\u001b[0m Trial 16 finished with value: 0.9981481481481481 and parameters: {'n_states': 3, 'n_components': 5, 'max_iter': 300}. Best is trial 4 with value: 0.9981481481481481.\u001b[0m\n"
          ]
        },
        {
          "ename": "TypeError",
          "evalue": "ignored",
          "output_type": "error",
          "traceback": [
            "\u001b[0;31m---------------------------------------------------------------------------\u001b[0m",
            "\u001b[0;31mLinAlgError\u001b[0m                               Traceback (most recent call last)",
            "\u001b[0;32m/usr/local/lib/python3.7/dist-packages/pomegranate/distributions/MultivariateGaussianDistribution.pyx\u001b[0m in \u001b[0;36mpomegranate.distributions.MultivariateGaussianDistribution.MultivariateGaussianDistribution.from_summaries\u001b[0;34m()\u001b[0m\n",
            "\u001b[0;32m/usr/local/lib/python3.7/dist-packages/scipy/linalg/decomp_cholesky.py\u001b[0m in \u001b[0;36mcholesky\u001b[0;34m(a, lower, overwrite_a, check_finite)\u001b[0m\n\u001b[1;32m     90\u001b[0m     c, lower = _cholesky(a, lower=lower, overwrite_a=overwrite_a, clean=True,\n\u001b[0;32m---> 91\u001b[0;31m                          check_finite=check_finite)\n\u001b[0m\u001b[1;32m     92\u001b[0m     \u001b[0;32mreturn\u001b[0m \u001b[0mc\u001b[0m\u001b[0;34m\u001b[0m\u001b[0;34m\u001b[0m\u001b[0m\n",
            "\u001b[0;32m/usr/local/lib/python3.7/dist-packages/scipy/linalg/decomp_cholesky.py\u001b[0m in \u001b[0;36m_cholesky\u001b[0;34m(a, lower, overwrite_a, clean, check_finite)\u001b[0m\n\u001b[1;32m     39\u001b[0m         raise LinAlgError(\"%d-th leading minor of the array is not positive \"\n\u001b[0;32m---> 40\u001b[0;31m                           \"definite\" % info)\n\u001b[0m\u001b[1;32m     41\u001b[0m     \u001b[0;32mif\u001b[0m \u001b[0minfo\u001b[0m \u001b[0;34m<\u001b[0m \u001b[0;36m0\u001b[0m\u001b[0;34m:\u001b[0m\u001b[0;34m\u001b[0m\u001b[0;34m\u001b[0m\u001b[0m\n",
            "\u001b[0;31mLinAlgError\u001b[0m: 10-th leading minor of the array is not positive definite",
            "\nDuring handling of the above exception, another exception occurred:\n",
            "\u001b[0;31mTypeError\u001b[0m                                 Traceback (most recent call last)",
            "\u001b[0;32m/usr/local/lib/python3.7/dist-packages/pomegranate/bayes.pyx\u001b[0m in \u001b[0;36mpomegranate.bayes.BayesModel.from_summaries\u001b[0;34m()\u001b[0m\n",
            "\u001b[0;32m/usr/local/lib/python3.7/dist-packages/pomegranate/distributions/MultivariateGaussianDistribution.pyx\u001b[0m in \u001b[0;36mpomegranate.distributions.MultivariateGaussianDistribution.MultivariateGaussianDistribution.from_summaries\u001b[0;34m()\u001b[0m\n",
            "\u001b[0;31mTypeError\u001b[0m: Cannot cast ufunc subtract output from dtype('complex128') to dtype('float64') with casting rule 'same_kind'"
          ]
        },
        {
          "name": "stderr",
          "output_type": "stream",
          "text": [
            "Exception ignored in: 'pomegranate.hmm.HiddenMarkovModel._from_summaries'\n",
            "Traceback (most recent call last):\n",
            "  File \"pomegranate/bayes.pyx\", line 808, in pomegranate.bayes.BayesModel.from_summaries\n",
            "  File \"pomegranate/distributions/MultivariateGaussianDistribution.pyx\", line 272, in pomegranate.distributions.MultivariateGaussianDistribution.MultivariateGaussianDistribution.from_summaries\n",
            "TypeError: Cannot cast ufunc subtract output from dtype('complex128') to dtype('float64') with casting rule 'same_kind'\n"
          ]
        },
        {
          "ename": "TypeError",
          "evalue": "ignored",
          "output_type": "error",
          "traceback": [
            "\u001b[0;31m---------------------------------------------------------------------------\u001b[0m",
            "\u001b[0;31mLinAlgError\u001b[0m                               Traceback (most recent call last)",
            "\u001b[0;32m/usr/local/lib/python3.7/dist-packages/pomegranate/distributions/MultivariateGaussianDistribution.pyx\u001b[0m in \u001b[0;36mpomegranate.distributions.MultivariateGaussianDistribution.MultivariateGaussianDistribution.from_summaries\u001b[0;34m()\u001b[0m\n",
            "\u001b[0;32m/usr/local/lib/python3.7/dist-packages/scipy/linalg/decomp_cholesky.py\u001b[0m in \u001b[0;36mcholesky\u001b[0;34m(a, lower, overwrite_a, check_finite)\u001b[0m\n\u001b[1;32m     90\u001b[0m     c, lower = _cholesky(a, lower=lower, overwrite_a=overwrite_a, clean=True,\n\u001b[0;32m---> 91\u001b[0;31m                          check_finite=check_finite)\n\u001b[0m\u001b[1;32m     92\u001b[0m     \u001b[0;32mreturn\u001b[0m \u001b[0mc\u001b[0m\u001b[0;34m\u001b[0m\u001b[0;34m\u001b[0m\u001b[0m\n",
            "\u001b[0;32m/usr/local/lib/python3.7/dist-packages/scipy/linalg/decomp_cholesky.py\u001b[0m in \u001b[0;36m_cholesky\u001b[0;34m(a, lower, overwrite_a, clean, check_finite)\u001b[0m\n\u001b[1;32m     39\u001b[0m         raise LinAlgError(\"%d-th leading minor of the array is not positive \"\n\u001b[0;32m---> 40\u001b[0;31m                           \"definite\" % info)\n\u001b[0m\u001b[1;32m     41\u001b[0m     \u001b[0;32mif\u001b[0m \u001b[0minfo\u001b[0m \u001b[0;34m<\u001b[0m \u001b[0;36m0\u001b[0m\u001b[0;34m:\u001b[0m\u001b[0;34m\u001b[0m\u001b[0;34m\u001b[0m\u001b[0m\n",
            "\u001b[0;31mLinAlgError\u001b[0m: 9-th leading minor of the array is not positive definite",
            "\nDuring handling of the above exception, another exception occurred:\n",
            "\u001b[0;31mTypeError\u001b[0m                                 Traceback (most recent call last)",
            "\u001b[0;32m/usr/local/lib/python3.7/dist-packages/pomegranate/bayes.pyx\u001b[0m in \u001b[0;36mpomegranate.bayes.BayesModel.from_summaries\u001b[0;34m()\u001b[0m\n",
            "\u001b[0;32m/usr/local/lib/python3.7/dist-packages/pomegranate/distributions/MultivariateGaussianDistribution.pyx\u001b[0m in \u001b[0;36mpomegranate.distributions.MultivariateGaussianDistribution.MultivariateGaussianDistribution.from_summaries\u001b[0;34m()\u001b[0m\n",
            "\u001b[0;31mTypeError\u001b[0m: Cannot cast ufunc subtract output from dtype('complex128') to dtype('float64') with casting rule 'same_kind'"
          ]
        },
        {
          "name": "stderr",
          "output_type": "stream",
          "text": [
            "Exception ignored in: 'pomegranate.hmm.HiddenMarkovModel._from_summaries'\n",
            "Traceback (most recent call last):\n",
            "  File \"pomegranate/bayes.pyx\", line 808, in pomegranate.bayes.BayesModel.from_summaries\n",
            "  File \"pomegranate/distributions/MultivariateGaussianDistribution.pyx\", line 272, in pomegranate.distributions.MultivariateGaussianDistribution.MultivariateGaussianDistribution.from_summaries\n",
            "TypeError: Cannot cast ufunc subtract output from dtype('complex128') to dtype('float64') with casting rule 'same_kind'\n"
          ]
        },
        {
          "ename": "TypeError",
          "evalue": "ignored",
          "output_type": "error",
          "traceback": [
            "\u001b[0;31m---------------------------------------------------------------------------\u001b[0m",
            "\u001b[0;31mLinAlgError\u001b[0m                               Traceback (most recent call last)",
            "\u001b[0;32m/usr/local/lib/python3.7/dist-packages/pomegranate/distributions/MultivariateGaussianDistribution.pyx\u001b[0m in \u001b[0;36mpomegranate.distributions.MultivariateGaussianDistribution.MultivariateGaussianDistribution.from_summaries\u001b[0;34m()\u001b[0m\n",
            "\u001b[0;32m/usr/local/lib/python3.7/dist-packages/scipy/linalg/decomp_cholesky.py\u001b[0m in \u001b[0;36mcholesky\u001b[0;34m(a, lower, overwrite_a, check_finite)\u001b[0m\n\u001b[1;32m     90\u001b[0m     c, lower = _cholesky(a, lower=lower, overwrite_a=overwrite_a, clean=True,\n\u001b[0;32m---> 91\u001b[0;31m                          check_finite=check_finite)\n\u001b[0m\u001b[1;32m     92\u001b[0m     \u001b[0;32mreturn\u001b[0m \u001b[0mc\u001b[0m\u001b[0;34m\u001b[0m\u001b[0;34m\u001b[0m\u001b[0m\n",
            "\u001b[0;32m/usr/local/lib/python3.7/dist-packages/scipy/linalg/decomp_cholesky.py\u001b[0m in \u001b[0;36m_cholesky\u001b[0;34m(a, lower, overwrite_a, clean, check_finite)\u001b[0m\n\u001b[1;32m     39\u001b[0m         raise LinAlgError(\"%d-th leading minor of the array is not positive \"\n\u001b[0;32m---> 40\u001b[0;31m                           \"definite\" % info)\n\u001b[0m\u001b[1;32m     41\u001b[0m     \u001b[0;32mif\u001b[0m \u001b[0minfo\u001b[0m \u001b[0;34m<\u001b[0m \u001b[0;36m0\u001b[0m\u001b[0;34m:\u001b[0m\u001b[0;34m\u001b[0m\u001b[0;34m\u001b[0m\u001b[0m\n",
            "\u001b[0;31mLinAlgError\u001b[0m: 9-th leading minor of the array is not positive definite",
            "\nDuring handling of the above exception, another exception occurred:\n",
            "\u001b[0;31mTypeError\u001b[0m                                 Traceback (most recent call last)",
            "\u001b[0;32m/usr/local/lib/python3.7/dist-packages/pomegranate/bayes.pyx\u001b[0m in \u001b[0;36mpomegranate.bayes.BayesModel.from_summaries\u001b[0;34m()\u001b[0m\n",
            "\u001b[0;32m/usr/local/lib/python3.7/dist-packages/pomegranate/distributions/MultivariateGaussianDistribution.pyx\u001b[0m in \u001b[0;36mpomegranate.distributions.MultivariateGaussianDistribution.MultivariateGaussianDistribution.from_summaries\u001b[0;34m()\u001b[0m\n",
            "\u001b[0;31mTypeError\u001b[0m: Cannot cast ufunc subtract output from dtype('complex128') to dtype('float64') with casting rule 'same_kind'"
          ]
        },
        {
          "name": "stderr",
          "output_type": "stream",
          "text": [
            "Exception ignored in: 'pomegranate.hmm.HiddenMarkovModel._from_summaries'\n",
            "Traceback (most recent call last):\n",
            "  File \"pomegranate/bayes.pyx\", line 808, in pomegranate.bayes.BayesModel.from_summaries\n",
            "  File \"pomegranate/distributions/MultivariateGaussianDistribution.pyx\", line 272, in pomegranate.distributions.MultivariateGaussianDistribution.MultivariateGaussianDistribution.from_summaries\n",
            "TypeError: Cannot cast ufunc subtract output from dtype('complex128') to dtype('float64') with casting rule 'same_kind'\n"
          ]
        },
        {
          "ename": "TypeError",
          "evalue": "ignored",
          "output_type": "error",
          "traceback": [
            "\u001b[0;31m---------------------------------------------------------------------------\u001b[0m",
            "\u001b[0;31mLinAlgError\u001b[0m                               Traceback (most recent call last)",
            "\u001b[0;32m/usr/local/lib/python3.7/dist-packages/pomegranate/distributions/MultivariateGaussianDistribution.pyx\u001b[0m in \u001b[0;36mpomegranate.distributions.MultivariateGaussianDistribution.MultivariateGaussianDistribution.from_summaries\u001b[0;34m()\u001b[0m\n",
            "\u001b[0;32m/usr/local/lib/python3.7/dist-packages/scipy/linalg/decomp_cholesky.py\u001b[0m in \u001b[0;36mcholesky\u001b[0;34m(a, lower, overwrite_a, check_finite)\u001b[0m\n\u001b[1;32m     90\u001b[0m     c, lower = _cholesky(a, lower=lower, overwrite_a=overwrite_a, clean=True,\n\u001b[0;32m---> 91\u001b[0;31m                          check_finite=check_finite)\n\u001b[0m\u001b[1;32m     92\u001b[0m     \u001b[0;32mreturn\u001b[0m \u001b[0mc\u001b[0m\u001b[0;34m\u001b[0m\u001b[0;34m\u001b[0m\u001b[0m\n",
            "\u001b[0;32m/usr/local/lib/python3.7/dist-packages/scipy/linalg/decomp_cholesky.py\u001b[0m in \u001b[0;36m_cholesky\u001b[0;34m(a, lower, overwrite_a, clean, check_finite)\u001b[0m\n\u001b[1;32m     39\u001b[0m         raise LinAlgError(\"%d-th leading minor of the array is not positive \"\n\u001b[0;32m---> 40\u001b[0;31m                           \"definite\" % info)\n\u001b[0m\u001b[1;32m     41\u001b[0m     \u001b[0;32mif\u001b[0m \u001b[0minfo\u001b[0m \u001b[0;34m<\u001b[0m \u001b[0;36m0\u001b[0m\u001b[0;34m:\u001b[0m\u001b[0;34m\u001b[0m\u001b[0;34m\u001b[0m\u001b[0m\n",
            "\u001b[0;31mLinAlgError\u001b[0m: 10-th leading minor of the array is not positive definite",
            "\nDuring handling of the above exception, another exception occurred:\n",
            "\u001b[0;31mTypeError\u001b[0m                                 Traceback (most recent call last)",
            "\u001b[0;32m/usr/local/lib/python3.7/dist-packages/pomegranate/bayes.pyx\u001b[0m in \u001b[0;36mpomegranate.bayes.BayesModel.from_summaries\u001b[0;34m()\u001b[0m\n",
            "\u001b[0;32m/usr/local/lib/python3.7/dist-packages/pomegranate/distributions/MultivariateGaussianDistribution.pyx\u001b[0m in \u001b[0;36mpomegranate.distributions.MultivariateGaussianDistribution.MultivariateGaussianDistribution.from_summaries\u001b[0;34m()\u001b[0m\n",
            "\u001b[0;31mTypeError\u001b[0m: Cannot cast ufunc subtract output from dtype('complex128') to dtype('float64') with casting rule 'same_kind'"
          ]
        },
        {
          "name": "stderr",
          "output_type": "stream",
          "text": [
            "Exception ignored in: 'pomegranate.hmm.HiddenMarkovModel._from_summaries'\n",
            "Traceback (most recent call last):\n",
            "  File \"pomegranate/bayes.pyx\", line 808, in pomegranate.bayes.BayesModel.from_summaries\n",
            "  File \"pomegranate/distributions/MultivariateGaussianDistribution.pyx\", line 272, in pomegranate.distributions.MultivariateGaussianDistribution.MultivariateGaussianDistribution.from_summaries\n",
            "TypeError: Cannot cast ufunc subtract output from dtype('complex128') to dtype('float64') with casting rule 'same_kind'\n"
          ]
        },
        {
          "ename": "TypeError",
          "evalue": "ignored",
          "output_type": "error",
          "traceback": [
            "\u001b[0;31m---------------------------------------------------------------------------\u001b[0m",
            "\u001b[0;31mLinAlgError\u001b[0m                               Traceback (most recent call last)",
            "\u001b[0;32m/usr/local/lib/python3.7/dist-packages/pomegranate/distributions/MultivariateGaussianDistribution.pyx\u001b[0m in \u001b[0;36mpomegranate.distributions.MultivariateGaussianDistribution.MultivariateGaussianDistribution.from_summaries\u001b[0;34m()\u001b[0m\n",
            "\u001b[0;32m/usr/local/lib/python3.7/dist-packages/scipy/linalg/decomp_cholesky.py\u001b[0m in \u001b[0;36mcholesky\u001b[0;34m(a, lower, overwrite_a, check_finite)\u001b[0m\n\u001b[1;32m     90\u001b[0m     c, lower = _cholesky(a, lower=lower, overwrite_a=overwrite_a, clean=True,\n\u001b[0;32m---> 91\u001b[0;31m                          check_finite=check_finite)\n\u001b[0m\u001b[1;32m     92\u001b[0m     \u001b[0;32mreturn\u001b[0m \u001b[0mc\u001b[0m\u001b[0;34m\u001b[0m\u001b[0;34m\u001b[0m\u001b[0m\n",
            "\u001b[0;32m/usr/local/lib/python3.7/dist-packages/scipy/linalg/decomp_cholesky.py\u001b[0m in \u001b[0;36m_cholesky\u001b[0;34m(a, lower, overwrite_a, clean, check_finite)\u001b[0m\n\u001b[1;32m     39\u001b[0m         raise LinAlgError(\"%d-th leading minor of the array is not positive \"\n\u001b[0;32m---> 40\u001b[0;31m                           \"definite\" % info)\n\u001b[0m\u001b[1;32m     41\u001b[0m     \u001b[0;32mif\u001b[0m \u001b[0minfo\u001b[0m \u001b[0;34m<\u001b[0m \u001b[0;36m0\u001b[0m\u001b[0;34m:\u001b[0m\u001b[0;34m\u001b[0m\u001b[0;34m\u001b[0m\u001b[0m\n",
            "\u001b[0;31mLinAlgError\u001b[0m: 8-th leading minor of the array is not positive definite",
            "\nDuring handling of the above exception, another exception occurred:\n",
            "\u001b[0;31mTypeError\u001b[0m                                 Traceback (most recent call last)",
            "\u001b[0;32m/usr/local/lib/python3.7/dist-packages/pomegranate/bayes.pyx\u001b[0m in \u001b[0;36mpomegranate.bayes.BayesModel.from_summaries\u001b[0;34m()\u001b[0m\n",
            "\u001b[0;32m/usr/local/lib/python3.7/dist-packages/pomegranate/distributions/MultivariateGaussianDistribution.pyx\u001b[0m in \u001b[0;36mpomegranate.distributions.MultivariateGaussianDistribution.MultivariateGaussianDistribution.from_summaries\u001b[0;34m()\u001b[0m\n",
            "\u001b[0;31mTypeError\u001b[0m: Cannot cast ufunc subtract output from dtype('complex128') to dtype('float64') with casting rule 'same_kind'"
          ]
        },
        {
          "name": "stderr",
          "output_type": "stream",
          "text": [
            "Exception ignored in: 'pomegranate.hmm.HiddenMarkovModel._from_summaries'\n",
            "Traceback (most recent call last):\n",
            "  File \"pomegranate/bayes.pyx\", line 808, in pomegranate.bayes.BayesModel.from_summaries\n",
            "  File \"pomegranate/distributions/MultivariateGaussianDistribution.pyx\", line 272, in pomegranate.distributions.MultivariateGaussianDistribution.MultivariateGaussianDistribution.from_summaries\n",
            "TypeError: Cannot cast ufunc subtract output from dtype('complex128') to dtype('float64') with casting rule 'same_kind'\n"
          ]
        },
        {
          "ename": "TypeError",
          "evalue": "ignored",
          "output_type": "error",
          "traceback": [
            "\u001b[0;31m---------------------------------------------------------------------------\u001b[0m",
            "\u001b[0;31mLinAlgError\u001b[0m                               Traceback (most recent call last)",
            "\u001b[0;32m/usr/local/lib/python3.7/dist-packages/pomegranate/distributions/MultivariateGaussianDistribution.pyx\u001b[0m in \u001b[0;36mpomegranate.distributions.MultivariateGaussianDistribution.MultivariateGaussianDistribution.from_summaries\u001b[0;34m()\u001b[0m\n",
            "\u001b[0;32m/usr/local/lib/python3.7/dist-packages/scipy/linalg/decomp_cholesky.py\u001b[0m in \u001b[0;36mcholesky\u001b[0;34m(a, lower, overwrite_a, check_finite)\u001b[0m\n\u001b[1;32m     90\u001b[0m     c, lower = _cholesky(a, lower=lower, overwrite_a=overwrite_a, clean=True,\n\u001b[0;32m---> 91\u001b[0;31m                          check_finite=check_finite)\n\u001b[0m\u001b[1;32m     92\u001b[0m     \u001b[0;32mreturn\u001b[0m \u001b[0mc\u001b[0m\u001b[0;34m\u001b[0m\u001b[0;34m\u001b[0m\u001b[0m\n",
            "\u001b[0;32m/usr/local/lib/python3.7/dist-packages/scipy/linalg/decomp_cholesky.py\u001b[0m in \u001b[0;36m_cholesky\u001b[0;34m(a, lower, overwrite_a, clean, check_finite)\u001b[0m\n\u001b[1;32m     39\u001b[0m         raise LinAlgError(\"%d-th leading minor of the array is not positive \"\n\u001b[0;32m---> 40\u001b[0;31m                           \"definite\" % info)\n\u001b[0m\u001b[1;32m     41\u001b[0m     \u001b[0;32mif\u001b[0m \u001b[0minfo\u001b[0m \u001b[0;34m<\u001b[0m \u001b[0;36m0\u001b[0m\u001b[0;34m:\u001b[0m\u001b[0;34m\u001b[0m\u001b[0;34m\u001b[0m\u001b[0m\n",
            "\u001b[0;31mLinAlgError\u001b[0m: 9-th leading minor of the array is not positive definite",
            "\nDuring handling of the above exception, another exception occurred:\n",
            "\u001b[0;31mTypeError\u001b[0m                                 Traceback (most recent call last)",
            "\u001b[0;32m/usr/local/lib/python3.7/dist-packages/pomegranate/bayes.pyx\u001b[0m in \u001b[0;36mpomegranate.bayes.BayesModel.from_summaries\u001b[0;34m()\u001b[0m\n",
            "\u001b[0;32m/usr/local/lib/python3.7/dist-packages/pomegranate/distributions/MultivariateGaussianDistribution.pyx\u001b[0m in \u001b[0;36mpomegranate.distributions.MultivariateGaussianDistribution.MultivariateGaussianDistribution.from_summaries\u001b[0;34m()\u001b[0m\n",
            "\u001b[0;31mTypeError\u001b[0m: Cannot cast ufunc subtract output from dtype('complex128') to dtype('float64') with casting rule 'same_kind'"
          ]
        },
        {
          "name": "stderr",
          "output_type": "stream",
          "text": [
            "Exception ignored in: 'pomegranate.hmm.HiddenMarkovModel._from_summaries'\n",
            "Traceback (most recent call last):\n",
            "  File \"pomegranate/bayes.pyx\", line 808, in pomegranate.bayes.BayesModel.from_summaries\n",
            "  File \"pomegranate/distributions/MultivariateGaussianDistribution.pyx\", line 272, in pomegranate.distributions.MultivariateGaussianDistribution.MultivariateGaussianDistribution.from_summaries\n",
            "TypeError: Cannot cast ufunc subtract output from dtype('complex128') to dtype('float64') with casting rule 'same_kind'\n"
          ]
        },
        {
          "ename": "TypeError",
          "evalue": "ignored",
          "output_type": "error",
          "traceback": [
            "\u001b[0;31m---------------------------------------------------------------------------\u001b[0m",
            "\u001b[0;31mLinAlgError\u001b[0m                               Traceback (most recent call last)",
            "\u001b[0;32m/usr/local/lib/python3.7/dist-packages/pomegranate/distributions/MultivariateGaussianDistribution.pyx\u001b[0m in \u001b[0;36mpomegranate.distributions.MultivariateGaussianDistribution.MultivariateGaussianDistribution.from_summaries\u001b[0;34m()\u001b[0m\n",
            "\u001b[0;32m/usr/local/lib/python3.7/dist-packages/scipy/linalg/decomp_cholesky.py\u001b[0m in \u001b[0;36mcholesky\u001b[0;34m(a, lower, overwrite_a, check_finite)\u001b[0m\n\u001b[1;32m     90\u001b[0m     c, lower = _cholesky(a, lower=lower, overwrite_a=overwrite_a, clean=True,\n\u001b[0;32m---> 91\u001b[0;31m                          check_finite=check_finite)\n\u001b[0m\u001b[1;32m     92\u001b[0m     \u001b[0;32mreturn\u001b[0m \u001b[0mc\u001b[0m\u001b[0;34m\u001b[0m\u001b[0;34m\u001b[0m\u001b[0m\n",
            "\u001b[0;32m/usr/local/lib/python3.7/dist-packages/scipy/linalg/decomp_cholesky.py\u001b[0m in \u001b[0;36m_cholesky\u001b[0;34m(a, lower, overwrite_a, clean, check_finite)\u001b[0m\n\u001b[1;32m     39\u001b[0m         raise LinAlgError(\"%d-th leading minor of the array is not positive \"\n\u001b[0;32m---> 40\u001b[0;31m                           \"definite\" % info)\n\u001b[0m\u001b[1;32m     41\u001b[0m     \u001b[0;32mif\u001b[0m \u001b[0minfo\u001b[0m \u001b[0;34m<\u001b[0m \u001b[0;36m0\u001b[0m\u001b[0;34m:\u001b[0m\u001b[0;34m\u001b[0m\u001b[0;34m\u001b[0m\u001b[0m\n",
            "\u001b[0;31mLinAlgError\u001b[0m: 9-th leading minor of the array is not positive definite",
            "\nDuring handling of the above exception, another exception occurred:\n",
            "\u001b[0;31mTypeError\u001b[0m                                 Traceback (most recent call last)",
            "\u001b[0;32m/usr/local/lib/python3.7/dist-packages/pomegranate/bayes.pyx\u001b[0m in \u001b[0;36mpomegranate.bayes.BayesModel.from_summaries\u001b[0;34m()\u001b[0m\n",
            "\u001b[0;32m/usr/local/lib/python3.7/dist-packages/pomegranate/distributions/MultivariateGaussianDistribution.pyx\u001b[0m in \u001b[0;36mpomegranate.distributions.MultivariateGaussianDistribution.MultivariateGaussianDistribution.from_summaries\u001b[0;34m()\u001b[0m\n",
            "\u001b[0;31mTypeError\u001b[0m: Cannot cast ufunc subtract output from dtype('complex128') to dtype('float64') with casting rule 'same_kind'"
          ]
        },
        {
          "name": "stderr",
          "output_type": "stream",
          "text": [
            "Exception ignored in: 'pomegranate.hmm.HiddenMarkovModel._from_summaries'\n",
            "Traceback (most recent call last):\n",
            "  File \"pomegranate/bayes.pyx\", line 808, in pomegranate.bayes.BayesModel.from_summaries\n",
            "  File \"pomegranate/distributions/MultivariateGaussianDistribution.pyx\", line 272, in pomegranate.distributions.MultivariateGaussianDistribution.MultivariateGaussianDistribution.from_summaries\n",
            "TypeError: Cannot cast ufunc subtract output from dtype('complex128') to dtype('float64') with casting rule 'same_kind'\n"
          ]
        },
        {
          "ename": "TypeError",
          "evalue": "ignored",
          "output_type": "error",
          "traceback": [
            "\u001b[0;31m---------------------------------------------------------------------------\u001b[0m",
            "\u001b[0;31mLinAlgError\u001b[0m                               Traceback (most recent call last)",
            "\u001b[0;32m/usr/local/lib/python3.7/dist-packages/pomegranate/distributions/MultivariateGaussianDistribution.pyx\u001b[0m in \u001b[0;36mpomegranate.distributions.MultivariateGaussianDistribution.MultivariateGaussianDistribution.from_summaries\u001b[0;34m()\u001b[0m\n",
            "\u001b[0;32m/usr/local/lib/python3.7/dist-packages/scipy/linalg/decomp_cholesky.py\u001b[0m in \u001b[0;36mcholesky\u001b[0;34m(a, lower, overwrite_a, check_finite)\u001b[0m\n\u001b[1;32m     90\u001b[0m     c, lower = _cholesky(a, lower=lower, overwrite_a=overwrite_a, clean=True,\n\u001b[0;32m---> 91\u001b[0;31m                          check_finite=check_finite)\n\u001b[0m\u001b[1;32m     92\u001b[0m     \u001b[0;32mreturn\u001b[0m \u001b[0mc\u001b[0m\u001b[0;34m\u001b[0m\u001b[0;34m\u001b[0m\u001b[0m\n",
            "\u001b[0;32m/usr/local/lib/python3.7/dist-packages/scipy/linalg/decomp_cholesky.py\u001b[0m in \u001b[0;36m_cholesky\u001b[0;34m(a, lower, overwrite_a, clean, check_finite)\u001b[0m\n\u001b[1;32m     39\u001b[0m         raise LinAlgError(\"%d-th leading minor of the array is not positive \"\n\u001b[0;32m---> 40\u001b[0;31m                           \"definite\" % info)\n\u001b[0m\u001b[1;32m     41\u001b[0m     \u001b[0;32mif\u001b[0m \u001b[0minfo\u001b[0m \u001b[0;34m<\u001b[0m \u001b[0;36m0\u001b[0m\u001b[0;34m:\u001b[0m\u001b[0;34m\u001b[0m\u001b[0;34m\u001b[0m\u001b[0m\n",
            "\u001b[0;31mLinAlgError\u001b[0m: 9-th leading minor of the array is not positive definite",
            "\nDuring handling of the above exception, another exception occurred:\n",
            "\u001b[0;31mTypeError\u001b[0m                                 Traceback (most recent call last)",
            "\u001b[0;32m/usr/local/lib/python3.7/dist-packages/pomegranate/bayes.pyx\u001b[0m in \u001b[0;36mpomegranate.bayes.BayesModel.from_summaries\u001b[0;34m()\u001b[0m\n",
            "\u001b[0;32m/usr/local/lib/python3.7/dist-packages/pomegranate/distributions/MultivariateGaussianDistribution.pyx\u001b[0m in \u001b[0;36mpomegranate.distributions.MultivariateGaussianDistribution.MultivariateGaussianDistribution.from_summaries\u001b[0;34m()\u001b[0m\n",
            "\u001b[0;31mTypeError\u001b[0m: Cannot cast ufunc subtract output from dtype('complex128') to dtype('float64') with casting rule 'same_kind'"
          ]
        },
        {
          "name": "stderr",
          "output_type": "stream",
          "text": [
            "Exception ignored in: 'pomegranate.hmm.HiddenMarkovModel._from_summaries'\n",
            "Traceback (most recent call last):\n",
            "  File \"pomegranate/bayes.pyx\", line 808, in pomegranate.bayes.BayesModel.from_summaries\n",
            "  File \"pomegranate/distributions/MultivariateGaussianDistribution.pyx\", line 272, in pomegranate.distributions.MultivariateGaussianDistribution.MultivariateGaussianDistribution.from_summaries\n",
            "TypeError: Cannot cast ufunc subtract output from dtype('complex128') to dtype('float64') with casting rule 'same_kind'\n"
          ]
        },
        {
          "ename": "TypeError",
          "evalue": "ignored",
          "output_type": "error",
          "traceback": [
            "\u001b[0;31m---------------------------------------------------------------------------\u001b[0m",
            "\u001b[0;31mLinAlgError\u001b[0m                               Traceback (most recent call last)",
            "\u001b[0;32m/usr/local/lib/python3.7/dist-packages/pomegranate/distributions/MultivariateGaussianDistribution.pyx\u001b[0m in \u001b[0;36mpomegranate.distributions.MultivariateGaussianDistribution.MultivariateGaussianDistribution.from_summaries\u001b[0;34m()\u001b[0m\n",
            "\u001b[0;32m/usr/local/lib/python3.7/dist-packages/scipy/linalg/decomp_cholesky.py\u001b[0m in \u001b[0;36mcholesky\u001b[0;34m(a, lower, overwrite_a, check_finite)\u001b[0m\n\u001b[1;32m     90\u001b[0m     c, lower = _cholesky(a, lower=lower, overwrite_a=overwrite_a, clean=True,\n\u001b[0;32m---> 91\u001b[0;31m                          check_finite=check_finite)\n\u001b[0m\u001b[1;32m     92\u001b[0m     \u001b[0;32mreturn\u001b[0m \u001b[0mc\u001b[0m\u001b[0;34m\u001b[0m\u001b[0;34m\u001b[0m\u001b[0m\n",
            "\u001b[0;32m/usr/local/lib/python3.7/dist-packages/scipy/linalg/decomp_cholesky.py\u001b[0m in \u001b[0;36m_cholesky\u001b[0;34m(a, lower, overwrite_a, clean, check_finite)\u001b[0m\n\u001b[1;32m     39\u001b[0m         raise LinAlgError(\"%d-th leading minor of the array is not positive \"\n\u001b[0;32m---> 40\u001b[0;31m                           \"definite\" % info)\n\u001b[0m\u001b[1;32m     41\u001b[0m     \u001b[0;32mif\u001b[0m \u001b[0minfo\u001b[0m \u001b[0;34m<\u001b[0m \u001b[0;36m0\u001b[0m\u001b[0;34m:\u001b[0m\u001b[0;34m\u001b[0m\u001b[0;34m\u001b[0m\u001b[0m\n",
            "\u001b[0;31mLinAlgError\u001b[0m: 8-th leading minor of the array is not positive definite",
            "\nDuring handling of the above exception, another exception occurred:\n",
            "\u001b[0;31mTypeError\u001b[0m                                 Traceback (most recent call last)",
            "\u001b[0;32m/usr/local/lib/python3.7/dist-packages/pomegranate/bayes.pyx\u001b[0m in \u001b[0;36mpomegranate.bayes.BayesModel.from_summaries\u001b[0;34m()\u001b[0m\n",
            "\u001b[0;32m/usr/local/lib/python3.7/dist-packages/pomegranate/distributions/MultivariateGaussianDistribution.pyx\u001b[0m in \u001b[0;36mpomegranate.distributions.MultivariateGaussianDistribution.MultivariateGaussianDistribution.from_summaries\u001b[0;34m()\u001b[0m\n",
            "\u001b[0;31mTypeError\u001b[0m: Cannot cast ufunc subtract output from dtype('complex128') to dtype('float64') with casting rule 'same_kind'"
          ]
        },
        {
          "name": "stderr",
          "output_type": "stream",
          "text": [
            "Exception ignored in: 'pomegranate.hmm.HiddenMarkovModel._from_summaries'\n",
            "Traceback (most recent call last):\n",
            "  File \"pomegranate/bayes.pyx\", line 808, in pomegranate.bayes.BayesModel.from_summaries\n",
            "  File \"pomegranate/distributions/MultivariateGaussianDistribution.pyx\", line 272, in pomegranate.distributions.MultivariateGaussianDistribution.MultivariateGaussianDistribution.from_summaries\n",
            "TypeError: Cannot cast ufunc subtract output from dtype('complex128') to dtype('float64') with casting rule 'same_kind'\n",
            "\u001b[32m[I 2021-12-18 12:46:39,796]\u001b[0m Trial 17 finished with value: 0.9888888888888889 and parameters: {'n_states': 4, 'n_components': 4, 'max_iter': 200}. Best is trial 4 with value: 0.9981481481481481.\u001b[0m\n",
            "\u001b[32m[I 2021-12-18 12:49:25,920]\u001b[0m Trial 18 finished with value: 0.9907407407407407 and parameters: {'n_states': 3, 'n_components': 3, 'max_iter': 400}. Best is trial 4 with value: 0.9981481481481481.\u001b[0m\n",
            "\u001b[32m[I 2021-12-18 12:52:53,089]\u001b[0m Trial 19 finished with value: 0.9907407407407407 and parameters: {'n_states': 2, 'n_components': 5, 'max_iter': 300}. Best is trial 4 with value: 0.9981481481481481.\u001b[0m\n"
          ]
        }
      ],
      "source": [
        "study = optuna.create_study(direction='maximize')\n",
        "study.optimize(objective, n_trials=20) # for final presentation it must be set to 100 and higher"
      ]
    },
    {
      "cell_type": "code",
      "execution_count": null,
      "metadata": {
        "colab": {
          "base_uri": "https://localhost:8080/"
        },
        "id": "DEmnYymqh0Rn",
        "outputId": "f8dcc4f2-2e3c-486c-c444-afc2df611d07"
      },
      "outputs": [
        {
          "name": "stdout",
          "output_type": "stream",
          "text": [
            "{'n_states': 3, 'n_components': 5, 'max_iter': 300}\n"
          ]
        }
      ],
      "source": [
        "params = study.best_trials[0].params\n",
        "print(params)\n",
        "\n",
        "with open('./best_hmm.pickle', 'wb') as handle:\n",
        "  pickle.dump(study, handle, protocol=pickle.HIGHEST_PROTOCOL)\n"
      ]
    },
    {
      "cell_type": "markdown",
      "metadata": {
        "id": "n3uT-NA-l4pI"
      },
      "source": [
        "#### Make Instance using the optimal parameters / Testing"
      ]
    },
    {
      "cell_type": "code",
      "execution_count": null,
      "metadata": {
        "colab": {
          "base_uri": "https://localhost:8080/"
        },
        "id": "47Eo6iLql31i",
        "outputId": "8e930986-fb7e-4d05-906a-f55aac6ecc33"
      },
      "outputs": [
        {
          "name": "stdout",
          "output_type": "stream",
          "text": [
            "Best params for HMM:\n",
            "{'n_states': 3, 'n_components': 5, 'max_iter': 300}\n",
            "Testset accuracy score:\t 0.99\n"
          ]
        }
      ],
      "source": [
        "print(\"Best params for HMM:\")\n",
        "\n",
        "with open('./best_hmm.pickle', 'rb') as handle:\n",
        "  study_hmm  = pickle.load(handle)\n",
        "\n",
        "best_params = study_hmm.best_trials[0].params\n",
        "print(best_params)\n",
        "\n",
        "hmm = HMM(n_states=best_params['n_states'], n_components=best_params['n_components'], max_iter=best_params['max_iter'])\n",
        "hmm.fit(train_data)\n",
        "dev_pred = hmm.predict(X_dev)\n",
        "test_pred = hmm.predict(X_test)\n",
        "\n",
        "print(\"Testset accuracy score:\\t\", hmm.score(X_test, y_test))"
      ]
    },
    {
      "cell_type": "markdown",
      "metadata": {
        "id": "vEBKjj1hlu-8"
      },
      "source": [
        "## Section 3 - Confusion Matrices for Dev-Test Set"
      ]
    },
    {
      "cell_type": "code",
      "execution_count": null,
      "metadata": {
        "colab": {
          "base_uri": "https://localhost:8080/",
          "height": 959
        },
        "id": "-oi6NpAClwjK",
        "outputId": "804a3e74-a194-425b-9247-b950bdacbc05"
      },
      "outputs": [
        {
          "name": "stdout",
          "output_type": "stream",
          "text": [
            "              precision    recall  f1-score   support\n",
            "\n",
            "           0       0.96      0.98      0.97        54\n",
            "           1       1.00      1.00      1.00        54\n",
            "           2       0.98      1.00      0.99        54\n",
            "           3       0.98      0.94      0.96        54\n",
            "           4       1.00      1.00      1.00        54\n",
            "           5       1.00      1.00      1.00        54\n",
            "           6       1.00      0.98      0.99        54\n",
            "           7       0.98      1.00      0.99        54\n",
            "           8       1.00      1.00      1.00        54\n",
            "           9       1.00      1.00      1.00        54\n",
            "\n",
            "    accuracy                           0.99       540\n",
            "   macro avg       0.99      0.99      0.99       540\n",
            "weighted avg       0.99      0.99      0.99       540\n",
            "\n",
            "              precision    recall  f1-score   support\n",
            "\n",
            "           0       0.97      1.00      0.98        30\n",
            "           1       0.97      1.00      0.98        30\n",
            "           2       1.00      1.00      1.00        30\n",
            "           3       1.00      1.00      1.00        30\n",
            "           4       1.00      0.97      0.98        30\n",
            "           5       1.00      0.97      0.98        30\n",
            "           6       1.00      1.00      1.00        30\n",
            "           7       0.97      1.00      0.98        30\n",
            "           8       1.00      1.00      1.00        30\n",
            "           9       1.00      0.97      0.98        30\n",
            "\n",
            "    accuracy                           0.99       300\n",
            "   macro avg       0.99      0.99      0.99       300\n",
            "weighted avg       0.99      0.99      0.99       300\n",
            "\n"
          ]
        },
        {
          "data": {
            "image/png": "[encoded data removed]",
            "text/plain": [
              "<Figure size 864x360 with 4 Axes>"
            ]
          },
          "metadata": {},
          "output_type": "display_data"
        }
      ],
      "source": [
        "fig, axes = plt.subplots(nrows=1, ncols=2, figsize=(12,5))\n",
        "\n",
        "for X, y, pred, ax, title in zip((X_dev, X_test), (y_dev, y_test), (dev_pred, test_pred), axes.flatten(), ('CM for Dev Set', 'CM for Test Set')):\n",
        "  ### Fit model to get the predictions ###\n",
        "\n",
        "  print(classification_report(y, pred))\n",
        "\n",
        "  cm = confusion_matrix(np.array(y), np.array(pred))\n",
        "  sns.heatmap(cm, ax=ax, annot=True)\n",
        "  ax.title.set_text(title)\n",
        "\n",
        "plt.tight_layout()\n",
        "plt.show()"
      ]
    },
    {
      "cell_type": "markdown",
      "metadata": {
        "id": "a2RHzmPOEJo3"
      },
      "source": [
        "## Section 4 - LSTM Variations as Classifier"
      ]
    },
    {
      "cell_type": "markdown",
      "metadata": {
        "id": "sxyxDA2IOyzo"
      },
      "source": [
        "#### Classes Implementation"
      ]
    },
    {
      "cell_type": "code",
      "execution_count": null,
      "metadata": {
        "id": "2JOZchNV7gTn"
      },
      "outputs": [],
      "source": [
        "class FrameLevelDataset(Dataset):\n",
        "    def __init__(self, feats, labels):\n",
        "        \"\"\"\n",
        "            feats: Python list of numpy arrays that contain the sequence features.\n",
        "                   Each element of this list is a numpy array of shape seq_length x feature_dimension\n",
        "            labels: Python list that contains the label for each sequence (each label must be an integer)\n",
        "        \"\"\"\n",
        "        self.lengths = [len(seq) for seq in feats] # Find the lengths\n",
        "\n",
        "        self.feats, self.longest_seq = self.zero_pad_and_stack(feats)\n",
        "        if isinstance(labels, (list, tuple)):\n",
        "            self.labels = np.array(labels).astype('int64')\n",
        "\n",
        "    def zero_pad_and_stack(self, X):\n",
        "        \"\"\"\n",
        "            This function performs zero padding on a list of features and forms them into a numpy 3D array\n",
        "            returns\n",
        "                padded: a 3D numpy array of shape num_sequences x max_sequence_length x feature_dimension\n",
        "        \"\"\"\n",
        "        # get the length of each sentence\n",
        "        seq_lens = [len(seq) for seq in X]\n",
        "\n",
        "        # create an empty matrix with padding tokens\n",
        "        longest_seq = max(seq_lens)\n",
        "\n",
        "        batch_size = len(X)\n",
        "        feat_dim = X[0].shape[1]\n",
        "\n",
        "        padded_X = np.zeros((batch_size, longest_seq, feat_dim))\n",
        "\n",
        "        # copy over the actual sequences\n",
        "        for i, x_len in enumerate(seq_lens):\n",
        "          sequence = X[i]\n",
        "          padded_X[i, :x_len] = sequence[:x_len]\n",
        "\n",
        "        return padded_X, longest_seq\n",
        "\n",
        "    def __getitem__(self, item):\n",
        "        return self.feats[item], self.labels[item], self.lengths[item]\n",
        "\n",
        "    def __len__(self):\n",
        "        return len(self.feats)\n"
      ]
    },
    {
      "cell_type": "code",
      "execution_count": null,
      "metadata": {
        "id": "IMM42D3wOWHK"
      },
      "outputs": [],
      "source": [
        "class ClfLSTM(nn.Module):\n",
        "    def __init__(self, input_dim, rnn_size, output_dim, num_layers, bidirectional=False, dropout=None, pack_padded_sequence=False):\n",
        "        super(ClfLSTM, self).__init__()\n",
        "        self.bidirectional = bidirectional\n",
        "        self.feature_size = rnn_size * 2 if self.bidirectional else rnn_size\n",
        "        self.num_layers = num_layers\n",
        "        self.pack_padded_sequence = pack_padded_sequence\n",
        "        #define the lstm\n",
        "        self.lstm = nn.LSTM(input_dim, self.feature_size, self.num_layers, batch_first=True)\n",
        "\n",
        "        #Define dropout layer(because of num_layers==1, we are setting a distinct dropout layer after lstm)\n",
        "        self.dropout = nn.Dropout(dropout) if dropout is not None else None\n",
        "        #define a non-linear transformation of the representations\n",
        "        self.output = nn.Linear(self.feature_size, output_dim)\n",
        "        self.double()\n",
        "\n",
        "\n",
        "    ## TODO: I may have to implement the init_hidden() for initializing h0\n",
        "    #def init_hidden(self): . . .\n",
        "\n",
        "    def forward(self, x, lengths):\n",
        "        \"\"\"\n",
        "            x : 3D numpy array of dimension N x L x D\n",
        "                N: batch index\n",
        "                L: sequence index\n",
        "                D: feature index\n",
        "            lengths: N x 1\n",
        "         \"\"\"\n",
        "        #define batch_size and max_length\n",
        "        batch_size, max_length, _ = x.shape\n",
        "\n",
        "        # Improving Training Complexity (Bonus)\n",
        "        if self.pack_padded_sequence:\n",
        "          # Sort by length, pass through LSTM layer as pack_padded_sequence and retieve initial ordering\n",
        "          # Sort by length (keep idx)\n",
        "          sorted_lengths, idx_sort = np.sort(lengths)[::-1], np.argsort(-lengths)\n",
        "          idx_unsort = np.argsort(idx_sort)\n",
        "\n",
        "          # x = x.index_select(0, Variable(idx_sort)) # i may have to use it\n",
        "          x = x.index_select(0, idx_sort)\n",
        "\n",
        "          # Handling padding in Recurrent Networks\n",
        "          x = nn.utils.rnn.pack_padded_sequence(x, sorted_lengths.tolist(), batch_first=True)\n",
        "          ht, _ = self.lstm(x)\n",
        "          ht, _ = nn.utils.rnn.pad_packed_sequence(ht, batch_first=True)\n",
        "\n",
        "          # Un-sort by length\n",
        "          ht = ht.index_select(0, idx_unsort)\n",
        "\n",
        "        # ht, _ = self.lstm(X, (h_0, c_0), batch_first=True) ## for another verion\n",
        "        else:\n",
        "          ht, _ = self.lstm(x)\n",
        "\n",
        "        # You must have all of the outputs of the LSTM, but you need only the last one (that does not exceed the sequence length)\n",
        "        # To get it use the last_timestep method\n",
        "        # Then pass it through the remaining network\n",
        "\n",
        "        # Given implementation\n",
        "        last_step = self.last_timestep(ht, lengths, self.bidirectional)\n",
        "\n",
        "        ## Our implementation for pick the last not exceed the max_length\n",
        "        ## For bidirectional = True, it doesn't work\n",
        "        # last_step = torch.zeros(batch_size, self.feature_size).float()\n",
        "        # for i in range(lengths.shape[0]):\n",
        "        #     last = lengths[i] - 1 if lengths[i] <= max_length else max_length - 1\n",
        "        #     last_step[i] = ht[i, last, :]\n",
        "\n",
        "        logits = self.dropout(self.output(last_step)) if self.dropout is not None else self.output(last_step)\n",
        "        return logits\n",
        "\n",
        "    def last_timestep(self, outputs, lengths, bidirectional=False):\n",
        "        \"\"\"\n",
        "            Returns the last output of the LSTM taking into account the zero padding\n",
        "        \"\"\"\n",
        "        if bidirectional:\n",
        "            forward, backward = self.split_directions(outputs)\n",
        "            last_forward = self.last_by_index(forward, lengths)\n",
        "            last_backward = backward[:, 0, :]\n",
        "            # Concatenate and return - maybe add more functionalities like average\n",
        "            return torch.cat((last_forward, last_backward), dim=-1)\n",
        "\n",
        "        else:\n",
        "            return self.last_by_index(outputs, lengths)\n",
        "\n",
        "    @staticmethod\n",
        "    def split_directions(outputs):\n",
        "        direction_size = int(outputs.size(-1) / 2)\n",
        "        forward = outputs[:, :, :direction_size]\n",
        "        backward = outputs[:, :, direction_size:]\n",
        "        return forward, backward\n",
        "\n",
        "    @staticmethod\n",
        "    def last_by_index(outputs, lengths):\n",
        "        # Index of the last output for each sequence.\n",
        "        idx = (lengths - 1).view(-1, 1).expand(outputs.size(0),\n",
        "                                               outputs.size(2)).unsqueeze(1)\n",
        "        return outputs.gather(1, idx).squeeze()"
      ]
    },
    {
      "cell_type": "code",
      "execution_count": null,
      "metadata": {
        "id": "DDPYv3rIOvVS"
      },
      "outputs": [],
      "source": [
        "class EarlyStopping():  #class for the early stopping reguralization\n",
        "    \"\"\"Early stops the training if validation loss doesn't improve after a given patience.\"\"\"\n",
        "    def __init__(self, patience=3, verbose=True, delta=0):\n",
        "        \"\"\"\n",
        "        Args:\n",
        "            patience (int): How long to wait after last time validation loss improved.\n",
        "                            Default: 3\n",
        "            verbose (bool): If True, prints a message for each validation loss improvement.\n",
        "                            Default: False\n",
        "            delta (float): Minimum change in the monitored quantity to qualify as an improvement.\n",
        "                            Default: 0\n",
        "        \"\"\"\n",
        "        self.patience = patience\n",
        "        self.best = {}\n",
        "        self.verbose = verbose\n",
        "        self.counter = 0\n",
        "        self.best_score = None\n",
        "        self.early_stop = False\n",
        "        self.test_loss_min = np.Inf\n",
        "        self.delta = delta  #definition of the minimum tolerance\n",
        "\n",
        "    def __call__(self, accuracy, f1, recall, train_loss, test_loss, epoch):\n",
        "\n",
        "        score = -test_loss\n",
        "\n",
        "        if self.best_score is None: #check if it is the first epoch\n",
        "            self.best_score = score\n",
        "            self.best['epoch'] = epoch\n",
        "            self.best['loss'] = [train_loss, test_loss]\n",
        "            self.best['accuracy'] = [accuracy[0, epoch-1], accuracy[1, epoch-1]]\n",
        "            self.best['f1'] = [f1[0, epoch-1], f1[1, epoch-1]]\n",
        "            self.best['recall'] = [recall[0, epoch-1], recall[1, epoch-1]]\n",
        "\n",
        "            if self.verbose:\n",
        "                print(f'Test loss decreased ({self.test_loss_min:.6f} --> {test_loss:.6f}).  Saving model ...')\n",
        "            self.test_loss_min = test_loss\n",
        "        elif score < self.best_score + self.delta:  #if there is no advance then increase counter\n",
        "            self.counter += 1\n",
        "            print(f'EarlyStopping counter: {self.counter} out of {self.patience}')\n",
        "            if self.counter >= self.patience:   #if counter == patience then stop\n",
        "                self.early_stop = True\n",
        "        else:\n",
        "            self.best_score = score #else save the best model till now\n",
        "            if self.verbose:\n",
        "                print(f'Test loss decreased ({self.test_loss_min:.6f} --> {test_loss:.6f}).  Saving model ...')\n",
        "            self.counter = 0\n",
        "            self.best['epoch'] = epoch\n",
        "            self.best['loss'] = [train_loss, test_loss]\n",
        "            self.best['accuracy'] = [accuracy[0, epoch-1], accuracy[1, epoch-1]]\n",
        "            self.best['f1'] = [f1[0, epoch-1], f1[1, epoch-1]]\n",
        "            self.best['recall'] = [recall[0, epoch-1], recall[1, epoch-1]]\n",
        "            self.test_loss_min = test_loss\n",
        "\n",
        "    def stopping(self):\n",
        "        return self.early_stop\n",
        "\n",
        "    def get_best(self):\n",
        "        return self.best\n"
      ]
    },
    {
      "cell_type": "markdown",
      "metadata": {
        "id": "nIRGQ0YlO65t"
      },
      "source": [
        "#### Pipeline Functions"
      ]
    },
    {
      "cell_type": "code",
      "execution_count": null,
      "metadata": {
        "id": "xWxCdv9lvsik"
      },
      "outputs": [],
      "source": [
        "def progress(loss, epoch, batch, batch_size, dataset_size):\n",
        "    \"\"\"\n",
        "    Print the progress of the training for each epoch\n",
        "    \"\"\"\n",
        "    batches = math.ceil(float(dataset_size) / batch_size)\n",
        "    count = batch * batch_size\n",
        "    bar_len = 40\n",
        "    filled_len = int(round(bar_len * count / float(dataset_size)))\n",
        "\n",
        "    bar = '=' * filled_len + '-' * (bar_len - filled_len)\n",
        "\n",
        "    status = 'Epoch {}, Loss: {:.4f}'.format(epoch, loss)\n",
        "    _progress_str = \"\\r \\r [{}] ...{}\".format(bar, status)\n",
        "    sys.stdout.write(_progress_str)\n",
        "    sys.stdout.flush()\n",
        "\n",
        "    if batch == batches:\n",
        "        print()"
      ]
    },
    {
      "cell_type": "code",
      "execution_count": null,
      "metadata": {
        "id": "M6q7WzQVUPzb"
      },
      "outputs": [],
      "source": [
        "def train_lstm(_epoch, dataloader, model, loss_function, optimizer):\n",
        "    # IMPORTANT: switch to train mode\n",
        "    # enable regularization layers, such as Dropout\n",
        "    model.train()\n",
        "    running_loss = 0.0\n",
        "    # obtain the model's device ID\n",
        "    device = next(model.parameters()).device\n",
        "    for index, batch in enumerate(dataloader, 1):\n",
        "\n",
        "        inputs, labels, lengths = batch\n",
        "\n",
        "        # move the batch tensors to the right device\n",
        "        inputs, labels, lengths = inputs.to(device), labels.to(device), lengths.to(device)  # EX9\n",
        "        # Step 1 - zero the gradients\n",
        "        # Remember that PyTorch accumulates gradients.\n",
        "        # We need to clear them out before each batch!\n",
        "        model.zero_grad()  # EX9\n",
        "\n",
        "        # Step 2 - forward pass: y' = model(x)\n",
        "        outputs = model(inputs, lengths)  # EX9\n",
        "        # Step 3 - compute loss: L = loss_function(y, y')\n",
        "        loss = loss_function(outputs, labels)  # EX9\n",
        "        # Step 4 - backward pass: compute gradient wrt model parameters\n",
        "\n",
        "        loss.backward() # EX9\n",
        "        # Step 5 - update weights\n",
        "        optimizer.step()  # EX9\n",
        "        running_loss += loss.data.item()\n",
        "\n",
        "        progress(loss=loss.data.item(),\n",
        "                 epoch=_epoch,\n",
        "                 batch=index,\n",
        "                 batch_size=dataloader.batch_size,\n",
        "                 dataset_size=len(dataloader.dataset))\n",
        "\n"
      ]
    },
    {
      "cell_type": "code",
      "execution_count": null,
      "metadata": {
        "id": "dKe7lfwNUPzb"
      },
      "outputs": [],
      "source": [
        "def eval_lstm(dataloader, model, loss_function):\n",
        "    # IMPORTANT: switch to eval mode\n",
        "    # disable regularization layers, such as Dropout\n",
        "    model.eval()\n",
        "    running_loss = 0.0\n",
        "\n",
        "    y_pred = []  # the predicted labels\n",
        "    y = []  # the gold labels\n",
        "\n",
        "    # obtain the model's device ID\n",
        "    device = next(model.parameters()).device\n",
        "\n",
        "    # IMPORTANT: in evaluation mode, we don't want to keep the gradients\n",
        "    # so we do everything under torch.no_grad()\n",
        "    with torch.no_grad():\n",
        "        for index, batch in enumerate(dataloader, 1):\n",
        "            # get the inputs (batch)\n",
        "            inputs, labels, lengths = batch\n",
        "\n",
        "            # Step 1 - move the batch tensors to the right device\n",
        "            inputs, labels, lengths = inputs.to(device), labels.to(device), lengths.to(device)  # EX9\n",
        "\n",
        "            # Step 2 - forward pass: y' = model(x)\n",
        "            outputs = model(inputs, lengths) # EX9\n",
        "\n",
        "            # Step 3 - compute loss.\n",
        "            # We compute the loss only for inspection (compare train/test loss)\n",
        "            # because we do not actually backpropagate in test time\n",
        "\n",
        "            loss = loss_function(outputs, labels)  # EX9\n",
        "\n",
        "            # Step 4 - make predictions (class = argmax of posteriors)\n",
        "\n",
        "            val, pred = outputs.max(1) # argmax since output is a prob distribution  # EX9\n",
        "\n",
        "            # Step 5 - collect the predictions, gold labels and batch loss\n",
        "            tags = []\n",
        "\n",
        "            y += list(labels)\n",
        "            y_pred += list(pred) # EX9\n",
        "            running_loss += loss.data.item()\n",
        "    return running_loss / index, y, y_pred\n"
      ]
    },
    {
      "cell_type": "code",
      "execution_count": null,
      "metadata": {
        "id": "T2asONbWPGeM"
      },
      "outputs": [],
      "source": [
        "def plot_stats(losses, accuracy, f1, recall, epochs, ep, best=None):\n",
        "\n",
        "  figure, axes = plt.subplots(nrows=2, ncols=2, figsize = (20,5))\n",
        "  titles = ['Loss', 'Accuracy Score', 'F1 Score', 'Recall Score']\n",
        "  functions = [losses, accuracy, f1, recall]\n",
        "  best_keys = ['loss', 'accuracy', 'f1', 'recall']\n",
        "  descrs = ['Loss', 'Accuracy Score', 'F1 Score', 'Recall Score']\n",
        "\n",
        "  for ax, title, function, key, descr in zip(axes.flatten(), titles, functions, best_keys, descrs):\n",
        "\n",
        "    ax.plot(epochs, function[0,:ep], label=\"Train Set\")\n",
        "    ax.plot(epochs, function[1,:ep], label=\"Dev Set\")\n",
        "\n",
        "    if best is not None:\n",
        "      ax.plot(best['epoch'], best[key][0], marker=\"o\",color=\"red\", label=f\"Best Model's {descr} for the Train Set\")\n",
        "      ax.plot(best['epoch'], best[key][1], marker=\"o\",color=\"green\", label=f\"Best Model's {descr} for the Dev Set\")\n",
        "\n",
        "    ax.set_title(title)\n",
        "    ax.set_xlabel('Epochs')\n",
        "    ax.set_ylabel('Values')\n",
        "    ax.grid()\n",
        "    ax.legend()\n",
        "\n",
        "  plt.tight_layout()\n",
        "  plt.show()"
      ]
    },
    {
      "cell_type": "code",
      "execution_count": null,
      "metadata": {
        "id": "64BHKPE6GYp3"
      },
      "outputs": [],
      "source": [
        "def main(net, optimizer, criterion, train_loader, dev_loader, EPOCHS, net_name=None, PATIENCE=None):\n",
        "  #############################################################################\n",
        "  # Training Pipeline\n",
        "  #############################################################################\n",
        "  losses = np.zeros((2,EPOCHS))\n",
        "  accuracy = np.zeros((2,EPOCHS))\n",
        "  f1 = np.zeros((2,EPOCHS))\n",
        "  recall = np.zeros((2,EPOCHS))\n",
        "  total = 0\n",
        "  base = time.time()\n",
        "  early = EarlyStopping(patience=PATIENCE) if PATIENCE is not None else None\n",
        "  ep = 0\n",
        "  E_loss = np.inf\n",
        "\n",
        "  for epoch in tqdm(range(1, EPOCHS + 1)):\n",
        "      ep += 1\n",
        "      now = time.time()\n",
        "\n",
        "      # train the model for one epoch\n",
        "      train_lstm(epoch, train_loader, net, criterion, optimizer)\n",
        "      # evaluate the performance of the model, on both data sets\n",
        "      train_loss, y_train_gold, y_train_pred = eval_lstm(train_loader, net, criterion)\n",
        "      losses[0, epoch-1] = train_loss\n",
        "\n",
        "      print(f\"Statistics for the Train Set\")\n",
        "\n",
        "      accuracy[0, epoch-1] = accuracy_score(y_train_gold, y_train_pred)\n",
        "      print(f'\\t Epoch: {epoch} \\t Accuracy Score: {accuracy_score(y_train_gold, y_train_pred)}')\n",
        "      f1[0, epoch-1] = f1_score(y_train_gold, y_train_pred, average='macro')\n",
        "      print(f'\\t Epoch: {epoch} \\t f1 Score: {f1[0, epoch-1]}')\n",
        "      recall[0, epoch-1] = recall_score(y_train_gold, y_train_pred, average='macro')\n",
        "      print(f'\\t Epoch: {epoch} \\t recall Score: {recall[0, epoch-1]}')\n",
        "\n",
        "\n",
        "      test_loss, y_test_gold, y_test_pred = eval_lstm(dev_loader, net, criterion)\n",
        "\n",
        "      if net_name is not None and E_loss > test_loss:\n",
        "          E_loss = test_loss\n",
        "          with open(f'./best_{net_name}.pickle', 'wb') as handle:  # Use pickle files to save our models\n",
        "            pickle.dump(net, handle, protocol=pickle.HIGHEST_PROTOCOL)\n",
        "\n",
        "      losses[1, epoch-1] = test_loss\n",
        "      print(f\"Statistics for the Dev Set\")\n",
        "      print(f'\\t Epoch: {epoch} \\t loss: {losses[1, epoch-1]}')\n",
        "\n",
        "      accuracy[1, epoch-1] = accuracy_score(y_test_gold, y_test_pred)\n",
        "      print(f'\\t Epoch: {epoch} \\t Accuracy Score: {accuracy[1, epoch-1]}')\n",
        "      f1[1, epoch-1] = f1_score(y_test_gold, y_test_pred, average='macro')\n",
        "      print(f'\\t Epoch: {epoch} \\t f1 Score: {f1[1, epoch-1]}')\n",
        "      recall[1, epoch-1] = recall_score(y_test_gold, y_test_pred, average='macro')\n",
        "      print(f'\\t Epoch: {epoch} \\t recall Score: {recall[1, epoch-1]}')\n",
        "\n",
        "      if early is not None:\n",
        "        early.__call__(accuracy, f1, recall, train_loss, test_loss, epoch)   #call the object early for checking the advance\n",
        "        if early.stopping() == True:    #if true then stop the training to avoid overfitting\n",
        "                break\n",
        "\n",
        "      tm = time.time() - now\n",
        "      total += tm\n",
        "      print(\"Epoch total time\", tm)\n",
        "\n",
        "  print(\"Training total time\", total)\n",
        "\n",
        "  epochs = np.linspace(1, ep, ep)\n",
        "  best = early.get_best() if early is not None else None\n",
        "\n",
        "  # Plot our Study's Result\n",
        "  plot_stats(losses, accuracy, f1, recall, epochs, ep, best=best)\n",
        "\n"
      ]
    },
    {
      "cell_type": "code",
      "execution_count": null,
      "metadata": {
        "id": "IeYooAl2ZwGX"
      },
      "outputs": [],
      "source": [
        "def plot_conf_mat(y,pred,model):\n",
        "  fig = plt.figure(figsize=(6,5))\n",
        "  cm = confusion_matrix(np.array(y), np.array(pred))\n",
        "  sns.heatmap(cm, annot=True)\n",
        "  plt.title(f'Confusion Matrix for {model}')\n",
        "  plt.tight_layout()\n",
        "  plt.show()"
      ]
    },
    {
      "cell_type": "markdown",
      "metadata": {
        "id": "djfCCvzrgH1u"
      },
      "source": [
        "#### Define General Training Parameters"
      ]
    },
    {
      "cell_type": "code",
      "execution_count": null,
      "metadata": {
        "id": "tKQ5vrKPgGdk"
      },
      "outputs": [],
      "source": [
        "# Define training parameters\n",
        "BATCH_SIZE = 128\n",
        "EPOCHS = 30\n",
        "ETA = 1e-2\n",
        "INPUT_SIZE = 13\n",
        "OUTPUT_SIZE = 10\n",
        "HIDDEN_LAYER = 50\n",
        "NUM_LAYERS = 1\n",
        "\n",
        "# Seperate to train, dev\n",
        "# Data Sets have already been scaled w.r.t. train set\n",
        "train_set = FrameLevelDataset(X_train, y_train)\n",
        "dev_set = FrameLevelDataset(X_dev, y_dev)\n",
        "test_set = FrameLevelDataset(X_test, y_test)\n",
        "\n",
        "# Create dataloaders\n",
        "train_loader = DataLoader(train_set, batch_size=BATCH_SIZE, shuffle=True)\n",
        "dev_loader = DataLoader(dev_set, batch_size=BATCH_SIZE, shuffle=True)\n",
        "test_loader = DataLoader(test_set, batch_size=BATCH_SIZE, shuffle=True)\n",
        "\n",
        "#Define out LossFunction\n",
        "criterion = nn.CrossEntropyLoss()"
      ]
    },
    {
      "cell_type": "markdown",
      "metadata": {
        "id": "BIxURLuyQKLg"
      },
      "source": [
        "#### Subtask 5 - Dropout and L2 Reguralization"
      ]
    },
    {
      "cell_type": "code",
      "execution_count": null,
      "metadata": {
        "id": "aCWwRvjaUPzb"
      },
      "outputs": [],
      "source": [
        "# Define the additional training parameters\n",
        "weight_decay = 1e-7\n",
        "dropout = .2"
      ]
    },
    {
      "cell_type": "markdown",
      "metadata": {
        "id": "5Md2mEWNR8UB"
      },
      "source": [
        "#### SubTask 6 - Early Stopping / Checkpoints"
      ]
    },
    {
      "cell_type": "code",
      "execution_count": null,
      "metadata": {
        "id": "ULG2MDrYQaa_"
      },
      "outputs": [],
      "source": [
        "# Define the additional training parameter for early tolerance\n",
        "PATIENCE = 3"
      ]
    },
    {
      "cell_type": "markdown",
      "metadata": {
        "id": "bL5rMf_PWO12"
      },
      "source": [
        "###### Training of EarlyAdvancedLSTM"
      ]
    },
    {
      "cell_type": "code",
      "execution_count": null,
      "metadata": {
        "colab": {
          "base_uri": "https://localhost:8080/",
          "height": 1000
        },
        "id": "LwF4YJyQSkzX",
        "outputId": "af4d4974-1396-46f4-bbf6-fc69b7dfb0ec"
      },
      "outputs": [
        {
          "name": "stderr",
          "output_type": "stream",
          "text": [
            "\r  0%|          | 0/30 [00:00<?, ?it/s]"
          ]
        },
        {
          "name": "stdout",
          "output_type": "stream",
          "text": [
            " [========================================] ...Epoch 1, Loss: 1.4082\n",
            "Statistics for the Train Set\n",
            "\t Epoch: 1 \t Accuracy Score: 0.6731481481481482\n",
            "\t Epoch: 1 \t f1 Score: 0.664426265263603\n",
            "\t Epoch: 1 \t recall Score: 0.673148148148148\n",
            "Statistics for the Dev Set\n",
            "\t Epoch: 1 \t loss: 1.082174261789563\n",
            "\t Epoch: 1 \t Accuracy Score: 0.6814814814814815\n"
          ]
        },
        {
          "name": "stderr",
          "output_type": "stream",
          "text": [
            "\r  3%|▎         | 1/30 [00:05<02:33,  5.30s/it]"
          ]
        },
        {
          "name": "stdout",
          "output_type": "stream",
          "text": [
            "\t Epoch: 1 \t f1 Score: 0.6751280183163378\n",
            "\t Epoch: 1 \t recall Score: 0.6814814814814816\n",
            "Test loss decreased (inf --> 1.082174).  Saving model ...\n",
            "Epoch total time 5.29694676399231\n",
            " [========================================] ...Epoch 2, Loss: 1.2486\n",
            "Statistics for the Train Set\n",
            "\t Epoch: 2 \t Accuracy Score: 0.7402777777777778\n",
            "\t Epoch: 2 \t f1 Score: 0.7374294757340566\n",
            "\t Epoch: 2 \t recall Score: 0.7402777777777778\n",
            "Statistics for the Dev Set\n",
            "\t Epoch: 2 \t loss: 0.8775970146368209\n",
            "\t Epoch: 2 \t Accuracy Score: 0.7129629629629629\n",
            "\t Epoch: 2 \t f1 Score: 0.7053582493901903\n"
          ]
        },
        {
          "name": "stderr",
          "output_type": "stream",
          "text": [
            "\r  7%|▋         | 2/30 [00:10<02:27,  5.27s/it]"
          ]
        },
        {
          "name": "stdout",
          "output_type": "stream",
          "text": [
            "\t Epoch: 2 \t recall Score: 0.712962962962963\n",
            "Test loss decreased (1.082174 --> 0.877597).  Saving model ...\n",
            "Epoch total time 5.1999218463897705\n",
            " [========================================] ...Epoch 3, Loss: 0.7644\n",
            "Statistics for the Train Set\n",
            "\t Epoch: 3 \t Accuracy Score: 0.8828703703703704\n",
            "\t Epoch: 3 \t f1 Score: 0.88204225447673\n",
            "\t Epoch: 3 \t recall Score: 0.8828703703703704\n",
            "Statistics for the Dev Set\n",
            "\t Epoch: 3 \t loss: 0.5466146533418008\n",
            "\t Epoch: 3 \t Accuracy Score: 0.8759259259259259\n",
            "\t Epoch: 3 \t f1 Score: 0.8754379008289547\n"
          ]
        },
        {
          "name": "stderr",
          "output_type": "stream",
          "text": [
            "\r 10%|█         | 3/30 [00:16<02:25,  5.38s/it]"
          ]
        },
        {
          "name": "stdout",
          "output_type": "stream",
          "text": [
            "\t Epoch: 3 \t recall Score: 0.875925925925926\n",
            "Test loss decreased (0.877597 --> 0.546615).  Saving model ...\n",
            "Epoch total time 5.638752698898315\n",
            " [========================================] ...Epoch 4, Loss: 0.6068\n",
            "Statistics for the Train Set\n",
            "\t Epoch: 4 \t Accuracy Score: 0.9175925925925926\n",
            "\t Epoch: 4 \t f1 Score: 0.9176967594288381\n",
            "\t Epoch: 4 \t recall Score: 0.9175925925925925\n",
            "Statistics for the Dev Set\n",
            "\t Epoch: 4 \t loss: 0.41381050262070807\n",
            "\t Epoch: 4 \t Accuracy Score: 0.8870370370370371\n",
            "\t Epoch: 4 \t f1 Score: 0.8856414813783587\n"
          ]
        },
        {
          "name": "stderr",
          "output_type": "stream",
          "text": [
            "\r 13%|█▎        | 4/30 [00:21<02:19,  5.37s/it]"
          ]
        },
        {
          "name": "stdout",
          "output_type": "stream",
          "text": [
            "\t Epoch: 4 \t recall Score: 0.8870370370370371\n",
            "Test loss decreased (0.546615 --> 0.413811).  Saving model ...\n",
            "Epoch total time 5.344310522079468\n",
            " [========================================] ...Epoch 5, Loss: 0.5440\n",
            "Statistics for the Train Set\n",
            "\t Epoch: 5 \t Accuracy Score: 0.9435185185185185\n",
            "\t Epoch: 5 \t f1 Score: 0.9436613712813328\n",
            "\t Epoch: 5 \t recall Score: 0.9435185185185185\n"
          ]
        },
        {
          "name": "stderr",
          "output_type": "stream",
          "text": [
            "\r 17%|█▋        | 5/30 [00:26<02:12,  5.31s/it]"
          ]
        },
        {
          "name": "stdout",
          "output_type": "stream",
          "text": [
            "Statistics for the Dev Set\n",
            "\t Epoch: 5 \t loss: 0.2847368489219744\n",
            "\t Epoch: 5 \t Accuracy Score: 0.9351851851851852\n",
            "\t Epoch: 5 \t f1 Score: 0.9353315848313664\n",
            "\t Epoch: 5 \t recall Score: 0.9351851851851853\n",
            "Test loss decreased (0.413811 --> 0.284737).  Saving model ...\n",
            "Epoch total time 5.184268474578857\n",
            " [========================================] ...Epoch 6, Loss: 0.3823\n",
            "Statistics for the Train Set\n",
            "\t Epoch: 6 \t Accuracy Score: 0.9587962962962963\n",
            "\t Epoch: 6 \t f1 Score: 0.9587617101532825\n",
            "\t Epoch: 6 \t recall Score: 0.9587962962962961\n"
          ]
        },
        {
          "name": "stderr",
          "output_type": "stream",
          "text": [
            "\r 20%|██        | 6/30 [00:31<02:06,  5.28s/it]"
          ]
        },
        {
          "name": "stdout",
          "output_type": "stream",
          "text": [
            "Statistics for the Dev Set\n",
            "\t Epoch: 6 \t loss: 0.2619490213375748\n",
            "\t Epoch: 6 \t Accuracy Score: 0.9259259259259259\n",
            "\t Epoch: 6 \t f1 Score: 0.9261556008811624\n",
            "\t Epoch: 6 \t recall Score: 0.9259259259259258\n",
            "Test loss decreased (0.284737 --> 0.261949).  Saving model ...\n",
            "Epoch total time 5.205939292907715\n",
            " [========================================] ...Epoch 7, Loss: 0.3115\n",
            "Statistics for the Train Set\n",
            "\t Epoch: 7 \t Accuracy Score: 0.9555555555555556\n",
            "\t Epoch: 7 \t f1 Score: 0.9552888543066175\n",
            "\t Epoch: 7 \t recall Score: 0.9555555555555555\n"
          ]
        },
        {
          "name": "stderr",
          "output_type": "stream",
          "text": [
            "\r 23%|██▎       | 7/30 [00:37<02:00,  5.26s/it]"
          ]
        },
        {
          "name": "stdout",
          "output_type": "stream",
          "text": [
            "Statistics for the Dev Set\n",
            "\t Epoch: 7 \t loss: 0.22938994393100512\n",
            "\t Epoch: 7 \t Accuracy Score: 0.9333333333333333\n",
            "\t Epoch: 7 \t f1 Score: 0.9323358128413357\n",
            "\t Epoch: 7 \t recall Score: 0.9333333333333332\n",
            "Test loss decreased (0.261949 --> 0.229390).  Saving model ...\n",
            "Epoch total time 5.1962971687316895\n",
            " [========================================] ...Epoch 8, Loss: 0.3483\n",
            "Statistics for the Train Set\n",
            "\t Epoch: 8 \t Accuracy Score: 0.9763888888888889\n",
            "\t Epoch: 8 \t f1 Score: 0.9764553772985746\n",
            "\t Epoch: 8 \t recall Score: 0.976388888888889\n",
            "Statistics for the Dev Set\n",
            "\t Epoch: 8 \t loss: 0.19570140171980702\n",
            "\t Epoch: 8 \t Accuracy Score: 0.9333333333333333\n",
            "\t Epoch: 8 \t f1 Score: 0.9328124529028965\n"
          ]
        },
        {
          "name": "stderr",
          "output_type": "stream",
          "text": [
            "\r 27%|██▋       | 8/30 [00:42<01:55,  5.24s/it]"
          ]
        },
        {
          "name": "stdout",
          "output_type": "stream",
          "text": [
            "\t Epoch: 8 \t recall Score: 0.9333333333333333\n",
            "Test loss decreased (0.229390 --> 0.195701).  Saving model ...\n",
            "Epoch total time 5.206808805465698\n",
            " [========================================] ...Epoch 9, Loss: 0.2887\n",
            "Statistics for the Train Set\n",
            "\t Epoch: 9 \t Accuracy Score: 0.9712962962962963\n",
            "\t Epoch: 9 \t f1 Score: 0.9712892845255103\n",
            "\t Epoch: 9 \t recall Score: 0.9712962962962963\n",
            "Statistics for the Dev Set\n",
            "\t Epoch: 9 \t loss: 0.21257258077662544\n",
            "\t Epoch: 9 \t Accuracy Score: 0.9518518518518518\n",
            "\t Epoch: 9 \t f1 Score: 0.9517073275720765\n"
          ]
        },
        {
          "name": "stderr",
          "output_type": "stream",
          "text": [
            "\r 30%|███       | 9/30 [00:47<01:49,  5.23s/it]"
          ]
        },
        {
          "name": "stdout",
          "output_type": "stream",
          "text": [
            "\t Epoch: 9 \t recall Score: 0.951851851851852\n",
            "EarlyStopping counter: 1 out of 3\n",
            "Epoch total time 5.203143358230591\n",
            " [========================================] ...Epoch 10, Loss: 0.3288\n",
            "Statistics for the Train Set\n",
            "\t Epoch: 10 \t Accuracy Score: 0.9814814814814815\n",
            "\t Epoch: 10 \t f1 Score: 0.9814752172982522\n",
            "\t Epoch: 10 \t recall Score: 0.9814814814814815\n"
          ]
        },
        {
          "name": "stderr",
          "output_type": "stream",
          "text": [
            "\r 33%|███▎      | 10/30 [00:52<01:44,  5.22s/it]"
          ]
        },
        {
          "name": "stdout",
          "output_type": "stream",
          "text": [
            "Statistics for the Dev Set\n",
            "\t Epoch: 10 \t loss: 0.10937289512193864\n",
            "\t Epoch: 10 \t Accuracy Score: 0.975925925925926\n",
            "\t Epoch: 10 \t f1 Score: 0.9758974855853875\n",
            "\t Epoch: 10 \t recall Score: 0.975925925925926\n",
            "Test loss decreased (0.195701 --> 0.109373).  Saving model ...\n",
            "Epoch total time 5.206563949584961\n",
            " [========================================] ...Epoch 11, Loss: 0.4655\n",
            "Statistics for the Train Set\n",
            "\t Epoch: 11 \t Accuracy Score: 0.9666666666666667\n",
            "\t Epoch: 11 \t f1 Score: 0.9665557159705923\n",
            "\t Epoch: 11 \t recall Score: 0.9666666666666668\n",
            "Statistics for the Dev Set\n",
            "\t Epoch: 11 \t loss: 0.1912373579639694\n",
            "\t Epoch: 11 \t Accuracy Score: 0.95\n",
            "\t Epoch: 11 \t f1 Score: 0.949807371314639\n"
          ]
        },
        {
          "name": "stderr",
          "output_type": "stream",
          "text": [
            "\r 37%|███▋      | 11/30 [00:57<01:38,  5.21s/it]"
          ]
        },
        {
          "name": "stdout",
          "output_type": "stream",
          "text": [
            "\t Epoch: 11 \t recall Score: 0.95\n",
            "EarlyStopping counter: 1 out of 3\n",
            "Epoch total time 5.17123007774353\n",
            " [========================================] ...Epoch 12, Loss: 0.3812\n",
            "Statistics for the Train Set\n",
            "\t Epoch: 12 \t Accuracy Score: 0.9949074074074075\n",
            "\t Epoch: 12 \t f1 Score: 0.9949093313711737\n",
            "\t Epoch: 12 \t recall Score: 0.9949074074074075\n",
            "Statistics for the Dev Set\n",
            "\t Epoch: 12 \t loss: 0.12280492536736971\n",
            "\t Epoch: 12 \t Accuracy Score: 0.9703703703703703\n",
            "\t Epoch: 12 \t f1 Score: 0.9702119271408772\n"
          ]
        },
        {
          "name": "stderr",
          "output_type": "stream",
          "text": [
            "\r 40%|████      | 12/30 [01:03<01:33,  5.21s/it]"
          ]
        },
        {
          "name": "stdout",
          "output_type": "stream",
          "text": [
            "\t Epoch: 12 \t recall Score: 0.9703703703703704\n",
            "EarlyStopping counter: 2 out of 3\n",
            "Epoch total time 5.205203294754028\n",
            " [========================================] ...Epoch 13, Loss: 0.2529\n",
            "Statistics for the Train Set\n",
            "\t Epoch: 13 \t Accuracy Score: 0.9861111111111112\n",
            "\t Epoch: 13 \t f1 Score: 0.986079841033485\n",
            "\t Epoch: 13 \t recall Score: 0.986111111111111\n",
            "Statistics for the Dev Set\n",
            "\t Epoch: 13 \t loss: 0.14019104902553983\n",
            "\t Epoch: 13 \t Accuracy Score: 0.9722222222222222\n",
            "\t Epoch: 13 \t f1 Score: 0.9720486822021884\n",
            "\t Epoch: 13 \t recall Score: 0.9722222222222221\n",
            "EarlyStopping counter: 3 out of 3\n",
            "Training total time 63.059386253356934\n"
          ]
        },
        {
          "data": {
            "image/png": "[encoded data removed]",
            "text/plain": [
              "<Figure size 1440x360 with 4 Axes>"
            ]
          },
          "metadata": {},
          "output_type": "display_data"
        }
      ],
      "source": [
        "EarlyAdvancedNet = ClfLSTM(input_dim=INPUT_SIZE, rnn_size=HIDDEN_LAYER, output_dim=OUTPUT_SIZE, num_layers=NUM_LAYERS, dropout=dropout)\n",
        "\n",
        "# Make instance of our optimizer, with L2-Reguralization\n",
        "optimizer = optim.Adam(EarlyAdvancedNet.parameters(), lr=ETA, weight_decay=weight_decay)\n",
        "\n",
        "# Start the training process\n",
        "main(EarlyAdvancedNet, optimizer, criterion, train_loader, dev_loader, EPOCHS, net_name='EarlyAdvancedLSTM', PATIENCE=PATIENCE)"
      ]
    },
    {
      "cell_type": "markdown",
      "metadata": {
        "id": "4gIuqCXrX6Qp"
      },
      "source": [
        "###### Testing of EarlyAdvancedNet"
      ]
    },
    {
      "cell_type": "code",
      "execution_count": null,
      "metadata": {
        "colab": {
          "base_uri": "https://localhost:8080/"
        },
        "id": "ZxnfojD3YNLI",
        "outputId": "d05f3635-6978-46dc-d878-10118f21758c"
      },
      "outputs": [
        {
          "name": "stdout",
          "output_type": "stream",
          "text": [
            "Test Loss for EarlyAdvancedLSTM: 0.13672537341324587\n",
            "Accuracy Score for EarlyAdvancedLSTM: 0.9566666666666667\n",
            "F1 Score for EarlyAdvancedLSTM: 0.9570621083875416\n",
            "Recall Score for EarlyAdvancedLSTM: 0.9566666666666667\n"
          ]
        }
      ],
      "source": [
        "with open('./best_EarlyAdvancedLSTM.pickle', 'rb') as handle:\n",
        "  E_model = pickle.load(handle)\n",
        "\n",
        "test_loss, y_test_gold, y_test_pred = eval_lstm(test_loader, E_model, criterion)\n",
        "\n",
        "print(f\"Test Loss for EarlyAdvancedLSTM: {test_loss}\")\n",
        "print(f\"Accuracy Score for EarlyAdvancedLSTM: {accuracy_score(y_test_gold, y_test_pred)}\")\n",
        "print(f\"F1 Score for EarlyAdvancedLSTM: {f1_score(y_test_gold, y_test_pred, average='macro')}\")\n",
        "print(f\"Recall Score for EarlyAdvancedLSTM: {recall_score(y_test_gold, y_test_pred, average='macro')}\")"
      ]
    },
    {
      "cell_type": "code",
      "execution_count": null,
      "metadata": {
        "colab": {
          "base_uri": "https://localhost:8080/",
          "height": 369
        },
        "id": "Yr6I-np2aRoh",
        "outputId": "08106c90-8398-44ef-d701-5241a3b919af"
      },
      "outputs": [
        {
          "data": {
            "image/png": "[encoded data removed]",
            "text/plain": [
              "<Figure size 432x360 with 2 Axes>"
            ]
          },
          "metadata": {},
          "output_type": "display_data"
        }
      ],
      "source": [
        "plot_conf_mat(y_test_gold,y_test_pred,'EarlyAdvancedLSTM')"
      ]
    },
    {
      "cell_type": "markdown",
      "metadata": {
        "id": "HtHB3CHEVZB7"
      },
      "source": [
        "#### SubTask 7 - Bidirectional"
      ]
    },
    {
      "cell_type": "code",
      "execution_count": null,
      "metadata": {
        "id": "2zs1clclVdnl"
      },
      "outputs": [],
      "source": [
        "# Define the additional training parameter for bidirectional LSTM\n",
        "bidirectional = True"
      ]
    },
    {
      "cell_type": "markdown",
      "metadata": {
        "id": "rIllseHtSP-U"
      },
      "source": [
        "###### Training of EarlyBiNet"
      ]
    },
    {
      "cell_type": "code",
      "execution_count": null,
      "metadata": {
        "colab": {
          "base_uri": "https://localhost:8080/",
          "height": 1000
        },
        "id": "5kWrAtXWWG-V",
        "outputId": "e03793d1-dc61-4a1f-92a9-7d33c1158510"
      },
      "outputs": [
        {
          "name": "stderr",
          "output_type": "stream",
          "text": [
            "\n",
            "  0%|          | 0/30 [00:00<?, ?it/s]\u001b[A"
          ]
        },
        {
          "name": "stdout",
          "output_type": "stream",
          "text": [
            " [========================================] ...Epoch 1, Loss: 1.4338\n",
            "Statistics for the Train Set\n",
            "\t Epoch: 1 \t Accuracy Score: 0.7328703703703704\n",
            "\t Epoch: 1 \t f1 Score: 0.7292181847960574\n",
            "\t Epoch: 1 \t recall Score: 0.7328703703703703\n"
          ]
        },
        {
          "name": "stderr",
          "output_type": "stream",
          "text": [
            "\n",
            "  3%|▎         | 1/30 [00:12<05:48, 12.02s/it]\u001b[A"
          ]
        },
        {
          "name": "stdout",
          "output_type": "stream",
          "text": [
            "Statistics for the Dev Set\n",
            "\t Epoch: 1 \t loss: 1.0323674562111826\n",
            "\t Epoch: 1 \t Accuracy Score: 0.7203703703703703\n",
            "\t Epoch: 1 \t f1 Score: 0.7141996775770745\n",
            "\t Epoch: 1 \t recall Score: 0.7203703703703702\n",
            "Test loss decreased (inf --> 1.032367).  Saving model ...\n",
            "Epoch total time 12.01824164390564\n",
            " [========================================] ...Epoch 2, Loss: 0.9367\n",
            "Statistics for the Train Set\n",
            "\t Epoch: 2 \t Accuracy Score: 0.8435185185185186\n",
            "\t Epoch: 2 \t f1 Score: 0.8431677654719092\n",
            "\t Epoch: 2 \t recall Score: 0.8435185185185186\n"
          ]
        },
        {
          "name": "stderr",
          "output_type": "stream",
          "text": [
            "\n",
            "  7%|▋         | 2/30 [00:24<05:36, 12.02s/it]\u001b[A"
          ]
        },
        {
          "name": "stdout",
          "output_type": "stream",
          "text": [
            "Statistics for the Dev Set\n",
            "\t Epoch: 2 \t loss: 0.6200146076044328\n",
            "\t Epoch: 2 \t Accuracy Score: 0.8222222222222222\n",
            "\t Epoch: 2 \t f1 Score: 0.8208938896993943\n",
            "\t Epoch: 2 \t recall Score: 0.8222222222222223\n",
            "Test loss decreased (1.032367 --> 0.620015).  Saving model ...\n",
            "Epoch total time 12.012802839279175\n",
            " [========================================] ...Epoch 3, Loss: 0.5817\n",
            "Statistics for the Train Set\n",
            "\t Epoch: 3 \t Accuracy Score: 0.9166666666666666\n",
            "\t Epoch: 3 \t f1 Score: 0.9166766036870235\n",
            "\t Epoch: 3 \t recall Score: 0.9166666666666666\n"
          ]
        },
        {
          "name": "stderr",
          "output_type": "stream",
          "text": [
            "\n",
            " 10%|█         | 3/30 [00:35<05:23, 11.99s/it]\u001b[A"
          ]
        },
        {
          "name": "stdout",
          "output_type": "stream",
          "text": [
            "Statistics for the Dev Set\n",
            "\t Epoch: 3 \t loss: 0.37747925345740996\n",
            "\t Epoch: 3 \t Accuracy Score: 0.8925925925925926\n",
            "\t Epoch: 3 \t f1 Score: 0.8923840330486742\n",
            "\t Epoch: 3 \t recall Score: 0.8925925925925926\n",
            "Test loss decreased (0.620015 --> 0.377479).  Saving model ...\n",
            "Epoch total time 11.912890672683716\n",
            " [========================================] ...Epoch 4, Loss: 0.5059\n",
            "Statistics for the Train Set\n",
            "\t Epoch: 4 \t Accuracy Score: 0.9486111111111111\n",
            "\t Epoch: 4 \t f1 Score: 0.9487072045064314\n",
            "\t Epoch: 4 \t recall Score: 0.9486111111111111\n"
          ]
        },
        {
          "name": "stderr",
          "output_type": "stream",
          "text": [
            "\n",
            " 13%|█▎        | 4/30 [00:48<05:14, 12.11s/it]\u001b[A"
          ]
        },
        {
          "name": "stdout",
          "output_type": "stream",
          "text": [
            "Statistics for the Dev Set\n",
            "\t Epoch: 4 \t loss: 0.24928787687193124\n",
            "\t Epoch: 4 \t Accuracy Score: 0.9222222222222223\n",
            "\t Epoch: 4 \t f1 Score: 0.9221864814709029\n",
            "\t Epoch: 4 \t recall Score: 0.9222222222222222\n",
            "Test loss decreased (0.377479 --> 0.249288).  Saving model ...\n",
            "Epoch total time 12.38297414779663\n",
            " [========================================] ...Epoch 5, Loss: 0.4057\n",
            "Statistics for the Train Set\n",
            "\t Epoch: 5 \t Accuracy Score: 0.962037037037037\n",
            "\t Epoch: 5 \t f1 Score: 0.9618637768154106\n",
            "\t Epoch: 5 \t recall Score: 0.962037037037037\n"
          ]
        },
        {
          "name": "stderr",
          "output_type": "stream",
          "text": [
            "\n",
            " 17%|█▋        | 5/30 [01:00<05:01, 12.05s/it]\u001b[A"
          ]
        },
        {
          "name": "stdout",
          "output_type": "stream",
          "text": [
            "Statistics for the Dev Set\n",
            "\t Epoch: 5 \t loss: 0.2045915830878883\n",
            "\t Epoch: 5 \t Accuracy Score: 0.9518518518518518\n",
            "\t Epoch: 5 \t f1 Score: 0.9515438556632164\n",
            "\t Epoch: 5 \t recall Score: 0.951851851851852\n",
            "Test loss decreased (0.249288 --> 0.204592).  Saving model ...\n",
            "Epoch total time 11.895522594451904\n",
            " [========================================] ...Epoch 6, Loss: 0.4163\n",
            "Statistics for the Train Set\n",
            "\t Epoch: 6 \t Accuracy Score: 0.9606481481481481\n",
            "\t Epoch: 6 \t f1 Score: 0.960694751336818\n",
            "\t Epoch: 6 \t recall Score: 0.9606481481481481\n"
          ]
        },
        {
          "name": "stderr",
          "output_type": "stream",
          "text": [
            "\n",
            " 20%|██        | 6/30 [01:12<04:48, 12.02s/it]\u001b[A"
          ]
        },
        {
          "name": "stdout",
          "output_type": "stream",
          "text": [
            "Statistics for the Dev Set\n",
            "\t Epoch: 6 \t loss: 0.19347652888896666\n",
            "\t Epoch: 6 \t Accuracy Score: 0.9518518518518518\n",
            "\t Epoch: 6 \t f1 Score: 0.9518817761150649\n",
            "\t Epoch: 6 \t recall Score: 0.951851851851852\n",
            "Test loss decreased (0.204592 --> 0.193477).  Saving model ...\n",
            "Epoch total time 11.922531843185425\n",
            " [========================================] ...Epoch 7, Loss: 0.2678\n",
            "Statistics for the Train Set\n",
            "\t Epoch: 7 \t Accuracy Score: 0.9689814814814814\n",
            "\t Epoch: 7 \t f1 Score: 0.9690242670949276\n",
            "\t Epoch: 7 \t recall Score: 0.9689814814814814\n"
          ]
        },
        {
          "name": "stderr",
          "output_type": "stream",
          "text": [
            "\n",
            " 23%|██▎       | 7/30 [01:24<04:35, 12.00s/it]\u001b[A"
          ]
        },
        {
          "name": "stdout",
          "output_type": "stream",
          "text": [
            "Statistics for the Dev Set\n",
            "\t Epoch: 7 \t loss: 0.11847151993588034\n",
            "\t Epoch: 7 \t Accuracy Score: 0.9611111111111111\n",
            "\t Epoch: 7 \t f1 Score: 0.9609175561274814\n",
            "\t Epoch: 7 \t recall Score: 0.961111111111111\n",
            "Test loss decreased (0.193477 --> 0.118472).  Saving model ...\n",
            "Epoch total time 11.946080446243286\n",
            " [========================================] ...Epoch 8, Loss: 0.4296\n",
            "Statistics for the Train Set\n",
            "\t Epoch: 8 \t Accuracy Score: 0.9856481481481482\n",
            "\t Epoch: 8 \t f1 Score: 0.9856495706260459\n",
            "\t Epoch: 8 \t recall Score: 0.9856481481481479\n"
          ]
        },
        {
          "name": "stderr",
          "output_type": "stream",
          "text": [
            "\n",
            " 27%|██▋       | 8/30 [01:36<04:23, 11.99s/it]\u001b[A"
          ]
        },
        {
          "name": "stdout",
          "output_type": "stream",
          "text": [
            "Statistics for the Dev Set\n",
            "\t Epoch: 8 \t loss: 0.1177509754831471\n",
            "\t Epoch: 8 \t Accuracy Score: 0.9740740740740741\n",
            "\t Epoch: 8 \t f1 Score: 0.974109879139968\n",
            "\t Epoch: 8 \t recall Score: 0.9740740740740741\n",
            "Test loss decreased (0.118472 --> 0.117751).  Saving model ...\n",
            "Epoch total time 11.977352142333984\n",
            " [========================================] ...Epoch 9, Loss: 0.2999\n",
            "Statistics for the Train Set\n",
            "\t Epoch: 9 \t Accuracy Score: 0.9898148148148148\n",
            "\t Epoch: 9 \t f1 Score: 0.9898050979409586\n",
            "\t Epoch: 9 \t recall Score: 0.9898148148148149\n"
          ]
        },
        {
          "name": "stderr",
          "output_type": "stream",
          "text": [
            "\n",
            " 30%|███       | 9/30 [01:48<04:11, 11.99s/it]\u001b[A"
          ]
        },
        {
          "name": "stdout",
          "output_type": "stream",
          "text": [
            "Statistics for the Dev Set\n",
            "\t Epoch: 9 \t loss: 0.07673935644098091\n",
            "\t Epoch: 9 \t Accuracy Score: 0.975925925925926\n",
            "\t Epoch: 9 \t f1 Score: 0.975973309679263\n",
            "\t Epoch: 9 \t recall Score: 0.975925925925926\n",
            "Test loss decreased (0.117751 --> 0.076739).  Saving model ...\n",
            "Epoch total time 11.958757877349854\n",
            " [========================================] ...Epoch 10, Loss: 0.1630\n",
            "Statistics for the Train Set\n",
            "\t Epoch: 10 \t Accuracy Score: 0.9916666666666667\n",
            "\t Epoch: 10 \t f1 Score: 0.9916293089254836\n",
            "\t Epoch: 10 \t recall Score: 0.9916666666666666\n"
          ]
        },
        {
          "name": "stderr",
          "output_type": "stream",
          "text": [
            "\n",
            " 33%|███▎      | 10/30 [02:00<03:59, 11.96s/it]\u001b[A"
          ]
        },
        {
          "name": "stdout",
          "output_type": "stream",
          "text": [
            "Statistics for the Dev Set\n",
            "\t Epoch: 10 \t loss: 0.06267953597713051\n",
            "\t Epoch: 10 \t Accuracy Score: 0.9851851851851852\n",
            "\t Epoch: 10 \t f1 Score: 0.9851807638770603\n",
            "\t Epoch: 10 \t recall Score: 0.9851851851851853\n",
            "Test loss decreased (0.076739 --> 0.062680).  Saving model ...\n",
            "Epoch total time 11.907427072525024\n",
            " [========================================] ...Epoch 11, Loss: 0.3027\n",
            "Statistics for the Train Set\n",
            "\t Epoch: 11 \t Accuracy Score: 0.9949074074074075\n",
            "\t Epoch: 11 \t f1 Score: 0.9949041625315054\n",
            "\t Epoch: 11 \t recall Score: 0.9949074074074075\n"
          ]
        },
        {
          "name": "stderr",
          "output_type": "stream",
          "text": [
            "\n",
            " 37%|███▋      | 11/30 [02:11<03:47, 11.97s/it]\u001b[A"
          ]
        },
        {
          "name": "stdout",
          "output_type": "stream",
          "text": [
            "Statistics for the Dev Set\n",
            "\t Epoch: 11 \t loss: 0.05354729234558647\n",
            "\t Epoch: 11 \t Accuracy Score: 0.9888888888888889\n",
            "\t Epoch: 11 \t f1 Score: 0.9889050931158451\n",
            "\t Epoch: 11 \t recall Score: 0.9888888888888887\n",
            "Test loss decreased (0.062680 --> 0.053547).  Saving model ...\n",
            "Epoch total time 11.968331098556519\n",
            " [========================================] ...Epoch 12, Loss: 0.3169\n",
            "Statistics for the Train Set\n",
            "\t Epoch: 12 \t Accuracy Score: 0.9833333333333333\n",
            "\t Epoch: 12 \t f1 Score: 0.9832762476863985\n",
            "\t Epoch: 12 \t recall Score: 0.9833333333333334\n"
          ]
        },
        {
          "name": "stderr",
          "output_type": "stream",
          "text": [
            "\n",
            " 40%|████      | 12/30 [02:24<03:37, 12.11s/it]\u001b[A"
          ]
        },
        {
          "name": "stdout",
          "output_type": "stream",
          "text": [
            "Statistics for the Dev Set\n",
            "\t Epoch: 12 \t loss: 0.11835049309173373\n",
            "\t Epoch: 12 \t Accuracy Score: 0.9740740740740741\n",
            "\t Epoch: 12 \t f1 Score: 0.9740400751847895\n",
            "\t Epoch: 12 \t recall Score: 0.9740740740740741\n",
            "EarlyStopping counter: 1 out of 3\n",
            "Epoch total time 12.418890237808228\n",
            " [========================================] ...Epoch 13, Loss: 0.3831\n",
            "Statistics for the Train Set\n",
            "\t Epoch: 13 \t Accuracy Score: 0.9833333333333333\n",
            "\t Epoch: 13 \t f1 Score: 0.9831835003766731\n",
            "\t Epoch: 13 \t recall Score: 0.9833333333333334\n"
          ]
        },
        {
          "name": "stderr",
          "output_type": "stream",
          "text": [
            "\n",
            " 43%|████▎     | 13/30 [02:36<03:24, 12.06s/it]\u001b[A"
          ]
        },
        {
          "name": "stdout",
          "output_type": "stream",
          "text": [
            "Statistics for the Dev Set\n",
            "\t Epoch: 13 \t loss: 0.09826678976093146\n",
            "\t Epoch: 13 \t Accuracy Score: 0.9703703703703703\n",
            "\t Epoch: 13 \t f1 Score: 0.970209764992655\n",
            "\t Epoch: 13 \t recall Score: 0.9703703703703702\n",
            "EarlyStopping counter: 2 out of 3\n",
            "Epoch total time 11.931560277938843\n",
            " [========================================] ...Epoch 14, Loss: 0.4564\n",
            "Statistics for the Train Set\n",
            "\t Epoch: 14 \t Accuracy Score: 0.9662037037037037\n",
            "\t Epoch: 14 \t f1 Score: 0.9665724872379287\n",
            "\t Epoch: 14 \t recall Score: 0.9662037037037037\n",
            "Statistics for the Dev Set\n",
            "\t Epoch: 14 \t loss: 0.18553969369965317\n",
            "\t Epoch: 14 \t Accuracy Score: 0.9425925925925925\n",
            "\t Epoch: 14 \t f1 Score: 0.9430596254387409\n",
            "\t Epoch: 14 \t recall Score: 0.9425925925925925\n",
            "EarlyStopping counter: 3 out of 3\n",
            "Training total time 156.25336289405823\n"
          ]
        },
        {
          "data": {
            "image/png": "[encoded data removed]",
            "text/plain": [
              "<Figure size 1440x360 with 4 Axes>"
            ]
          },
          "metadata": {},
          "output_type": "display_data"
        }
      ],
      "source": [
        "EarlyBiNet = ClfLSTM(input_dim=INPUT_SIZE, rnn_size=HIDDEN_LAYER, output_dim=OUTPUT_SIZE, num_layers=NUM_LAYERS, bidirectional=bidirectional, dropout=dropout)\n",
        "\n",
        "# Make instance of our optimizer, with L2-Reguralization\n",
        "optimizer = optim.Adam(EarlyBiNet.parameters(), lr=ETA, weight_decay=weight_decay)\n",
        "\n",
        "# Start the training process\n",
        "main(EarlyBiNet, optimizer, criterion, train_loader, dev_loader, EPOCHS, net_name='EarlyBiLSTM', PATIENCE=PATIENCE)"
      ]
    },
    {
      "cell_type": "markdown",
      "metadata": {
        "id": "r-LlkUccWdNR"
      },
      "source": [
        "###### Testing of EarlyBiNet"
      ]
    },
    {
      "cell_type": "code",
      "execution_count": null,
      "metadata": {
        "colab": {
          "base_uri": "https://localhost:8080/"
        },
        "id": "58zXCMf-jEp8",
        "outputId": "7fe368b5-aabf-4e65-ad9b-9385084dbe34"
      },
      "outputs": [
        {
          "name": "stdout",
          "output_type": "stream",
          "text": [
            "Test Loss for EarlyBiLSTM: 0.06851038500196227\n",
            "Accuracy Score for EarlyBiLSTM: 0.9866666666666667\n",
            "F1 Score for EarlyBiLSTM: 0.9867606446052566\n",
            "Recall Score for EarlyBiLSTM: 0.9866666666666667\n"
          ]
        }
      ],
      "source": [
        "with open('./best_EarlyBiLSTM.pickle', 'rb') as handle:\n",
        "  E_model = pickle.load(handle)\n",
        "\n",
        "test_loss, y_test_gold, y_test_pred = eval_lstm(test_loader, E_model, criterion)\n",
        "\n",
        "print(f\"Test Loss for EarlyBiLSTM: {test_loss}\")\n",
        "print(f\"Accuracy Score for EarlyBiLSTM: {accuracy_score(y_test_gold, y_test_pred)}\")\n",
        "print(f\"F1 Score for EarlyBiLSTM: {f1_score(y_test_gold, y_test_pred, average='macro')}\")\n",
        "print(f\"Recall Score for EarlyBiLSTM: {recall_score(y_test_gold, y_test_pred, average='macro')}\")"
      ]
    },
    {
      "cell_type": "code",
      "execution_count": null,
      "metadata": {
        "colab": {
          "base_uri": "https://localhost:8080/",
          "height": 369
        },
        "id": "S2-p4Ta5aUoE",
        "outputId": "ea79a680-4dff-45da-dbad-69e94fa0a471"
      },
      "outputs": [
        {
          "data": {
            "image/png": "[encoded data removed]",
            "text/plain": [
              "<Figure size 432x360 with 2 Axes>"
            ]
          },
          "metadata": {},
          "output_type": "display_data"
        }
      ],
      "source": [
        "plot_conf_mat(y_test_gold,y_test_pred,'EarlyBiLSTM')"
      ]
    },
    {
      "cell_type": "markdown",
      "metadata": {
        "id": "ZNiwlVWjYtHl"
      },
      "source": [
        "#### SubTask 8 (Bonus) - Complexity Improvement"
      ]
    },
    {
      "cell_type": "code",
      "execution_count": null,
      "metadata": {
        "id": "q_-e0ix7eV7a"
      },
      "outputs": [],
      "source": [
        "# Define the additional training parameter for pack_padded_sequence implementation\n",
        "pack_padded_sequence = True"
      ]
    },
    {
      "cell_type": "markdown",
      "metadata": {
        "id": "8vZtElOoYtHm"
      },
      "source": [
        "###### Training of ImprovedEarlyBiLSTM"
      ]
    },
    {
      "cell_type": "code",
      "execution_count": null,
      "metadata": {
        "colab": {
          "base_uri": "https://localhost:8080/",
          "height": 1000
        },
        "id": "17Tjez5YYtHm",
        "outputId": "c70df202-87d2-4b91-96c6-4e7934a70a90"
      },
      "outputs": [
        {
          "name": "stderr",
          "output_type": "stream",
          "text": [
            "\n",
            "\n",
            "  0%|          | 0/30 [00:00<?, ?it/s]\u001b[A\u001b[A"
          ]
        },
        {
          "name": "stdout",
          "output_type": "stream",
          "text": [
            " [========================================] ...Epoch 1, Loss: 1.4398\n",
            "Statistics for the Train Set\n",
            "\t Epoch: 1 \t Accuracy Score: 0.663425925925926\n",
            "\t Epoch: 1 \t f1 Score: 0.6438082238939674\n"
          ]
        },
        {
          "name": "stderr",
          "output_type": "stream",
          "text": [
            "\n",
            "\n",
            "  3%|▎         | 1/30 [00:06<02:58,  6.15s/it]\u001b[A\u001b[A"
          ]
        },
        {
          "name": "stdout",
          "output_type": "stream",
          "text": [
            "\t Epoch: 1 \t recall Score: 0.6634259259259259\n",
            "Statistics for the Dev Set\n",
            "\t Epoch: 1 \t loss: 1.127620496623957\n",
            "\t Epoch: 1 \t Accuracy Score: 0.6574074074074074\n",
            "\t Epoch: 1 \t f1 Score: 0.6357397062924843\n",
            "\t Epoch: 1 \t recall Score: 0.6574074074074073\n",
            "Test loss decreased (inf --> 1.127620).  Saving model ...\n",
            "Epoch total time 6.152974367141724\n",
            " [========================================] ...Epoch 2, Loss: 0.9977\n",
            "Statistics for the Train Set\n",
            "\t Epoch: 2 \t Accuracy Score: 0.7523148148148148\n",
            "\t Epoch: 2 \t f1 Score: 0.7536428862195604\n"
          ]
        },
        {
          "name": "stderr",
          "output_type": "stream",
          "text": [
            "\n",
            "\n",
            "  7%|▋         | 2/30 [00:12<02:51,  6.14s/it]\u001b[A\u001b[A"
          ]
        },
        {
          "name": "stdout",
          "output_type": "stream",
          "text": [
            "\t Epoch: 2 \t recall Score: 0.7523148148148149\n",
            "Statistics for the Dev Set\n",
            "\t Epoch: 2 \t loss: 0.8603539515799458\n",
            "\t Epoch: 2 \t Accuracy Score: 0.7240740740740741\n",
            "\t Epoch: 2 \t f1 Score: 0.7257859067737306\n",
            "\t Epoch: 2 \t recall Score: 0.7240740740740741\n",
            "Test loss decreased (1.127620 --> 0.860354).  Saving model ...\n",
            "Epoch total time 6.107736110687256\n",
            " [========================================] ...Epoch 3, Loss: 0.9999\n",
            "Statistics for the Train Set\n",
            "\t Epoch: 3 \t Accuracy Score: 0.8300925925925926\n",
            "\t Epoch: 3 \t f1 Score: 0.8296389242478721\n",
            "\t Epoch: 3 \t recall Score: 0.8300925925925927\n"
          ]
        },
        {
          "name": "stderr",
          "output_type": "stream",
          "text": [
            "\n",
            "\n",
            " 10%|█         | 3/30 [00:18<02:46,  6.16s/it]\u001b[A\u001b[A"
          ]
        },
        {
          "name": "stdout",
          "output_type": "stream",
          "text": [
            "Statistics for the Dev Set\n",
            "\t Epoch: 3 \t loss: 0.7572299878766464\n",
            "\t Epoch: 3 \t Accuracy Score: 0.8018518518518518\n",
            "\t Epoch: 3 \t f1 Score: 0.8013810104616386\n",
            "\t Epoch: 3 \t recall Score: 0.8018518518518519\n",
            "Test loss decreased (0.860354 --> 0.757230).  Saving model ...\n",
            "Epoch total time 6.19957971572876\n",
            " [========================================] ...Epoch 4, Loss: 0.7973\n",
            "Statistics for the Train Set\n",
            "\t Epoch: 4 \t Accuracy Score: 0.8986111111111111\n",
            "\t Epoch: 4 \t f1 Score: 0.8982835334824821\n"
          ]
        },
        {
          "name": "stderr",
          "output_type": "stream",
          "text": [
            "\n",
            "\n",
            " 13%|█▎        | 4/30 [00:24<02:39,  6.15s/it]\u001b[A\u001b[A"
          ]
        },
        {
          "name": "stdout",
          "output_type": "stream",
          "text": [
            "\t Epoch: 4 \t recall Score: 0.898611111111111\n",
            "Statistics for the Dev Set\n",
            "\t Epoch: 4 \t loss: 0.456404703291307\n",
            "\t Epoch: 4 \t Accuracy Score: 0.8888888888888888\n",
            "\t Epoch: 4 \t f1 Score: 0.8877469263911746\n",
            "\t Epoch: 4 \t recall Score: 0.8888888888888887\n",
            "Test loss decreased (0.757230 --> 0.456405).  Saving model ...\n",
            "Epoch total time 6.121302604675293\n",
            " [========================================] ...Epoch 5, Loss: 0.7132\n",
            "Statistics for the Train Set\n",
            "\t Epoch: 5 \t Accuracy Score: 0.9101851851851852\n",
            "\t Epoch: 5 \t f1 Score: 0.9104415229569087\n"
          ]
        },
        {
          "name": "stderr",
          "output_type": "stream",
          "text": [
            "\n",
            "\n",
            " 17%|█▋        | 5/30 [00:30<02:33,  6.13s/it]\u001b[A\u001b[A"
          ]
        },
        {
          "name": "stdout",
          "output_type": "stream",
          "text": [
            "\t Epoch: 5 \t recall Score: 0.9101851851851851\n",
            "Statistics for the Dev Set\n",
            "\t Epoch: 5 \t loss: 0.4117714778234812\n",
            "\t Epoch: 5 \t Accuracy Score: 0.8851851851851852\n",
            "\t Epoch: 5 \t f1 Score: 0.8854940649993157\n",
            "\t Epoch: 5 \t recall Score: 0.8851851851851851\n",
            "Test loss decreased (0.456405 --> 0.411771).  Saving model ...\n",
            "Epoch total time 6.086381912231445\n",
            " [========================================] ...Epoch 6, Loss: 0.6410\n",
            "Statistics for the Train Set\n",
            "\t Epoch: 6 \t Accuracy Score: 0.9319444444444445\n",
            "\t Epoch: 6 \t f1 Score: 0.9313586781200043\n",
            "\t Epoch: 6 \t recall Score: 0.9319444444444442\n"
          ]
        },
        {
          "name": "stderr",
          "output_type": "stream",
          "text": [
            "\n",
            "\n",
            " 20%|██        | 6/30 [00:36<02:27,  6.13s/it]\u001b[A\u001b[A"
          ]
        },
        {
          "name": "stdout",
          "output_type": "stream",
          "text": [
            "Statistics for the Dev Set\n",
            "\t Epoch: 6 \t loss: 0.3134669783964433\n",
            "\t Epoch: 6 \t Accuracy Score: 0.9259259259259259\n",
            "\t Epoch: 6 \t f1 Score: 0.9252677272319956\n",
            "\t Epoch: 6 \t recall Score: 0.9259259259259259\n",
            "Test loss decreased (0.411771 --> 0.313467).  Saving model ...\n",
            "Epoch total time 6.109086275100708\n",
            " [========================================] ...Epoch 7, Loss: 0.4202\n",
            "Statistics for the Train Set\n",
            "\t Epoch: 7 \t Accuracy Score: 0.9319444444444445\n",
            "\t Epoch: 7 \t f1 Score: 0.9316354376070152\n"
          ]
        },
        {
          "name": "stderr",
          "output_type": "stream",
          "text": [
            "\n",
            "\n",
            " 23%|██▎       | 7/30 [00:42<02:20,  6.10s/it]\u001b[A\u001b[A"
          ]
        },
        {
          "name": "stdout",
          "output_type": "stream",
          "text": [
            "\t Epoch: 7 \t recall Score: 0.9319444444444445\n",
            "Statistics for the Dev Set\n",
            "\t Epoch: 7 \t loss: 0.2989250001267126\n",
            "\t Epoch: 7 \t Accuracy Score: 0.9092592592592592\n",
            "\t Epoch: 7 \t f1 Score: 0.9085386501217302\n",
            "\t Epoch: 7 \t recall Score: 0.9092592592592593\n",
            "Test loss decreased (0.313467 --> 0.298925).  Saving model ...\n",
            "Epoch total time 6.035384654998779\n",
            " [========================================] ...Epoch 8, Loss: 0.4147\n",
            "Statistics for the Train Set\n",
            "\t Epoch: 8 \t Accuracy Score: 0.9486111111111111\n",
            "\t Epoch: 8 \t f1 Score: 0.9480472619067692\n"
          ]
        },
        {
          "name": "stderr",
          "output_type": "stream",
          "text": [
            "\n",
            "\n",
            " 27%|██▋       | 8/30 [00:48<02:12,  6.04s/it]\u001b[A\u001b[A"
          ]
        },
        {
          "name": "stdout",
          "output_type": "stream",
          "text": [
            "\t Epoch: 8 \t recall Score: 0.9486111111111111\n",
            "Statistics for the Dev Set\n",
            "\t Epoch: 8 \t loss: 0.2724716647536852\n",
            "\t Epoch: 8 \t Accuracy Score: 0.9259259259259259\n",
            "\t Epoch: 8 \t f1 Score: 0.9249812223124794\n",
            "\t Epoch: 8 \t recall Score: 0.9259259259259259\n",
            "Test loss decreased (0.298925 --> 0.272472).  Saving model ...\n",
            "Epoch total time 5.892273664474487\n",
            " [========================================] ...Epoch 9, Loss: 0.3997\n",
            "Statistics for the Train Set\n",
            "\t Epoch: 9 \t Accuracy Score: 0.9680555555555556\n",
            "\t Epoch: 9 \t f1 Score: 0.9678682761804284\n"
          ]
        },
        {
          "name": "stderr",
          "output_type": "stream",
          "text": [
            "\n",
            "\n",
            " 30%|███       | 9/30 [00:54<02:07,  6.07s/it]\u001b[A\u001b[A"
          ]
        },
        {
          "name": "stdout",
          "output_type": "stream",
          "text": [
            "\t Epoch: 9 \t recall Score: 0.9680555555555556\n",
            "Statistics for the Dev Set\n",
            "\t Epoch: 9 \t loss: 0.14042257918869788\n",
            "\t Epoch: 9 \t Accuracy Score: 0.9555555555555556\n",
            "\t Epoch: 9 \t f1 Score: 0.9550054794061319\n",
            "\t Epoch: 9 \t recall Score: 0.9555555555555555\n",
            "Test loss decreased (0.272472 --> 0.140423).  Saving model ...\n",
            "Epoch total time 6.117371320724487\n",
            " [========================================] ...Epoch 10, Loss: 0.3234\n",
            "Statistics for the Train Set\n",
            "\t Epoch: 10 \t Accuracy Score: 0.9800925925925926\n",
            "\t Epoch: 10 \t f1 Score: 0.9801124440344902\n"
          ]
        },
        {
          "name": "stderr",
          "output_type": "stream",
          "text": [
            "\n",
            "\n",
            " 33%|███▎      | 10/30 [01:01<02:02,  6.12s/it]\u001b[A\u001b[A"
          ]
        },
        {
          "name": "stdout",
          "output_type": "stream",
          "text": [
            "\t Epoch: 10 \t recall Score: 0.9800925925925925\n",
            "Statistics for the Dev Set\n",
            "\t Epoch: 10 \t loss: 0.09486000723278502\n",
            "\t Epoch: 10 \t Accuracy Score: 0.975925925925926\n",
            "\t Epoch: 10 \t f1 Score: 0.9760225523936574\n",
            "\t Epoch: 10 \t recall Score: 0.975925925925926\n",
            "Test loss decreased (0.140423 --> 0.094860).  Saving model ...\n",
            "Epoch total time 6.242188930511475\n",
            " [========================================] ...Epoch 11, Loss: 0.3978\n",
            "Statistics for the Train Set\n",
            "\t Epoch: 11 \t Accuracy Score: 0.9625\n",
            "\t Epoch: 11 \t f1 Score: 0.9623833095556616\n"
          ]
        },
        {
          "name": "stderr",
          "output_type": "stream",
          "text": [
            "\n",
            "\n",
            " 37%|███▋      | 11/30 [01:07<01:56,  6.13s/it]\u001b[A\u001b[A"
          ]
        },
        {
          "name": "stdout",
          "output_type": "stream",
          "text": [
            "\t Epoch: 11 \t recall Score: 0.9625\n",
            "Statistics for the Dev Set\n",
            "\t Epoch: 11 \t loss: 0.17562158778524903\n",
            "\t Epoch: 11 \t Accuracy Score: 0.9444444444444444\n",
            "\t Epoch: 11 \t f1 Score: 0.9440306336643938\n",
            "\t Epoch: 11 \t recall Score: 0.9444444444444444\n",
            "EarlyStopping counter: 1 out of 3\n",
            "Epoch total time 6.1328582763671875\n",
            " [========================================] ...Epoch 12, Loss: 0.3125\n",
            "Statistics for the Train Set\n",
            "\t Epoch: 12 \t Accuracy Score: 0.9740740740740741\n",
            "\t Epoch: 12 \t f1 Score: 0.9740196766670355\n"
          ]
        },
        {
          "name": "stderr",
          "output_type": "stream",
          "text": [
            "\n",
            "\n",
            " 40%|████      | 12/30 [01:13<01:49,  6.09s/it]\u001b[A\u001b[A"
          ]
        },
        {
          "name": "stdout",
          "output_type": "stream",
          "text": [
            "\t Epoch: 12 \t recall Score: 0.9740740740740741\n",
            "Statistics for the Dev Set\n",
            "\t Epoch: 12 \t loss: 0.14114251734068642\n",
            "\t Epoch: 12 \t Accuracy Score: 0.9537037037037037\n",
            "\t Epoch: 12 \t f1 Score: 0.9537449997525117\n",
            "\t Epoch: 12 \t recall Score: 0.9537037037037038\n",
            "EarlyStopping counter: 2 out of 3\n",
            "Epoch total time 5.974110126495361\n",
            " [========================================] ...Epoch 13, Loss: 0.3313\n",
            "Statistics for the Train Set\n",
            "\t Epoch: 13 \t Accuracy Score: 0.9875\n",
            "\t Epoch: 13 \t f1 Score: 0.9874906038828419\n",
            "\t Epoch: 13 \t recall Score: 0.9875\n",
            "Statistics for the Dev Set\n",
            "\t Epoch: 13 \t loss: 0.09653526568568409\n",
            "\t Epoch: 13 \t Accuracy Score: 0.9777777777777777\n",
            "\t Epoch: 13 \t f1 Score: 0.9776879946293136\n",
            "\t Epoch: 13 \t recall Score: 0.9777777777777776\n",
            "EarlyStopping counter: 3 out of 3\n",
            "Training total time 73.17124795913696\n"
          ]
        },
        {
          "data": {
            "image/png": "[encoded data removed]",
            "text/plain": [
              "<Figure size 1440x360 with 4 Axes>"
            ]
          },
          "metadata": {},
          "output_type": "display_data"
        }
      ],
      "source": [
        "ImprovedEarlyBiNet = ClfLSTM(input_dim=INPUT_SIZE, rnn_size=HIDDEN_LAYER, output_dim=OUTPUT_SIZE, num_layers=NUM_LAYERS, dropout=dropout, pack_padded_sequence=pack_padded_sequence)\n",
        "\n",
        "# Make instance of our optimizer, with L2-Reguralization\n",
        "optimizer = optim.Adam(ImprovedEarlyBiNet.parameters(), lr=ETA, weight_decay=weight_decay)\n",
        "\n",
        "# Start the training process\n",
        "main(ImprovedEarlyBiNet, optimizer, criterion, train_loader, dev_loader, EPOCHS, net_name='ImprovedEarlyBiLSTM', PATIENCE=PATIENCE)"
      ]
    },
    {
      "cell_type": "markdown",
      "metadata": {
        "id": "HSj4ADkAYtHm"
      },
      "source": [
        "###### Testing of EarlyAdvancedNet"
      ]
    },
    {
      "cell_type": "code",
      "execution_count": null,
      "metadata": {
        "colab": {
          "base_uri": "https://localhost:8080/"
        },
        "id": "OkCvzi8hYtHm",
        "outputId": "eb6cd48a-5fcc-4c55-b91d-44b31f558724"
      },
      "outputs": [
        {
          "name": "stdout",
          "output_type": "stream",
          "text": [
            "Test Loss for ImprovedEarlyBiLSTM: 0.15796859542549946\n",
            "Accuracy Score for ImprovedEarlyBiLSTM: 0.9733333333333334\n",
            "F1 Score for ImprovedEarlyBiLSTM: 0.9732654676935952\n",
            "Recall Score for ImprovedEarlyBiLSTM: 0.9733333333333334\n"
          ]
        }
      ],
      "source": [
        "with open('./best_ImprovedEarlyBiLSTM.pickle', 'rb') as handle:\n",
        "  E_model = pickle.load(handle)\n",
        "\n",
        "test_loss, y_test_gold, y_test_pred = eval_lstm(test_loader, E_model, criterion)\n",
        "\n",
        "print(f\"Test Loss for ImprovedEarlyBiLSTM: {test_loss}\")\n",
        "print(f\"Accuracy Score for ImprovedEarlyBiLSTM: {accuracy_score(y_test_gold, y_test_pred)}\")\n",
        "print(f\"F1 Score for ImprovedEarlyBiLSTM: {f1_score(y_test_gold, y_test_pred, average='macro')}\")\n",
        "print(f\"Recall Score for ImprovedEarlyBiLSTM: {recall_score(y_test_gold, y_test_pred, average='macro')}\")"
      ]
    },
    {
      "cell_type": "code",
      "execution_count": null,
      "metadata": {
        "colab": {
          "base_uri": "https://localhost:8080/",
          "height": 369
        },
        "id": "Gvj6Gbn_1olN",
        "outputId": "123f860e-1ea8-48e7-c13e-078e31c8e468"
      },
      "outputs": [
        {
          "data": {
            "image/png": "[encoded data removed]",
            "text/plain": [
              "<Figure size 432x360 with 2 Axes>"
            ]
          },
          "metadata": {},
          "output_type": "display_data"
        }
      ],
      "source": [
        "plot_conf_mat(y_test_gold,y_test_pred,'ImprovedEarlyBiLSTM')"
      ]
    },
    {
      "cell_type": "code",
      "execution_count": null,
      "metadata": {
        "id": "IiryObXAzXj9"
      },
      "outputs": [],
      "source": []
    }
  ],
  "metadata": {
    "colab": {
      "collapsed_sections": [
        "h3prmW9vlCNN",
        "bL5rMf_PWO12",
        "4gIuqCXrX6Qp",
        "r-LlkUccWdNR",
        "8vZtElOoYtHm"
      ],
      "provenance": []
    },
    "kernelspec": {
      "display_name": "Python 3",
      "language": "python",
      "name": "python3"
    },
    "language_info": {
      "codemirror_mode": {
        "name": "ipython",
        "version": 3
      },
      "file_extension": ".py",
      "mimetype": "text/x-python",
      "name": "python",
      "nbconvert_exporter": "python",
      "pygments_lexer": "ipython3",
      "version": "3.7.12"
    }
  },
  "nbformat": 4,
  "nbformat_minor": 0
}
